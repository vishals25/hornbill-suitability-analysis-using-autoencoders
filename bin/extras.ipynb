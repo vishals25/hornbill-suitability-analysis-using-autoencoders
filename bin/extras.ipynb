{
 "cells": [
  {
   "cell_type": "code",
   "execution_count": null,
   "metadata": {},
   "outputs": [],
   "source": [
    "import plotly.graph_objects as go\n",
    "\n",
    "# Convert columns to categorical type\n",
    "migration_counts['previous_cluster'] = migration_counts['previous_cluster'].astype('category')\n",
    "migration_counts['cluster'] = migration_counts['cluster'].astype('category')\n",
    "\n",
    "# Set a constant value for the width of the paths\n",
    "constant_value = 1  # This sets the width of each path to be the same\n",
    "\n",
    "# Determine colors for incoming and outgoing links\n",
    "incoming_color = \"rgba(0, 0, 255, 0.5)\"  # blue color for incoming links\n",
    "outgoing_color = \"rgba(255, 0, 0, 0.5)\"  # red color for outgoing links\n",
    "\n",
    "# Create a list of colors for each link\n",
    "link_colors = []\n",
    "for _, row in migration_counts.iterrows():\n",
    "    if row['previous_cluster'] == row['cluster']:\n",
    "        link_colors.append(outgoing_color)\n",
    "    else:\n",
    "        link_colors.append(incoming_color)\n",
    "\n",
    "# Create a Sankey diagram\n",
    "fig = go.Figure(data=[go.Sankey(\n",
    "    node=dict(\n",
    "        pad=150,\n",
    "        thickness=20,\n",
    "        line=dict(color=\"black\", width=0.5),  # set the width of the node borders\n",
    "        label=migration_counts['previous_cluster'].unique().astype(str),\n",
    "        color=\"blue\"\n",
    "    ),\n",
    "    link=dict(\n",
    "        source=migration_counts['previous_cluster'].cat.codes,\n",
    "        target=migration_counts['cluster'].cat.codes,\n",
    "        value=[constant_value] * len(migration_counts),  # use a constant value for all links\n",
    "        color=link_colors  # set the colors of the links\n",
    "    )\n",
    ")])\n",
    "\n",
    "# Update the layout\n",
    "fig.update_layout(title_text=\"Cluster Migration Sankey Diagram\", font_size=15)\n",
    "\n",
    "# Show the plot\n",
    "fig.show()\n"
   ]
  },
  {
   "cell_type": "code",
   "execution_count": 1,
   "metadata": {},
   "outputs": [
    {
     "ename": "NameError",
     "evalue": "name 'constant_value' is not defined",
     "output_type": "error",
     "traceback": [
      "\u001b[1;31m---------------------------------------------------------------------------\u001b[0m",
      "\u001b[1;31mNameError\u001b[0m                                 Traceback (most recent call last)",
      "Cell \u001b[1;32mIn[1], line 65\u001b[0m\n\u001b[0;32m     51\u001b[0m target_indices \u001b[38;5;241m=\u001b[39m filtered_data[\u001b[38;5;124m'\u001b[39m\u001b[38;5;124mcluster\u001b[39m\u001b[38;5;124m'\u001b[39m]\u001b[38;5;241m.\u001b[39mmap(label_to_index)\n\u001b[0;32m     53\u001b[0m \u001b[38;5;66;03m# Create a Sankey diagram for the selected cluster\u001b[39;00m\n\u001b[0;32m     54\u001b[0m fig \u001b[38;5;241m=\u001b[39m go\u001b[38;5;241m.\u001b[39mFigure(data\u001b[38;5;241m=\u001b[39m[go\u001b[38;5;241m.\u001b[39mSankey(\n\u001b[0;32m     55\u001b[0m     node\u001b[38;5;241m=\u001b[39m\u001b[38;5;28mdict\u001b[39m(\n\u001b[0;32m     56\u001b[0m         pad\u001b[38;5;241m=\u001b[39m\u001b[38;5;241m15\u001b[39m,\n\u001b[0;32m     57\u001b[0m         thickness\u001b[38;5;241m=\u001b[39m\u001b[38;5;241m20\u001b[39m,\n\u001b[0;32m     58\u001b[0m         line\u001b[38;5;241m=\u001b[39m\u001b[38;5;28mdict\u001b[39m(color\u001b[38;5;241m=\u001b[39m\u001b[38;5;124m\"\u001b[39m\u001b[38;5;124mblack\u001b[39m\u001b[38;5;124m\"\u001b[39m, width\u001b[38;5;241m=\u001b[39m\u001b[38;5;241m0.5\u001b[39m),  \u001b[38;5;66;03m# Set the width of the node borders\u001b[39;00m\n\u001b[0;32m     59\u001b[0m         label\u001b[38;5;241m=\u001b[39mlabels\u001b[38;5;241m.\u001b[39mastype(\u001b[38;5;28mstr\u001b[39m),\n\u001b[0;32m     60\u001b[0m         color\u001b[38;5;241m=\u001b[39m\u001b[38;5;124m\"\u001b[39m\u001b[38;5;124mblue\u001b[39m\u001b[38;5;124m\"\u001b[39m\n\u001b[0;32m     61\u001b[0m     ),\n\u001b[0;32m     62\u001b[0m     link\u001b[38;5;241m=\u001b[39m\u001b[38;5;28mdict\u001b[39m(\n\u001b[0;32m     63\u001b[0m         source\u001b[38;5;241m=\u001b[39msource_indices,\n\u001b[0;32m     64\u001b[0m         target\u001b[38;5;241m=\u001b[39mtarget_indices,\n\u001b[1;32m---> 65\u001b[0m         value\u001b[38;5;241m=\u001b[39m[\u001b[43mconstant_value\u001b[49m] \u001b[38;5;241m*\u001b[39m \u001b[38;5;28mlen\u001b[39m(migration_counts),  \u001b[38;5;66;03m# Use the count values for link width\u001b[39;00m\n\u001b[0;32m     66\u001b[0m         color\u001b[38;5;241m=\u001b[39mlink_colors  \u001b[38;5;66;03m# Set the colors of the links\u001b[39;00m\n\u001b[0;32m     67\u001b[0m     )\n\u001b[0;32m     68\u001b[0m )])\n\u001b[0;32m     70\u001b[0m \u001b[38;5;66;03m# Update the layout\u001b[39;00m\n\u001b[0;32m     71\u001b[0m fig\u001b[38;5;241m.\u001b[39mupdate_layout(\n\u001b[0;32m     72\u001b[0m     title_text\u001b[38;5;241m=\u001b[39m\u001b[38;5;124mf\u001b[39m\u001b[38;5;124m\"\u001b[39m\u001b[38;5;124mCluster \u001b[39m\u001b[38;5;132;01m{\u001b[39;00mselected_cluster\u001b[38;5;132;01m}\u001b[39;00m\u001b[38;5;124m Migration Sankey Diagram\u001b[39m\u001b[38;5;124m\"\u001b[39m,\n\u001b[0;32m     73\u001b[0m     font_size\u001b[38;5;241m=\u001b[39m\u001b[38;5;241m15\u001b[39m\n\u001b[0;32m     74\u001b[0m )\n",
      "\u001b[1;31mNameError\u001b[0m: name 'constant_value' is not defined"
     ]
    }
   ],
   "source": [
    "import plotly.graph_objects as go\n",
    "import pandas as pd\n",
    "\n",
    "# Sample data for demonstration; replace with your actual migration_counts DataFrame\n",
    "data = {\n",
    "    'previous_cluster': [0.0, 1.0, 2.0, 2.0, 2.0, 3.0, 3.0],\n",
    "    'cluster': [3, 2, 0, 1, 3, 0, 2],\n",
    "    'count': [265, 1, 1, 1, 1, 265, 1]\n",
    "}\n",
    "migration_counts = pd.DataFrame(data)\n",
    "\n",
    "# Convert columns to categorical type\n",
    "migration_counts['previous_cluster'] = migration_counts['previous_cluster'].astype('category')\n",
    "migration_counts['cluster'] = migration_counts['cluster'].astype('category')\n",
    "\n",
    "# Define colors for incoming and outgoing links\n",
    "incoming_color = \"rgba(255, 0, 0, 0.5)\"  # Red color for incoming links\n",
    "outgoing_color = \"rgba(0, 0, 255, 0.5)\"  # Blue color for outgoing links\n",
    "\n",
    "# Get unique clusters\n",
    "clusters = pd.concat([migration_counts['previous_cluster'], migration_counts['cluster']]).unique()\n",
    "\n",
    "# Create plots for each cluster\n",
    "for selected_cluster in clusters:\n",
    "    # Filter the data for the selected cluster\n",
    "    incoming_data = migration_counts[migration_counts['cluster'] == selected_cluster]\n",
    "    outgoing_data = migration_counts[migration_counts['previous_cluster'] == selected_cluster]\n",
    "    \n",
    "    # Combine incoming and outgoing data\n",
    "    filtered_data = pd.concat([incoming_data, outgoing_data])\n",
    "    \n",
    "    # Set a constant width for all paths\n",
    "    constant_width = 10  # Adjust this value as needed for your plot\n",
    "    \n",
    "    # Create a list of colors for each link based on migration type\n",
    "    link_colors = []\n",
    "    for _, row in filtered_data.iterrows():\n",
    "        if row['cluster'] == selected_cluster:\n",
    "            link_colors.append(incoming_color)  # Color incoming links red\n",
    "        else:\n",
    "            link_colors.append(outgoing_color)  # Color outgoing links blue\n",
    "    \n",
    "    # Get unique labels for nodes\n",
    "    labels = pd.concat([filtered_data['previous_cluster'], filtered_data['cluster']]).unique()\n",
    "    \n",
    "    # Create a mapping of cluster labels to indices\n",
    "    label_to_index = {label: idx for idx, label in enumerate(labels)}\n",
    "    \n",
    "    # Map categorical codes to indices\n",
    "    source_indices = filtered_data['previous_cluster'].map(label_to_index)\n",
    "    target_indices = filtered_data['cluster'].map(label_to_index)\n",
    "    \n",
    "    # Create a Sankey diagram for the selected cluster\n",
    "    fig = go.Figure(data=[go.Sankey(\n",
    "        node=dict(\n",
    "            pad=15,\n",
    "            thickness=20,\n",
    "            line=dict(color=\"black\", width=0.5),  # Set the width of the node borders\n",
    "            label=labels.astype(str),\n",
    "            color=\"blue\"\n",
    "        ),\n",
    "        link=dict(\n",
    "            source=source_indices,\n",
    "            target=target_indices,\n",
    "            value=[constant_value] * len(migration_counts),  # Use the count values for link width\n",
    "            color=link_colors  # Set the colors of the links\n",
    "        )\n",
    "    )])\n",
    "    \n",
    "    # Update the layout\n",
    "    fig.update_layout(\n",
    "        title_text=f\"Cluster {selected_cluster} Migration Sankey Diagram\",\n",
    "        font_size=15\n",
    "    )\n",
    "    \n",
    "    # Show the plot\n",
    "    fig.show()\n"
   ]
  },
  {
   "cell_type": "code",
   "execution_count": 17,
   "metadata": {},
   "outputs": [
    {
     "data": {
      "application/vnd.plotly.v1+json": {
       "config": {
        "plotlyServerURL": "https://plot.ly"
       },
       "data": [
        {
         "hovertemplate": "Species=Buceros bicornis<br>cluster=0<br>month=%{x}<br>year_str=%{y}<extra></extra>",
         "legendgroup": "Buceros bicornis",
         "marker": {
          "color": "#636EFA",
          "symbol": "circle"
         },
         "mode": "markers",
         "name": "Buceros bicornis",
         "orientation": "h",
         "showlegend": true,
         "type": "scatter",
         "x": [
          1,
          2,
          3,
          4,
          5
         ],
         "xaxis": "x",
         "y": [
          "2016",
          "2016",
          "2016",
          "2016",
          "2016"
         ],
         "yaxis": "y"
        },
        {
         "hovertemplate": "Species=Buceros bicornis<br>cluster=1<br>month=%{x}<br>year_str=%{y}<extra></extra>",
         "legendgroup": "Buceros bicornis",
         "marker": {
          "color": "#636EFA",
          "symbol": "circle"
         },
         "mode": "markers",
         "name": "Buceros bicornis",
         "orientation": "h",
         "showlegend": false,
         "type": "scatter",
         "x": [
          11,
          12
         ],
         "xaxis": "x2",
         "y": [
          "2015",
          "2015"
         ],
         "yaxis": "y2"
        },
        {
         "hovertemplate": "Species=Buceros bicornis<br>cluster=2<br>month=%{x}<br>year_str=%{y}<extra></extra>",
         "legendgroup": "Buceros bicornis",
         "marker": {
          "color": "#636EFA",
          "symbol": "circle"
         },
         "mode": "markers",
         "name": "Buceros bicornis",
         "orientation": "h",
         "showlegend": false,
         "type": "scatter",
         "x": [
          3,
          4,
          5,
          11,
          12
         ],
         "xaxis": "x3",
         "y": [
          "2015",
          "2015",
          "2015",
          "2015",
          "2015"
         ],
         "yaxis": "y3"
        },
        {
         "hovertemplate": "Species=Buceros bicornis<br>cluster=3<br>month=%{x}<br>year_str=%{y}<extra></extra>",
         "legendgroup": "Buceros bicornis",
         "marker": {
          "color": "#636EFA",
          "symbol": "circle"
         },
         "mode": "markers",
         "name": "Buceros bicornis",
         "orientation": "h",
         "showlegend": false,
         "type": "scatter",
         "x": [
          4,
          5
         ],
         "xaxis": "x4",
         "y": [
          "2016",
          "2016"
         ],
         "yaxis": "y4"
        },
        {
         "hovertemplate": "Species=Rhyticeros undulatus<br>cluster=2<br>month=%{x}<br>year_str=%{y}<extra></extra>",
         "legendgroup": "Rhyticeros undulatus",
         "marker": {
          "color": "#EF553B",
          "symbol": "square"
         },
         "mode": "markers",
         "name": "Rhyticeros undulatus",
         "orientation": "h",
         "showlegend": true,
         "type": "scatter",
         "x": [
          3,
          4,
          5,
          6
         ],
         "xaxis": "x3",
         "y": [
          "2015",
          "2015",
          "2015",
          "2015"
         ],
         "yaxis": "y3"
        },
        {
         "hovertemplate": "Species=Rhyticeros undulatus<br>cluster=3<br>month=%{x}<br>year_str=%{y}<extra></extra>",
         "legendgroup": "Rhyticeros undulatus",
         "marker": {
          "color": "#EF553B",
          "symbol": "square"
         },
         "mode": "markers",
         "name": "Rhyticeros undulatus",
         "orientation": "h",
         "showlegend": false,
         "type": "scatter",
         "x": [
          4
         ],
         "xaxis": "x4",
         "y": [
          "2015"
         ],
         "yaxis": "y4"
        }
       ],
       "layout": {
        "annotations": [
         {
          "font": {},
          "showarrow": false,
          "text": "cluster=0",
          "x": 0.1175,
          "xanchor": "center",
          "xref": "paper",
          "y": 1,
          "yanchor": "bottom",
          "yref": "paper"
         },
         {
          "font": {},
          "showarrow": false,
          "text": "cluster=1",
          "x": 0.3725,
          "xanchor": "center",
          "xref": "paper",
          "y": 1,
          "yanchor": "bottom",
          "yref": "paper"
         },
         {
          "font": {},
          "showarrow": false,
          "text": "cluster=2",
          "x": 0.6275,
          "xanchor": "center",
          "xref": "paper",
          "y": 1,
          "yanchor": "bottom",
          "yref": "paper"
         },
         {
          "font": {},
          "showarrow": false,
          "text": "cluster=3",
          "x": 0.8824999999999998,
          "xanchor": "center",
          "xref": "paper",
          "y": 1,
          "yanchor": "bottom",
          "yref": "paper"
         }
        ],
        "legend": {
         "title": {
          "text": "Species"
         },
         "tracegroupgap": 0
        },
        "template": {
         "data": {
          "bar": [
           {
            "error_x": {
             "color": "#2a3f5f"
            },
            "error_y": {
             "color": "#2a3f5f"
            },
            "marker": {
             "line": {
              "color": "#E5ECF6",
              "width": 0.5
             },
             "pattern": {
              "fillmode": "overlay",
              "size": 10,
              "solidity": 0.2
             }
            },
            "type": "bar"
           }
          ],
          "barpolar": [
           {
            "marker": {
             "line": {
              "color": "#E5ECF6",
              "width": 0.5
             },
             "pattern": {
              "fillmode": "overlay",
              "size": 10,
              "solidity": 0.2
             }
            },
            "type": "barpolar"
           }
          ],
          "carpet": [
           {
            "aaxis": {
             "endlinecolor": "#2a3f5f",
             "gridcolor": "white",
             "linecolor": "white",
             "minorgridcolor": "white",
             "startlinecolor": "#2a3f5f"
            },
            "baxis": {
             "endlinecolor": "#2a3f5f",
             "gridcolor": "white",
             "linecolor": "white",
             "minorgridcolor": "white",
             "startlinecolor": "#2a3f5f"
            },
            "type": "carpet"
           }
          ],
          "choropleth": [
           {
            "colorbar": {
             "outlinewidth": 0,
             "ticks": ""
            },
            "type": "choropleth"
           }
          ],
          "contour": [
           {
            "colorbar": {
             "outlinewidth": 0,
             "ticks": ""
            },
            "colorscale": [
             [
              0,
              "#0d0887"
             ],
             [
              0.1111111111111111,
              "#46039f"
             ],
             [
              0.2222222222222222,
              "#7201a8"
             ],
             [
              0.3333333333333333,
              "#9c179e"
             ],
             [
              0.4444444444444444,
              "#bd3786"
             ],
             [
              0.5555555555555556,
              "#d8576b"
             ],
             [
              0.6666666666666666,
              "#ed7953"
             ],
             [
              0.7777777777777778,
              "#fb9f3a"
             ],
             [
              0.8888888888888888,
              "#fdca26"
             ],
             [
              1,
              "#f0f921"
             ]
            ],
            "type": "contour"
           }
          ],
          "contourcarpet": [
           {
            "colorbar": {
             "outlinewidth": 0,
             "ticks": ""
            },
            "type": "contourcarpet"
           }
          ],
          "heatmap": [
           {
            "colorbar": {
             "outlinewidth": 0,
             "ticks": ""
            },
            "colorscale": [
             [
              0,
              "#0d0887"
             ],
             [
              0.1111111111111111,
              "#46039f"
             ],
             [
              0.2222222222222222,
              "#7201a8"
             ],
             [
              0.3333333333333333,
              "#9c179e"
             ],
             [
              0.4444444444444444,
              "#bd3786"
             ],
             [
              0.5555555555555556,
              "#d8576b"
             ],
             [
              0.6666666666666666,
              "#ed7953"
             ],
             [
              0.7777777777777778,
              "#fb9f3a"
             ],
             [
              0.8888888888888888,
              "#fdca26"
             ],
             [
              1,
              "#f0f921"
             ]
            ],
            "type": "heatmap"
           }
          ],
          "heatmapgl": [
           {
            "colorbar": {
             "outlinewidth": 0,
             "ticks": ""
            },
            "colorscale": [
             [
              0,
              "#0d0887"
             ],
             [
              0.1111111111111111,
              "#46039f"
             ],
             [
              0.2222222222222222,
              "#7201a8"
             ],
             [
              0.3333333333333333,
              "#9c179e"
             ],
             [
              0.4444444444444444,
              "#bd3786"
             ],
             [
              0.5555555555555556,
              "#d8576b"
             ],
             [
              0.6666666666666666,
              "#ed7953"
             ],
             [
              0.7777777777777778,
              "#fb9f3a"
             ],
             [
              0.8888888888888888,
              "#fdca26"
             ],
             [
              1,
              "#f0f921"
             ]
            ],
            "type": "heatmapgl"
           }
          ],
          "histogram": [
           {
            "marker": {
             "pattern": {
              "fillmode": "overlay",
              "size": 10,
              "solidity": 0.2
             }
            },
            "type": "histogram"
           }
          ],
          "histogram2d": [
           {
            "colorbar": {
             "outlinewidth": 0,
             "ticks": ""
            },
            "colorscale": [
             [
              0,
              "#0d0887"
             ],
             [
              0.1111111111111111,
              "#46039f"
             ],
             [
              0.2222222222222222,
              "#7201a8"
             ],
             [
              0.3333333333333333,
              "#9c179e"
             ],
             [
              0.4444444444444444,
              "#bd3786"
             ],
             [
              0.5555555555555556,
              "#d8576b"
             ],
             [
              0.6666666666666666,
              "#ed7953"
             ],
             [
              0.7777777777777778,
              "#fb9f3a"
             ],
             [
              0.8888888888888888,
              "#fdca26"
             ],
             [
              1,
              "#f0f921"
             ]
            ],
            "type": "histogram2d"
           }
          ],
          "histogram2dcontour": [
           {
            "colorbar": {
             "outlinewidth": 0,
             "ticks": ""
            },
            "colorscale": [
             [
              0,
              "#0d0887"
             ],
             [
              0.1111111111111111,
              "#46039f"
             ],
             [
              0.2222222222222222,
              "#7201a8"
             ],
             [
              0.3333333333333333,
              "#9c179e"
             ],
             [
              0.4444444444444444,
              "#bd3786"
             ],
             [
              0.5555555555555556,
              "#d8576b"
             ],
             [
              0.6666666666666666,
              "#ed7953"
             ],
             [
              0.7777777777777778,
              "#fb9f3a"
             ],
             [
              0.8888888888888888,
              "#fdca26"
             ],
             [
              1,
              "#f0f921"
             ]
            ],
            "type": "histogram2dcontour"
           }
          ],
          "mesh3d": [
           {
            "colorbar": {
             "outlinewidth": 0,
             "ticks": ""
            },
            "type": "mesh3d"
           }
          ],
          "parcoords": [
           {
            "line": {
             "colorbar": {
              "outlinewidth": 0,
              "ticks": ""
             }
            },
            "type": "parcoords"
           }
          ],
          "pie": [
           {
            "automargin": true,
            "type": "pie"
           }
          ],
          "scatter": [
           {
            "fillpattern": {
             "fillmode": "overlay",
             "size": 10,
             "solidity": 0.2
            },
            "type": "scatter"
           }
          ],
          "scatter3d": [
           {
            "line": {
             "colorbar": {
              "outlinewidth": 0,
              "ticks": ""
             }
            },
            "marker": {
             "colorbar": {
              "outlinewidth": 0,
              "ticks": ""
             }
            },
            "type": "scatter3d"
           }
          ],
          "scattercarpet": [
           {
            "marker": {
             "colorbar": {
              "outlinewidth": 0,
              "ticks": ""
             }
            },
            "type": "scattercarpet"
           }
          ],
          "scattergeo": [
           {
            "marker": {
             "colorbar": {
              "outlinewidth": 0,
              "ticks": ""
             }
            },
            "type": "scattergeo"
           }
          ],
          "scattergl": [
           {
            "marker": {
             "colorbar": {
              "outlinewidth": 0,
              "ticks": ""
             }
            },
            "type": "scattergl"
           }
          ],
          "scattermapbox": [
           {
            "marker": {
             "colorbar": {
              "outlinewidth": 0,
              "ticks": ""
             }
            },
            "type": "scattermapbox"
           }
          ],
          "scatterpolar": [
           {
            "marker": {
             "colorbar": {
              "outlinewidth": 0,
              "ticks": ""
             }
            },
            "type": "scatterpolar"
           }
          ],
          "scatterpolargl": [
           {
            "marker": {
             "colorbar": {
              "outlinewidth": 0,
              "ticks": ""
             }
            },
            "type": "scatterpolargl"
           }
          ],
          "scatterternary": [
           {
            "marker": {
             "colorbar": {
              "outlinewidth": 0,
              "ticks": ""
             }
            },
            "type": "scatterternary"
           }
          ],
          "surface": [
           {
            "colorbar": {
             "outlinewidth": 0,
             "ticks": ""
            },
            "colorscale": [
             [
              0,
              "#0d0887"
             ],
             [
              0.1111111111111111,
              "#46039f"
             ],
             [
              0.2222222222222222,
              "#7201a8"
             ],
             [
              0.3333333333333333,
              "#9c179e"
             ],
             [
              0.4444444444444444,
              "#bd3786"
             ],
             [
              0.5555555555555556,
              "#d8576b"
             ],
             [
              0.6666666666666666,
              "#ed7953"
             ],
             [
              0.7777777777777778,
              "#fb9f3a"
             ],
             [
              0.8888888888888888,
              "#fdca26"
             ],
             [
              1,
              "#f0f921"
             ]
            ],
            "type": "surface"
           }
          ],
          "table": [
           {
            "cells": {
             "fill": {
              "color": "#EBF0F8"
             },
             "line": {
              "color": "white"
             }
            },
            "header": {
             "fill": {
              "color": "#C8D4E3"
             },
             "line": {
              "color": "white"
             }
            },
            "type": "table"
           }
          ]
         },
         "layout": {
          "annotationdefaults": {
           "arrowcolor": "#2a3f5f",
           "arrowhead": 0,
           "arrowwidth": 1
          },
          "autotypenumbers": "strict",
          "coloraxis": {
           "colorbar": {
            "outlinewidth": 0,
            "ticks": ""
           }
          },
          "colorscale": {
           "diverging": [
            [
             0,
             "#8e0152"
            ],
            [
             0.1,
             "#c51b7d"
            ],
            [
             0.2,
             "#de77ae"
            ],
            [
             0.3,
             "#f1b6da"
            ],
            [
             0.4,
             "#fde0ef"
            ],
            [
             0.5,
             "#f7f7f7"
            ],
            [
             0.6,
             "#e6f5d0"
            ],
            [
             0.7,
             "#b8e186"
            ],
            [
             0.8,
             "#7fbc41"
            ],
            [
             0.9,
             "#4d9221"
            ],
            [
             1,
             "#276419"
            ]
           ],
           "sequential": [
            [
             0,
             "#0d0887"
            ],
            [
             0.1111111111111111,
             "#46039f"
            ],
            [
             0.2222222222222222,
             "#7201a8"
            ],
            [
             0.3333333333333333,
             "#9c179e"
            ],
            [
             0.4444444444444444,
             "#bd3786"
            ],
            [
             0.5555555555555556,
             "#d8576b"
            ],
            [
             0.6666666666666666,
             "#ed7953"
            ],
            [
             0.7777777777777778,
             "#fb9f3a"
            ],
            [
             0.8888888888888888,
             "#fdca26"
            ],
            [
             1,
             "#f0f921"
            ]
           ],
           "sequentialminus": [
            [
             0,
             "#0d0887"
            ],
            [
             0.1111111111111111,
             "#46039f"
            ],
            [
             0.2222222222222222,
             "#7201a8"
            ],
            [
             0.3333333333333333,
             "#9c179e"
            ],
            [
             0.4444444444444444,
             "#bd3786"
            ],
            [
             0.5555555555555556,
             "#d8576b"
            ],
            [
             0.6666666666666666,
             "#ed7953"
            ],
            [
             0.7777777777777778,
             "#fb9f3a"
            ],
            [
             0.8888888888888888,
             "#fdca26"
            ],
            [
             1,
             "#f0f921"
            ]
           ]
          },
          "colorway": [
           "#636efa",
           "#EF553B",
           "#00cc96",
           "#ab63fa",
           "#FFA15A",
           "#19d3f3",
           "#FF6692",
           "#B6E880",
           "#FF97FF",
           "#FECB52"
          ],
          "font": {
           "color": "#2a3f5f"
          },
          "geo": {
           "bgcolor": "white",
           "lakecolor": "white",
           "landcolor": "#E5ECF6",
           "showlakes": true,
           "showland": true,
           "subunitcolor": "white"
          },
          "hoverlabel": {
           "align": "left"
          },
          "hovermode": "closest",
          "mapbox": {
           "style": "light"
          },
          "paper_bgcolor": "white",
          "plot_bgcolor": "#E5ECF6",
          "polar": {
           "angularaxis": {
            "gridcolor": "white",
            "linecolor": "white",
            "ticks": ""
           },
           "bgcolor": "#E5ECF6",
           "radialaxis": {
            "gridcolor": "white",
            "linecolor": "white",
            "ticks": ""
           }
          },
          "scene": {
           "xaxis": {
            "backgroundcolor": "#E5ECF6",
            "gridcolor": "white",
            "gridwidth": 2,
            "linecolor": "white",
            "showbackground": true,
            "ticks": "",
            "zerolinecolor": "white"
           },
           "yaxis": {
            "backgroundcolor": "#E5ECF6",
            "gridcolor": "white",
            "gridwidth": 2,
            "linecolor": "white",
            "showbackground": true,
            "ticks": "",
            "zerolinecolor": "white"
           },
           "zaxis": {
            "backgroundcolor": "#E5ECF6",
            "gridcolor": "white",
            "gridwidth": 2,
            "linecolor": "white",
            "showbackground": true,
            "ticks": "",
            "zerolinecolor": "white"
           }
          },
          "shapedefaults": {
           "line": {
            "color": "#2a3f5f"
           }
          },
          "ternary": {
           "aaxis": {
            "gridcolor": "white",
            "linecolor": "white",
            "ticks": ""
           },
           "baxis": {
            "gridcolor": "white",
            "linecolor": "white",
            "ticks": ""
           },
           "bgcolor": "#E5ECF6",
           "caxis": {
            "gridcolor": "white",
            "linecolor": "white",
            "ticks": ""
           }
          },
          "title": {
           "x": 0.05
          },
          "xaxis": {
           "automargin": true,
           "gridcolor": "white",
           "linecolor": "white",
           "ticks": "",
           "title": {
            "standoff": 15
           },
           "zerolinecolor": "white",
           "zerolinewidth": 2
          },
          "yaxis": {
           "automargin": true,
           "gridcolor": "white",
           "linecolor": "white",
           "ticks": "",
           "title": {
            "standoff": 15
           },
           "zerolinecolor": "white",
           "zerolinewidth": 2
          }
         }
        },
        "title": {
         "text": "Species Existence in Clusters (Month-wise)"
        },
        "xaxis": {
         "anchor": "y",
         "domain": [
          0,
          0.235
         ],
         "tickformat": "%B",
         "title": {
          "standoff": 25,
          "text": "Month"
         }
        },
        "xaxis2": {
         "anchor": "y2",
         "domain": [
          0.255,
          0.49
         ],
         "matches": "x",
         "title": {
          "text": "month"
         }
        },
        "xaxis3": {
         "anchor": "y3",
         "domain": [
          0.51,
          0.745
         ],
         "matches": "x",
         "title": {
          "text": "month"
         }
        },
        "xaxis4": {
         "anchor": "y4",
         "domain": [
          0.7649999999999999,
          0.9999999999999999
         ],
         "matches": "x",
         "title": {
          "text": "month"
         }
        },
        "yaxis": {
         "anchor": "x",
         "domain": [
          0,
          1
         ],
         "title": {
          "text": "Year"
         },
         "type": "category"
        },
        "yaxis2": {
         "anchor": "x2",
         "domain": [
          0,
          1
         ],
         "matches": "y",
         "showticklabels": false
        },
        "yaxis3": {
         "anchor": "x3",
         "domain": [
          0,
          1
         ],
         "matches": "y",
         "showticklabels": false
        },
        "yaxis4": {
         "anchor": "x4",
         "domain": [
          0,
          1
         ],
         "matches": "y",
         "showticklabels": false
        }
       }
      }
     },
     "metadata": {},
     "output_type": "display_data"
    },
    {
     "data": {
      "application/vnd.plotly.v1+json": {
       "config": {
        "plotlyServerURL": "https://plot.ly"
       },
       "data": [
        {
         "hovertemplate": "Individual Bird=3_mogambo<br>cluster=0<br>month=%{x}<br>year_str=%{y}<extra></extra>",
         "legendgroup": "3_mogambo",
         "marker": {
          "color": "#636EFA",
          "symbol": "circle"
         },
         "mode": "markers",
         "name": "3_mogambo",
         "orientation": "h",
         "showlegend": true,
         "type": "scatter",
         "x": [
          1
         ],
         "xaxis": "x",
         "y": [
          "2016"
         ],
         "yaxis": "y"
        },
        {
         "hovertemplate": "Individual Bird=3_mogambo<br>cluster=1<br>month=%{x}<br>year_str=%{y}<extra></extra>",
         "legendgroup": "3_mogambo",
         "marker": {
          "color": "#636EFA",
          "symbol": "circle"
         },
         "mode": "markers",
         "name": "3_mogambo",
         "orientation": "h",
         "showlegend": false,
         "type": "scatter",
         "x": [
          11,
          12
         ],
         "xaxis": "x2",
         "y": [
          "2015",
          "2015"
         ],
         "yaxis": "y2"
        },
        {
         "hovertemplate": "Individual Bird=3_mogambo<br>cluster=2<br>month=%{x}<br>year_str=%{y}<extra></extra>",
         "legendgroup": "3_mogambo",
         "marker": {
          "color": "#636EFA",
          "symbol": "circle"
         },
         "mode": "markers",
         "name": "3_mogambo",
         "orientation": "h",
         "showlegend": false,
         "type": "scatter",
         "x": [
          11,
          12
         ],
         "xaxis": "x3",
         "y": [
          "2015",
          "2015"
         ],
         "yaxis": "y3"
        },
        {
         "hovertemplate": "Individual Bird=4_godfather<br>cluster=0<br>month=%{x}<br>year_str=%{y}<extra></extra>",
         "legendgroup": "4_godfather",
         "marker": {
          "color": "#EF553B",
          "symbol": "square"
         },
         "mode": "markers",
         "name": "4_godfather",
         "orientation": "h",
         "showlegend": true,
         "type": "scatter",
         "x": [
          2,
          3,
          4
         ],
         "xaxis": "x",
         "y": [
          "2016",
          "2016",
          "2016"
         ],
         "yaxis": "y"
        },
        {
         "hovertemplate": "Individual Bird=5_rifle<br>cluster=0<br>month=%{x}<br>year_str=%{y}<extra></extra>",
         "legendgroup": "5_rifle",
         "marker": {
          "color": "#00CC96",
          "symbol": "diamond"
         },
         "mode": "markers",
         "name": "5_rifle",
         "orientation": "h",
         "showlegend": true,
         "type": "scatter",
         "x": [
          2,
          3
         ],
         "xaxis": "x",
         "y": [
          "2016",
          "2016"
         ],
         "yaxis": "y"
        },
        {
         "hovertemplate": "Individual Bird=6_tkbhai<br>cluster=0<br>month=%{x}<br>year_str=%{y}<extra></extra>",
         "legendgroup": "6_tkbhai",
         "marker": {
          "color": "#AB63FA",
          "symbol": "cross"
         },
         "mode": "markers",
         "name": "6_tkbhai",
         "orientation": "h",
         "showlegend": true,
         "type": "scatter",
         "x": [
          3,
          4,
          5
         ],
         "xaxis": "x",
         "y": [
          "2016",
          "2016",
          "2016"
         ],
         "yaxis": "y"
        },
        {
         "hovertemplate": "Individual Bird=6_tkbhai<br>cluster=3<br>month=%{x}<br>year_str=%{y}<extra></extra>",
         "legendgroup": "6_tkbhai",
         "marker": {
          "color": "#AB63FA",
          "symbol": "cross"
         },
         "mode": "markers",
         "name": "6_tkbhai",
         "orientation": "h",
         "showlegend": false,
         "type": "scatter",
         "x": [
          4,
          5
         ],
         "xaxis": "x4",
         "y": [
          "2016",
          "2016"
         ],
         "yaxis": "y4"
        },
        {
         "hovertemplate": "Individual Bird=1_bill<br>cluster=2<br>month=%{x}<br>year_str=%{y}<extra></extra>",
         "legendgroup": "1_bill",
         "marker": {
          "color": "#FFA15A",
          "symbol": "x"
         },
         "mode": "markers",
         "name": "1_bill",
         "orientation": "h",
         "showlegend": true,
         "type": "scatter",
         "x": [
          3,
          4,
          5
         ],
         "xaxis": "x3",
         "y": [
          "2015",
          "2015",
          "2015"
         ],
         "yaxis": "y3"
        },
        {
         "hovertemplate": "Individual Bird=2_gabbar<br>cluster=2<br>month=%{x}<br>year_str=%{y}<extra></extra>",
         "legendgroup": "2_gabbar",
         "marker": {
          "color": "#19D3F3",
          "symbol": "circle"
         },
         "mode": "markers",
         "name": "2_gabbar",
         "orientation": "h",
         "showlegend": true,
         "type": "scatter",
         "x": [
          3,
          4,
          5,
          6
         ],
         "xaxis": "x3",
         "y": [
          "2015",
          "2015",
          "2015",
          "2015"
         ],
         "yaxis": "y3"
        },
        {
         "hovertemplate": "Individual Bird=2_gabbar<br>cluster=3<br>month=%{x}<br>year_str=%{y}<extra></extra>",
         "legendgroup": "2_gabbar",
         "marker": {
          "color": "#19D3F3",
          "symbol": "circle"
         },
         "mode": "markers",
         "name": "2_gabbar",
         "orientation": "h",
         "showlegend": false,
         "type": "scatter",
         "x": [
          4
         ],
         "xaxis": "x4",
         "y": [
          "2015"
         ],
         "yaxis": "y4"
        }
       ],
       "layout": {
        "annotations": [
         {
          "font": {},
          "showarrow": false,
          "text": "cluster=0",
          "x": 0.1175,
          "xanchor": "center",
          "xref": "paper",
          "y": 1,
          "yanchor": "bottom",
          "yref": "paper"
         },
         {
          "font": {},
          "showarrow": false,
          "text": "cluster=1",
          "x": 0.3725,
          "xanchor": "center",
          "xref": "paper",
          "y": 1,
          "yanchor": "bottom",
          "yref": "paper"
         },
         {
          "font": {},
          "showarrow": false,
          "text": "cluster=2",
          "x": 0.6275,
          "xanchor": "center",
          "xref": "paper",
          "y": 1,
          "yanchor": "bottom",
          "yref": "paper"
         },
         {
          "font": {},
          "showarrow": false,
          "text": "cluster=3",
          "x": 0.8824999999999998,
          "xanchor": "center",
          "xref": "paper",
          "y": 1,
          "yanchor": "bottom",
          "yref": "paper"
         }
        ],
        "legend": {
         "title": {
          "text": "Individual Bird"
         },
         "tracegroupgap": 0
        },
        "template": {
         "data": {
          "bar": [
           {
            "error_x": {
             "color": "#2a3f5f"
            },
            "error_y": {
             "color": "#2a3f5f"
            },
            "marker": {
             "line": {
              "color": "#E5ECF6",
              "width": 0.5
             },
             "pattern": {
              "fillmode": "overlay",
              "size": 10,
              "solidity": 0.2
             }
            },
            "type": "bar"
           }
          ],
          "barpolar": [
           {
            "marker": {
             "line": {
              "color": "#E5ECF6",
              "width": 0.5
             },
             "pattern": {
              "fillmode": "overlay",
              "size": 10,
              "solidity": 0.2
             }
            },
            "type": "barpolar"
           }
          ],
          "carpet": [
           {
            "aaxis": {
             "endlinecolor": "#2a3f5f",
             "gridcolor": "white",
             "linecolor": "white",
             "minorgridcolor": "white",
             "startlinecolor": "#2a3f5f"
            },
            "baxis": {
             "endlinecolor": "#2a3f5f",
             "gridcolor": "white",
             "linecolor": "white",
             "minorgridcolor": "white",
             "startlinecolor": "#2a3f5f"
            },
            "type": "carpet"
           }
          ],
          "choropleth": [
           {
            "colorbar": {
             "outlinewidth": 0,
             "ticks": ""
            },
            "type": "choropleth"
           }
          ],
          "contour": [
           {
            "colorbar": {
             "outlinewidth": 0,
             "ticks": ""
            },
            "colorscale": [
             [
              0,
              "#0d0887"
             ],
             [
              0.1111111111111111,
              "#46039f"
             ],
             [
              0.2222222222222222,
              "#7201a8"
             ],
             [
              0.3333333333333333,
              "#9c179e"
             ],
             [
              0.4444444444444444,
              "#bd3786"
             ],
             [
              0.5555555555555556,
              "#d8576b"
             ],
             [
              0.6666666666666666,
              "#ed7953"
             ],
             [
              0.7777777777777778,
              "#fb9f3a"
             ],
             [
              0.8888888888888888,
              "#fdca26"
             ],
             [
              1,
              "#f0f921"
             ]
            ],
            "type": "contour"
           }
          ],
          "contourcarpet": [
           {
            "colorbar": {
             "outlinewidth": 0,
             "ticks": ""
            },
            "type": "contourcarpet"
           }
          ],
          "heatmap": [
           {
            "colorbar": {
             "outlinewidth": 0,
             "ticks": ""
            },
            "colorscale": [
             [
              0,
              "#0d0887"
             ],
             [
              0.1111111111111111,
              "#46039f"
             ],
             [
              0.2222222222222222,
              "#7201a8"
             ],
             [
              0.3333333333333333,
              "#9c179e"
             ],
             [
              0.4444444444444444,
              "#bd3786"
             ],
             [
              0.5555555555555556,
              "#d8576b"
             ],
             [
              0.6666666666666666,
              "#ed7953"
             ],
             [
              0.7777777777777778,
              "#fb9f3a"
             ],
             [
              0.8888888888888888,
              "#fdca26"
             ],
             [
              1,
              "#f0f921"
             ]
            ],
            "type": "heatmap"
           }
          ],
          "heatmapgl": [
           {
            "colorbar": {
             "outlinewidth": 0,
             "ticks": ""
            },
            "colorscale": [
             [
              0,
              "#0d0887"
             ],
             [
              0.1111111111111111,
              "#46039f"
             ],
             [
              0.2222222222222222,
              "#7201a8"
             ],
             [
              0.3333333333333333,
              "#9c179e"
             ],
             [
              0.4444444444444444,
              "#bd3786"
             ],
             [
              0.5555555555555556,
              "#d8576b"
             ],
             [
              0.6666666666666666,
              "#ed7953"
             ],
             [
              0.7777777777777778,
              "#fb9f3a"
             ],
             [
              0.8888888888888888,
              "#fdca26"
             ],
             [
              1,
              "#f0f921"
             ]
            ],
            "type": "heatmapgl"
           }
          ],
          "histogram": [
           {
            "marker": {
             "pattern": {
              "fillmode": "overlay",
              "size": 10,
              "solidity": 0.2
             }
            },
            "type": "histogram"
           }
          ],
          "histogram2d": [
           {
            "colorbar": {
             "outlinewidth": 0,
             "ticks": ""
            },
            "colorscale": [
             [
              0,
              "#0d0887"
             ],
             [
              0.1111111111111111,
              "#46039f"
             ],
             [
              0.2222222222222222,
              "#7201a8"
             ],
             [
              0.3333333333333333,
              "#9c179e"
             ],
             [
              0.4444444444444444,
              "#bd3786"
             ],
             [
              0.5555555555555556,
              "#d8576b"
             ],
             [
              0.6666666666666666,
              "#ed7953"
             ],
             [
              0.7777777777777778,
              "#fb9f3a"
             ],
             [
              0.8888888888888888,
              "#fdca26"
             ],
             [
              1,
              "#f0f921"
             ]
            ],
            "type": "histogram2d"
           }
          ],
          "histogram2dcontour": [
           {
            "colorbar": {
             "outlinewidth": 0,
             "ticks": ""
            },
            "colorscale": [
             [
              0,
              "#0d0887"
             ],
             [
              0.1111111111111111,
              "#46039f"
             ],
             [
              0.2222222222222222,
              "#7201a8"
             ],
             [
              0.3333333333333333,
              "#9c179e"
             ],
             [
              0.4444444444444444,
              "#bd3786"
             ],
             [
              0.5555555555555556,
              "#d8576b"
             ],
             [
              0.6666666666666666,
              "#ed7953"
             ],
             [
              0.7777777777777778,
              "#fb9f3a"
             ],
             [
              0.8888888888888888,
              "#fdca26"
             ],
             [
              1,
              "#f0f921"
             ]
            ],
            "type": "histogram2dcontour"
           }
          ],
          "mesh3d": [
           {
            "colorbar": {
             "outlinewidth": 0,
             "ticks": ""
            },
            "type": "mesh3d"
           }
          ],
          "parcoords": [
           {
            "line": {
             "colorbar": {
              "outlinewidth": 0,
              "ticks": ""
             }
            },
            "type": "parcoords"
           }
          ],
          "pie": [
           {
            "automargin": true,
            "type": "pie"
           }
          ],
          "scatter": [
           {
            "fillpattern": {
             "fillmode": "overlay",
             "size": 10,
             "solidity": 0.2
            },
            "type": "scatter"
           }
          ],
          "scatter3d": [
           {
            "line": {
             "colorbar": {
              "outlinewidth": 0,
              "ticks": ""
             }
            },
            "marker": {
             "colorbar": {
              "outlinewidth": 0,
              "ticks": ""
             }
            },
            "type": "scatter3d"
           }
          ],
          "scattercarpet": [
           {
            "marker": {
             "colorbar": {
              "outlinewidth": 0,
              "ticks": ""
             }
            },
            "type": "scattercarpet"
           }
          ],
          "scattergeo": [
           {
            "marker": {
             "colorbar": {
              "outlinewidth": 0,
              "ticks": ""
             }
            },
            "type": "scattergeo"
           }
          ],
          "scattergl": [
           {
            "marker": {
             "colorbar": {
              "outlinewidth": 0,
              "ticks": ""
             }
            },
            "type": "scattergl"
           }
          ],
          "scattermapbox": [
           {
            "marker": {
             "colorbar": {
              "outlinewidth": 0,
              "ticks": ""
             }
            },
            "type": "scattermapbox"
           }
          ],
          "scatterpolar": [
           {
            "marker": {
             "colorbar": {
              "outlinewidth": 0,
              "ticks": ""
             }
            },
            "type": "scatterpolar"
           }
          ],
          "scatterpolargl": [
           {
            "marker": {
             "colorbar": {
              "outlinewidth": 0,
              "ticks": ""
             }
            },
            "type": "scatterpolargl"
           }
          ],
          "scatterternary": [
           {
            "marker": {
             "colorbar": {
              "outlinewidth": 0,
              "ticks": ""
             }
            },
            "type": "scatterternary"
           }
          ],
          "surface": [
           {
            "colorbar": {
             "outlinewidth": 0,
             "ticks": ""
            },
            "colorscale": [
             [
              0,
              "#0d0887"
             ],
             [
              0.1111111111111111,
              "#46039f"
             ],
             [
              0.2222222222222222,
              "#7201a8"
             ],
             [
              0.3333333333333333,
              "#9c179e"
             ],
             [
              0.4444444444444444,
              "#bd3786"
             ],
             [
              0.5555555555555556,
              "#d8576b"
             ],
             [
              0.6666666666666666,
              "#ed7953"
             ],
             [
              0.7777777777777778,
              "#fb9f3a"
             ],
             [
              0.8888888888888888,
              "#fdca26"
             ],
             [
              1,
              "#f0f921"
             ]
            ],
            "type": "surface"
           }
          ],
          "table": [
           {
            "cells": {
             "fill": {
              "color": "#EBF0F8"
             },
             "line": {
              "color": "white"
             }
            },
            "header": {
             "fill": {
              "color": "#C8D4E3"
             },
             "line": {
              "color": "white"
             }
            },
            "type": "table"
           }
          ]
         },
         "layout": {
          "annotationdefaults": {
           "arrowcolor": "#2a3f5f",
           "arrowhead": 0,
           "arrowwidth": 1
          },
          "autotypenumbers": "strict",
          "coloraxis": {
           "colorbar": {
            "outlinewidth": 0,
            "ticks": ""
           }
          },
          "colorscale": {
           "diverging": [
            [
             0,
             "#8e0152"
            ],
            [
             0.1,
             "#c51b7d"
            ],
            [
             0.2,
             "#de77ae"
            ],
            [
             0.3,
             "#f1b6da"
            ],
            [
             0.4,
             "#fde0ef"
            ],
            [
             0.5,
             "#f7f7f7"
            ],
            [
             0.6,
             "#e6f5d0"
            ],
            [
             0.7,
             "#b8e186"
            ],
            [
             0.8,
             "#7fbc41"
            ],
            [
             0.9,
             "#4d9221"
            ],
            [
             1,
             "#276419"
            ]
           ],
           "sequential": [
            [
             0,
             "#0d0887"
            ],
            [
             0.1111111111111111,
             "#46039f"
            ],
            [
             0.2222222222222222,
             "#7201a8"
            ],
            [
             0.3333333333333333,
             "#9c179e"
            ],
            [
             0.4444444444444444,
             "#bd3786"
            ],
            [
             0.5555555555555556,
             "#d8576b"
            ],
            [
             0.6666666666666666,
             "#ed7953"
            ],
            [
             0.7777777777777778,
             "#fb9f3a"
            ],
            [
             0.8888888888888888,
             "#fdca26"
            ],
            [
             1,
             "#f0f921"
            ]
           ],
           "sequentialminus": [
            [
             0,
             "#0d0887"
            ],
            [
             0.1111111111111111,
             "#46039f"
            ],
            [
             0.2222222222222222,
             "#7201a8"
            ],
            [
             0.3333333333333333,
             "#9c179e"
            ],
            [
             0.4444444444444444,
             "#bd3786"
            ],
            [
             0.5555555555555556,
             "#d8576b"
            ],
            [
             0.6666666666666666,
             "#ed7953"
            ],
            [
             0.7777777777777778,
             "#fb9f3a"
            ],
            [
             0.8888888888888888,
             "#fdca26"
            ],
            [
             1,
             "#f0f921"
            ]
           ]
          },
          "colorway": [
           "#636efa",
           "#EF553B",
           "#00cc96",
           "#ab63fa",
           "#FFA15A",
           "#19d3f3",
           "#FF6692",
           "#B6E880",
           "#FF97FF",
           "#FECB52"
          ],
          "font": {
           "color": "#2a3f5f"
          },
          "geo": {
           "bgcolor": "white",
           "lakecolor": "white",
           "landcolor": "#E5ECF6",
           "showlakes": true,
           "showland": true,
           "subunitcolor": "white"
          },
          "hoverlabel": {
           "align": "left"
          },
          "hovermode": "closest",
          "mapbox": {
           "style": "light"
          },
          "paper_bgcolor": "white",
          "plot_bgcolor": "#E5ECF6",
          "polar": {
           "angularaxis": {
            "gridcolor": "white",
            "linecolor": "white",
            "ticks": ""
           },
           "bgcolor": "#E5ECF6",
           "radialaxis": {
            "gridcolor": "white",
            "linecolor": "white",
            "ticks": ""
           }
          },
          "scene": {
           "xaxis": {
            "backgroundcolor": "#E5ECF6",
            "gridcolor": "white",
            "gridwidth": 2,
            "linecolor": "white",
            "showbackground": true,
            "ticks": "",
            "zerolinecolor": "white"
           },
           "yaxis": {
            "backgroundcolor": "#E5ECF6",
            "gridcolor": "white",
            "gridwidth": 2,
            "linecolor": "white",
            "showbackground": true,
            "ticks": "",
            "zerolinecolor": "white"
           },
           "zaxis": {
            "backgroundcolor": "#E5ECF6",
            "gridcolor": "white",
            "gridwidth": 2,
            "linecolor": "white",
            "showbackground": true,
            "ticks": "",
            "zerolinecolor": "white"
           }
          },
          "shapedefaults": {
           "line": {
            "color": "#2a3f5f"
           }
          },
          "ternary": {
           "aaxis": {
            "gridcolor": "white",
            "linecolor": "white",
            "ticks": ""
           },
           "baxis": {
            "gridcolor": "white",
            "linecolor": "white",
            "ticks": ""
           },
           "bgcolor": "#E5ECF6",
           "caxis": {
            "gridcolor": "white",
            "linecolor": "white",
            "ticks": ""
           }
          },
          "title": {
           "x": 0.05
          },
          "xaxis": {
           "automargin": true,
           "gridcolor": "white",
           "linecolor": "white",
           "ticks": "",
           "title": {
            "standoff": 15
           },
           "zerolinecolor": "white",
           "zerolinewidth": 2
          },
          "yaxis": {
           "automargin": true,
           "gridcolor": "white",
           "linecolor": "white",
           "ticks": "",
           "title": {
            "standoff": 15
           },
           "zerolinecolor": "white",
           "zerolinewidth": 2
          }
         }
        },
        "title": {
         "text": "Individual Birds Existence in Clusters (Month-wise)"
        },
        "xaxis": {
         "anchor": "y",
         "domain": [
          0,
          0.235
         ],
         "tickformat": "%B",
         "title": {
          "standoff": 25,
          "text": "Month"
         }
        },
        "xaxis2": {
         "anchor": "y2",
         "domain": [
          0.255,
          0.49
         ],
         "matches": "x",
         "title": {
          "text": "month"
         }
        },
        "xaxis3": {
         "anchor": "y3",
         "domain": [
          0.51,
          0.745
         ],
         "matches": "x",
         "title": {
          "text": "month"
         }
        },
        "xaxis4": {
         "anchor": "y4",
         "domain": [
          0.7649999999999999,
          0.9999999999999999
         ],
         "matches": "x",
         "title": {
          "text": "month"
         }
        },
        "yaxis": {
         "anchor": "x",
         "domain": [
          0,
          1
         ],
         "title": {
          "text": "Year"
         },
         "type": "category"
        },
        "yaxis2": {
         "anchor": "x2",
         "domain": [
          0,
          1
         ],
         "matches": "y",
         "showticklabels": false
        },
        "yaxis3": {
         "anchor": "x3",
         "domain": [
          0,
          1
         ],
         "matches": "y",
         "showticklabels": false
        },
        "yaxis4": {
         "anchor": "x4",
         "domain": [
          0,
          1
         ],
         "matches": "y",
         "showticklabels": false
        }
       }
      }
     },
     "metadata": {},
     "output_type": "display_data"
    }
   ],
   "source": [
    "import pandas as pd\n",
    "import plotly.express as px\n",
    "\n",
    "# Read the dataset from the provided path\n",
    "file_path = './insights/data_with_clusters.xlsx'\n",
    "data = pd.read_excel(file_path)\n",
    "\n",
    "# Ensure 'timestamp' is in datetime format\n",
    "data['timestamp'] = pd.to_datetime(data['timestamp'])\n",
    "\n",
    "# Extract year and month from the 'timestamp' column\n",
    "data['year'] = data['timestamp'].dt.year\n",
    "data['month'] = data['timestamp'].dt.month\n",
    "\n",
    "# Convert year to string for categorical y-axis\n",
    "data['year_str'] = data['year'].astype(str)\n",
    "\n",
    "# Group by 'cluster', 'year', 'month', and 'individual-taxon-canonical-name' to identify species existence\n",
    "species_existence_monthly = data.groupby(['cluster', 'year_str', 'month', 'individual-taxon-canonical-name']).size().reset_index(name='count')\n",
    "\n",
    "# Group by 'cluster', 'year', 'month', and 'individual-local-identifier' to track individual birds in each cluster\n",
    "individual_existence_monthly = data.groupby(['cluster', 'year_str', 'month', 'individual-local-identifier']).size().reset_index(name='count')\n",
    "\n",
    "# Define distinct shapes and colors\n",
    "shapes = ['circle', 'square', 'diamond', 'cross', 'x']\n",
    "colors = px.colors.qualitative.Plotly  # A set of distinct colors\n",
    "\n",
    "# Plot 1: Species Existence Month-wise per Cluster (Scatter plot with distinct shapes and colors)\n",
    "fig_species = px.scatter(species_existence_monthly, \n",
    "                        x='month', \n",
    "                        y='year_str', \n",
    "                        symbol='individual-taxon-canonical-name',  # Use shapes to differentiate species\n",
    "                        color='individual-taxon-canonical-name',  # Use colors to differentiate species\n",
    "                        facet_col='cluster', \n",
    "                        facet_col_wrap=4,  # Adjust the number of columns for facet plots\n",
    "                        title='Species Existence in Clusters (Month-wise)',\n",
    "                        labels={'count': 'Number of Records', 'individual-taxon-canonical-name': 'Species'},\n",
    "                        symbol_sequence=shapes,  # Use a sequence of shapes\n",
    "                        color_discrete_sequence=colors  # Use a sequence of colors\n",
    "                        )\n",
    "\n",
    "fig_species.update_layout(xaxis_title='Month', yaxis_title='Year',\n",
    "                          xaxis_tickformat='%B',  # To show month names instead of numbers\n",
    "                          yaxis_type='category',  # Use category type for y-axis\n",
    "                          xaxis_title_standoff=25)\n",
    "\n",
    "# Plot 2: Individual Existence in Each Cluster (Month-wise, Scatter plot with distinct shapes and colors)\n",
    "fig_individuals = px.scatter(individual_existence_monthly, \n",
    "                            x='month', \n",
    "                            y='year_str', \n",
    "                            symbol='individual-local-identifier',  # Use shapes to differentiate individuals\n",
    "                            color='individual-local-identifier',  # Use colors to differentiate individuals\n",
    "                            facet_col='cluster', \n",
    "                            facet_col_wrap=4,  # Adjust the number of columns for facet plots\n",
    "                            title='Individual Birds Existence in Clusters (Month-wise)',\n",
    "                            labels={'count': 'Number of Records', 'individual-local-identifier': 'Individual Bird'},\n",
    "                            symbol_sequence=shapes,  # Use a sequence of shapes\n",
    "                            color_discrete_sequence=colors  # Use a sequence of colors\n",
    "                            )\n",
    "\n",
    "fig_individuals.update_layout(xaxis_title='Month', yaxis_title='Year',\n",
    "                              xaxis_tickformat='%B',  # To show month names instead of numbers\n",
    "                              yaxis_type='category',  # Use category type for y-axis\n",
    "                              xaxis_title_standoff=25)\n",
    "\n",
    "# Show the interactive plots\n",
    "fig_species.show()\n",
    "fig_individuals.show()\n"
   ]
  }
 ],
 "metadata": {
  "kernelspec": {
   "display_name": "Python 3",
   "language": "python",
   "name": "python3"
  },
  "language_info": {
   "codemirror_mode": {
    "name": "ipython",
    "version": 3
   },
   "file_extension": ".py",
   "mimetype": "text/x-python",
   "name": "python",
   "nbconvert_exporter": "python",
   "pygments_lexer": "ipython3",
   "version": "3.12.4"
  }
 },
 "nbformat": 4,
 "nbformat_minor": 2
}
