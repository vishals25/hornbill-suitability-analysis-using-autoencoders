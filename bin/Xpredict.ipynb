{
 "cells": [
  {
   "cell_type": "code",
   "execution_count": 10,
   "metadata": {},
   "outputs": [],
   "source": [
    "import pandas as pd\n",
    "import matplotlib.pyplot as plt\n",
    "import seaborn as sns\n",
    "from sklearn.model_selection import train_test_split\n",
    "from sklearn.linear_model import LinearRegression\n",
    "from sklearn.metrics import mean_squared_error\n"
   ]
  },
  {
   "cell_type": "code",
   "execution_count": 11,
   "metadata": {},
   "outputs": [],
   "source": [
    "data =pd.read_excel(\"./data/horn_bill_telemetry.xlsx\")\n",
    "\n",
    "df = pd.DataFrame(data)\n",
    "\n",
    "df['timestamp'] = pd.to_datetime(df['timestamp'], format='%m/%d/%y %H:%M')\n",
    "\n",
    "# Extract month and year\n",
    "df['month'] = df['timestamp'].dt.month\n",
    "df['month_name'] = df['timestamp'].dt.strftime('%B')\n",
    "df['year'] = df['timestamp'].dt.year"
   ]
  },
  {
   "cell_type": "code",
   "execution_count": 12,
   "metadata": {},
   "outputs": [
    {
     "name": "stdout",
     "output_type": "stream",
     "text": [
      "Predicted Location on 2015-03-05 11:30:00 - Longitude: 92.9731179530747, Latitude: 26.93823172976417\n",
      "Longitude Prediction MSE: 6.768704510894371e-06\n",
      "Latitude Prediction MSE: 5.39389109891938e-06\n"
     ]
    }
   ],
   "source": [
    "# Step 1: Filter the data for the specific bird\n",
    "bird_name = '1_bill'  # Replace with the bird you want to track\n",
    "bird_data = df[df['individual-local-identifier'] == bird_name].copy()\n",
    "\n",
    "# Step 3: Time Series Analysis and Prediction with Time\n",
    "# Convert timestamp to datetime format\n",
    "bird_data['timestamp'] = pd.to_datetime(bird_data['timestamp'])\n",
    "\n",
    "# Extract additional time-related features\n",
    "bird_data['timestamp_ordinal'] = bird_data['timestamp'].apply(lambda x: x.toordinal())\n",
    "bird_data['hour'] = bird_data['timestamp'].dt.hour\n",
    "bird_data['minute'] = bird_data['timestamp'].dt.minute\n",
    "\n",
    "# Prepare data for the model\n",
    "X = bird_data[['timestamp_ordinal', 'hour', 'minute']]\n",
    "y_long = bird_data['location-long']\n",
    "y_lat = bird_data['location-lat']\n",
    "\n",
    "# Split the data into train and test sets\n",
    "X_train, X_test, y_long_train, y_long_test, y_lat_train, y_lat_test = train_test_split(X, y_long, y_lat, test_size=0.2, random_state=42)\n",
    "\n",
    "# Train a linear regression model for longitude\n",
    "model_long = LinearRegression()\n",
    "model_long.fit(X_train, y_long_train)\n",
    "\n",
    "# Train a linear regression model for latitude\n",
    "model_lat = LinearRegression()\n",
    "model_lat.fit(X_train, y_lat_train)\n",
    "\n",
    "# Predict the location for a given date and time\n",
    "given_datetime = pd.to_datetime('03-05-2015 11:30')  # Example date and time\n",
    "given_datetime_features = pd.DataFrame({\n",
    "    'timestamp_ordinal': [given_datetime.toordinal()],\n",
    "    'hour': [given_datetime.hour],\n",
    "    'minute': [given_datetime.minute]\n",
    "})\n",
    "\n",
    "predicted_long = model_long.predict(given_datetime_features)\n",
    "predicted_lat = model_lat.predict(given_datetime_features)\n",
    "\n",
    "print(f\"Predicted Location on {given_datetime} - Longitude: {predicted_long[0]}, Latitude: {predicted_lat[0]}\")\n",
    "\n",
    "# Evaluate the model\n",
    "long_mse = mean_squared_error(y_long_test, model_long.predict(X_test))\n",
    "lat_mse = mean_squared_error(y_lat_test, model_lat.predict(X_test))\n",
    "\n",
    "print(f\"Longitude Prediction MSE: {long_mse}\")\n",
    "print(f\"Latitude Prediction MSE: {lat_mse}\")"
   ]
  },
  {
   "cell_type": "code",
   "execution_count": 13,
   "metadata": {},
   "outputs": [
    {
     "name": "stdout",
     "output_type": "stream",
     "text": [
      "Longitude Prediction MSE: 6.768704510894371e-06\n",
      "Longitude Prediction MAE: 0.0019863987164547613\n",
      "Longitude Prediction R²: 0.011878254411541112\n",
      "Latitude Prediction MSE: 5.39389109891938e-06\n",
      "Latitude Prediction MAE: 0.0014268339207661707\n",
      "Latitude Prediction R²: 0.09574435077683774\n"
     ]
    }
   ],
   "source": [
    "from sklearn.metrics import mean_squared_error, mean_absolute_error, r2_score\n",
    "\n",
    "# Predict on the test set\n",
    "y_long_pred = model_long.predict(X_test)\n",
    "y_lat_pred = model_lat.predict(X_test)\n",
    "\n",
    "# Evaluate Longitude predictions\n",
    "long_mse = mean_squared_error(y_long_test, y_long_pred)\n",
    "long_mae = mean_absolute_error(y_long_test, y_long_pred)\n",
    "long_r2 = r2_score(y_long_test, y_long_pred)\n",
    "\n",
    "# Evaluate Latitude predictions\n",
    "lat_mse = mean_squared_error(y_lat_test, y_lat_pred)\n",
    "lat_mae = mean_absolute_error(y_lat_test, y_lat_pred)\n",
    "lat_r2 = r2_score(y_lat_test, y_lat_pred)\n",
    "\n",
    "print(f\"Longitude Prediction MSE: {long_mse}\")\n",
    "print(f\"Longitude Prediction MAE: {long_mae}\")\n",
    "print(f\"Longitude Prediction R²: {long_r2}\")\n",
    "\n",
    "print(f\"Latitude Prediction MSE: {lat_mse}\")\n",
    "print(f\"Latitude Prediction MAE: {lat_mae}\")\n",
    "print(f\"Latitude Prediction R²: {lat_r2}\")\n"
   ]
  }
 ],
 "metadata": {
  "kernelspec": {
   "display_name": "Python 3",
   "language": "python",
   "name": "python3"
  },
  "language_info": {
   "codemirror_mode": {
    "name": "ipython",
    "version": 3
   },
   "file_extension": ".py",
   "mimetype": "text/x-python",
   "name": "python",
   "nbconvert_exporter": "python",
   "pygments_lexer": "ipython3",
   "version": "3.12.4"
  }
 },
 "nbformat": 4,
 "nbformat_minor": 2
}
