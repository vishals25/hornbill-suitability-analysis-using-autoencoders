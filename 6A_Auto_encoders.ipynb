{
  "cells": [
    {
      "cell_type": "code",
      "execution_count": 1,
      "metadata": {},
      "outputs": [
        {
          "name": "stdout",
          "output_type": "stream",
          "text": [
            "\n",
            "--- Data Cleaning Summary ---\n",
            "Original Data Rows: 19275\n",
            "Cleaned Data Rows: 19188\n",
            "Rows Removed: 87\n",
            "Epoch 1/250\n",
            "\u001b[1m270/270\u001b[0m \u001b[32m━━━━━━━━━━━━━━━━━━━━\u001b[0m\u001b[37m\u001b[0m \u001b[1m5s\u001b[0m 5ms/step - loss: 2.3845 - val_loss: 0.8598 - learning_rate: 5.0000e-04\n",
            "Epoch 2/250\n",
            "\u001b[1m270/270\u001b[0m \u001b[32m━━━━━━━━━━━━━━━━━━━━\u001b[0m\u001b[37m\u001b[0m \u001b[1m1s\u001b[0m 5ms/step - loss: 1.2190 - val_loss: 0.6483 - learning_rate: 5.0000e-04\n",
            "Epoch 3/250\n",
            "\u001b[1m270/270\u001b[0m \u001b[32m━━━━━━━━━━━━━━━━━━━━\u001b[0m\u001b[37m\u001b[0m \u001b[1m1s\u001b[0m 4ms/step - loss: 0.9443 - val_loss: 0.5962 - learning_rate: 5.0000e-04\n",
            "Epoch 4/250\n",
            "\u001b[1m270/270\u001b[0m \u001b[32m━━━━━━━━━━━━━━━━━━━━\u001b[0m\u001b[37m\u001b[0m \u001b[1m1s\u001b[0m 4ms/step - loss: 0.7978 - val_loss: 0.5504 - learning_rate: 5.0000e-04\n",
            "Epoch 5/250\n",
            "\u001b[1m270/270\u001b[0m \u001b[32m━━━━━━━━━━━━━━━━━━━━\u001b[0m\u001b[37m\u001b[0m \u001b[1m1s\u001b[0m 4ms/step - loss: 0.6983 - val_loss: 0.5057 - learning_rate: 5.0000e-04\n",
            "Epoch 6/250\n",
            "\u001b[1m270/270\u001b[0m \u001b[32m━━━━━━━━━━━━━━━━━━━━\u001b[0m\u001b[37m\u001b[0m \u001b[1m1s\u001b[0m 5ms/step - loss: 0.6250 - val_loss: 0.4608 - learning_rate: 5.0000e-04\n",
            "Epoch 7/250\n",
            "\u001b[1m270/270\u001b[0m \u001b[32m━━━━━━━━━━━━━━━━━━━━\u001b[0m\u001b[37m\u001b[0m \u001b[1m1s\u001b[0m 5ms/step - loss: 0.5569 - val_loss: 0.4046 - learning_rate: 5.0000e-04\n",
            "Epoch 8/250\n",
            "\u001b[1m270/270\u001b[0m \u001b[32m━━━━━━━━━━━━━━━━━━━━\u001b[0m\u001b[37m\u001b[0m \u001b[1m1s\u001b[0m 5ms/step - loss: 0.5040 - val_loss: 0.3595 - learning_rate: 5.0000e-04\n",
            "Epoch 9/250\n",
            "\u001b[1m270/270\u001b[0m \u001b[32m━━━━━━━━━━━━━━━━━━━━\u001b[0m\u001b[37m\u001b[0m \u001b[1m1s\u001b[0m 5ms/step - loss: 0.4460 - val_loss: 0.3188 - learning_rate: 5.0000e-04\n",
            "Epoch 10/250\n",
            "\u001b[1m270/270\u001b[0m \u001b[32m━━━━━━━━━━━━━━━━━━━━\u001b[0m\u001b[37m\u001b[0m \u001b[1m2s\u001b[0m 5ms/step - loss: 0.3890 - val_loss: 0.2709 - learning_rate: 5.0000e-04\n",
            "Epoch 11/250\n",
            "\u001b[1m270/270\u001b[0m \u001b[32m━━━━━━━━━━━━━━━━━━━━\u001b[0m\u001b[37m\u001b[0m \u001b[1m1s\u001b[0m 5ms/step - loss: 0.3438 - val_loss: 0.2293 - learning_rate: 5.0000e-04\n",
            "Epoch 12/250\n",
            "\u001b[1m270/270\u001b[0m \u001b[32m━━━━━━━━━━━━━━━━━━━━\u001b[0m\u001b[37m\u001b[0m \u001b[1m2s\u001b[0m 5ms/step - loss: 0.3003 - val_loss: 0.1996 - learning_rate: 5.0000e-04\n",
            "Epoch 13/250\n",
            "\u001b[1m270/270\u001b[0m \u001b[32m━━━━━━━━━━━━━━━━━━━━\u001b[0m\u001b[37m\u001b[0m \u001b[1m1s\u001b[0m 5ms/step - loss: 0.2601 - val_loss: 0.1623 - learning_rate: 5.0000e-04\n",
            "Epoch 14/250\n",
            "\u001b[1m270/270\u001b[0m \u001b[32m━━━━━━━━━━━━━━━━━━━━\u001b[0m\u001b[37m\u001b[0m \u001b[1m1s\u001b[0m 5ms/step - loss: 0.2317 - val_loss: 0.1382 - learning_rate: 5.0000e-04\n",
            "Epoch 15/250\n",
            "\u001b[1m270/270\u001b[0m \u001b[32m━━━━━━━━━━━━━━━━━━━━\u001b[0m\u001b[37m\u001b[0m \u001b[1m1s\u001b[0m 5ms/step - loss: 0.2013 - val_loss: 0.1230 - learning_rate: 5.0000e-04\n",
            "Epoch 16/250\n",
            "\u001b[1m270/270\u001b[0m \u001b[32m━━━━━━━━━━━━━━━━━━━━\u001b[0m\u001b[37m\u001b[0m \u001b[1m1s\u001b[0m 5ms/step - loss: 0.1811 - val_loss: 0.1026 - learning_rate: 5.0000e-04\n",
            "Epoch 17/250\n",
            "\u001b[1m270/270\u001b[0m \u001b[32m━━━━━━━━━━━━━━━━━━━━\u001b[0m\u001b[37m\u001b[0m \u001b[1m1s\u001b[0m 5ms/step - loss: 0.1669 - val_loss: 0.0952 - learning_rate: 5.0000e-04\n",
            "Epoch 18/250\n",
            "\u001b[1m270/270\u001b[0m \u001b[32m━━━━━━━━━━━━━━━━━━━━\u001b[0m\u001b[37m\u001b[0m \u001b[1m1s\u001b[0m 5ms/step - loss: 0.1531 - val_loss: 0.0773 - learning_rate: 5.0000e-04\n",
            "Epoch 19/250\n",
            "\u001b[1m270/270\u001b[0m \u001b[32m━━━━━━━━━━━━━━━━━━━━\u001b[0m\u001b[37m\u001b[0m \u001b[1m2s\u001b[0m 5ms/step - loss: 0.1444 - val_loss: 0.0675 - learning_rate: 5.0000e-04\n",
            "Epoch 20/250\n",
            "\u001b[1m270/270\u001b[0m \u001b[32m━━━━━━━━━━━━━━━━━━━━\u001b[0m\u001b[37m\u001b[0m \u001b[1m1s\u001b[0m 5ms/step - loss: 0.1374 - val_loss: 0.0641 - learning_rate: 5.0000e-04\n",
            "Epoch 21/250\n",
            "\u001b[1m270/270\u001b[0m \u001b[32m━━━━━━━━━━━━━━━━━━━━\u001b[0m\u001b[37m\u001b[0m \u001b[1m2s\u001b[0m 6ms/step - loss: 0.1289 - val_loss: 0.0586 - learning_rate: 5.0000e-04\n",
            "Epoch 22/250\n",
            "\u001b[1m270/270\u001b[0m \u001b[32m━━━━━━━━━━━━━━━━━━━━\u001b[0m\u001b[37m\u001b[0m \u001b[1m2s\u001b[0m 6ms/step - loss: 0.1270 - val_loss: 0.0582 - learning_rate: 5.0000e-04\n",
            "Epoch 23/250\n",
            "\u001b[1m270/270\u001b[0m \u001b[32m━━━━━━━━━━━━━━━━━━━━\u001b[0m\u001b[37m\u001b[0m \u001b[1m1s\u001b[0m 5ms/step - loss: 0.1216 - val_loss: 0.0534 - learning_rate: 5.0000e-04\n",
            "Epoch 24/250\n",
            "\u001b[1m270/270\u001b[0m \u001b[32m━━━━━━━━━━━━━━━━━━━━\u001b[0m\u001b[37m\u001b[0m \u001b[1m1s\u001b[0m 5ms/step - loss: 0.1177 - val_loss: 0.0520 - learning_rate: 5.0000e-04\n",
            "Epoch 25/250\n",
            "\u001b[1m270/270\u001b[0m \u001b[32m━━━━━━━━━━━━━━━━━━━━\u001b[0m\u001b[37m\u001b[0m \u001b[1m1s\u001b[0m 5ms/step - loss: 0.1144 - val_loss: 0.0578 - learning_rate: 5.0000e-04\n",
            "Epoch 26/250\n",
            "\u001b[1m270/270\u001b[0m \u001b[32m━━━━━━━━━━━━━━━━━━━━\u001b[0m\u001b[37m\u001b[0m \u001b[1m1s\u001b[0m 5ms/step - loss: 0.1163 - val_loss: 0.0426 - learning_rate: 5.0000e-04\n",
            "Epoch 27/250\n",
            "\u001b[1m270/270\u001b[0m \u001b[32m━━━━━━━━━━━━━━━━━━━━\u001b[0m\u001b[37m\u001b[0m \u001b[1m1s\u001b[0m 5ms/step - loss: 0.1113 - val_loss: 0.0465 - learning_rate: 5.0000e-04\n",
            "Epoch 28/250\n",
            "\u001b[1m270/270\u001b[0m \u001b[32m━━━━━━━━━━━━━━━━━━━━\u001b[0m\u001b[37m\u001b[0m \u001b[1m1s\u001b[0m 5ms/step - loss: 0.1091 - val_loss: 0.0430 - learning_rate: 5.0000e-04\n",
            "Epoch 29/250\n",
            "\u001b[1m270/270\u001b[0m \u001b[32m━━━━━━━━━━━━━━━━━━━━\u001b[0m\u001b[37m\u001b[0m \u001b[1m1s\u001b[0m 5ms/step - loss: 0.1124 - val_loss: 0.0410 - learning_rate: 5.0000e-04\n",
            "Epoch 30/250\n",
            "\u001b[1m270/270\u001b[0m \u001b[32m━━━━━━━━━━━━━━━━━━━━\u001b[0m\u001b[37m\u001b[0m \u001b[1m1s\u001b[0m 5ms/step - loss: 0.1105 - val_loss: 0.0402 - learning_rate: 5.0000e-04\n",
            "Epoch 31/250\n",
            "\u001b[1m270/270\u001b[0m \u001b[32m━━━━━━━━━━━━━━━━━━━━\u001b[0m\u001b[37m\u001b[0m \u001b[1m2s\u001b[0m 6ms/step - loss: 0.1080 - val_loss: 0.0411 - learning_rate: 5.0000e-04\n",
            "Epoch 32/250\n",
            "\u001b[1m270/270\u001b[0m \u001b[32m━━━━━━━━━━━━━━━━━━━━\u001b[0m\u001b[37m\u001b[0m \u001b[1m1s\u001b[0m 5ms/step - loss: 0.1076 - val_loss: 0.0389 - learning_rate: 5.0000e-04\n",
            "Epoch 33/250\n",
            "\u001b[1m270/270\u001b[0m \u001b[32m━━━━━━━━━━━━━━━━━━━━\u001b[0m\u001b[37m\u001b[0m \u001b[1m1s\u001b[0m 5ms/step - loss: 0.1091 - val_loss: 0.0378 - learning_rate: 5.0000e-04\n",
            "Epoch 34/250\n",
            "\u001b[1m270/270\u001b[0m \u001b[32m━━━━━━━━━━━━━━━━━━━━\u001b[0m\u001b[37m\u001b[0m \u001b[1m1s\u001b[0m 5ms/step - loss: 0.1041 - val_loss: 0.0384 - learning_rate: 5.0000e-04\n",
            "Epoch 35/250\n",
            "\u001b[1m270/270\u001b[0m \u001b[32m━━━━━━━━━━━━━━━━━━━━\u001b[0m\u001b[37m\u001b[0m \u001b[1m1s\u001b[0m 5ms/step - loss: 0.1050 - val_loss: 0.0383 - learning_rate: 5.0000e-04\n",
            "Epoch 36/250\n",
            "\u001b[1m270/270\u001b[0m \u001b[32m━━━━━━━━━━━━━━━━━━━━\u001b[0m\u001b[37m\u001b[0m \u001b[1m2s\u001b[0m 6ms/step - loss: 0.1052 - val_loss: 0.0399 - learning_rate: 5.0000e-04\n",
            "Epoch 37/250\n",
            "\u001b[1m270/270\u001b[0m \u001b[32m━━━━━━━━━━━━━━━━━━━━\u001b[0m\u001b[37m\u001b[0m \u001b[1m1s\u001b[0m 5ms/step - loss: 0.1015 - val_loss: 0.0337 - learning_rate: 5.0000e-04\n",
            "Epoch 38/250\n",
            "\u001b[1m270/270\u001b[0m \u001b[32m━━━━━━━━━━━━━━━━━━━━\u001b[0m\u001b[37m\u001b[0m \u001b[1m1s\u001b[0m 5ms/step - loss: 0.1018 - val_loss: 0.0375 - learning_rate: 5.0000e-04\n",
            "Epoch 39/250\n",
            "\u001b[1m270/270\u001b[0m \u001b[32m━━━━━━━━━━━━━━━━━━━━\u001b[0m\u001b[37m\u001b[0m \u001b[1m1s\u001b[0m 5ms/step - loss: 0.1017 - val_loss: 0.0355 - learning_rate: 5.0000e-04\n",
            "Epoch 40/250\n",
            "\u001b[1m270/270\u001b[0m \u001b[32m━━━━━━━━━━━━━━━━━━━━\u001b[0m\u001b[37m\u001b[0m \u001b[1m2s\u001b[0m 6ms/step - loss: 0.1033 - val_loss: 0.0363 - learning_rate: 5.0000e-04\n",
            "Epoch 41/250\n",
            "\u001b[1m270/270\u001b[0m \u001b[32m━━━━━━━━━━━━━━━━━━━━\u001b[0m\u001b[37m\u001b[0m \u001b[1m1s\u001b[0m 5ms/step - loss: 0.1031 - val_loss: 0.0388 - learning_rate: 5.0000e-04\n",
            "Epoch 42/250\n",
            "\u001b[1m270/270\u001b[0m \u001b[32m━━━━━━━━━━━━━━━━━━━━\u001b[0m\u001b[37m\u001b[0m \u001b[1m1s\u001b[0m 5ms/step - loss: 0.1004 - val_loss: 0.0347 - learning_rate: 5.0000e-04\n",
            "Epoch 43/250\n",
            "\u001b[1m270/270\u001b[0m \u001b[32m━━━━━━━━━━━━━━━━━━━━\u001b[0m\u001b[37m\u001b[0m \u001b[1m1s\u001b[0m 5ms/step - loss: 0.1019 - val_loss: 0.0346 - learning_rate: 5.0000e-04\n",
            "Epoch 44/250\n",
            "\u001b[1m270/270\u001b[0m \u001b[32m━━━━━━━━━━━━━━━━━━━━\u001b[0m\u001b[37m\u001b[0m \u001b[1m2s\u001b[0m 5ms/step - loss: 0.0997 - val_loss: 0.0359 - learning_rate: 5.0000e-04\n",
            "Epoch 45/250\n",
            "\u001b[1m270/270\u001b[0m \u001b[32m━━━━━━━━━━━━━━━━━━━━\u001b[0m\u001b[37m\u001b[0m \u001b[1m1s\u001b[0m 5ms/step - loss: 0.0984 - val_loss: 0.0373 - learning_rate: 5.0000e-04\n",
            "Epoch 46/250\n",
            "\u001b[1m270/270\u001b[0m \u001b[32m━━━━━━━━━━━━━━━━━━━━\u001b[0m\u001b[37m\u001b[0m \u001b[1m2s\u001b[0m 6ms/step - loss: 0.1002 - val_loss: 0.0341 - learning_rate: 5.0000e-04\n",
            "Epoch 47/250\n",
            "\u001b[1m270/270\u001b[0m \u001b[32m━━━━━━━━━━━━━━━━━━━━\u001b[0m\u001b[37m\u001b[0m \u001b[1m1s\u001b[0m 5ms/step - loss: 0.0968 - val_loss: 0.0357 - learning_rate: 5.0000e-04\n",
            "Epoch 48/250\n",
            "\u001b[1m270/270\u001b[0m \u001b[32m━━━━━━━━━━━━━━━━━━━━\u001b[0m\u001b[37m\u001b[0m \u001b[1m1s\u001b[0m 5ms/step - loss: 0.0921 - val_loss: 0.0374 - learning_rate: 2.5000e-04\n",
            "Epoch 49/250\n",
            "\u001b[1m270/270\u001b[0m \u001b[32m━━━━━━━━━━━━━━━━━━━━\u001b[0m\u001b[37m\u001b[0m \u001b[1m1s\u001b[0m 5ms/step - loss: 0.0875 - val_loss: 0.0296 - learning_rate: 2.5000e-04\n",
            "Epoch 50/250\n",
            "\u001b[1m270/270\u001b[0m \u001b[32m━━━━━━━━━━━━━━━━━━━━\u001b[0m\u001b[37m\u001b[0m \u001b[1m1s\u001b[0m 5ms/step - loss: 0.0863 - val_loss: 0.0310 - learning_rate: 2.5000e-04\n",
            "Epoch 51/250\n",
            "\u001b[1m270/270\u001b[0m \u001b[32m━━━━━━━━━━━━━━━━━━━━\u001b[0m\u001b[37m\u001b[0m \u001b[1m1s\u001b[0m 5ms/step - loss: 0.0877 - val_loss: 0.0315 - learning_rate: 2.5000e-04\n",
            "Epoch 52/250\n",
            "\u001b[1m270/270\u001b[0m \u001b[32m━━━━━━━━━━━━━━━━━━━━\u001b[0m\u001b[37m\u001b[0m \u001b[1m1s\u001b[0m 5ms/step - loss: 0.0847 - val_loss: 0.0278 - learning_rate: 2.5000e-04\n",
            "Epoch 53/250\n",
            "\u001b[1m270/270\u001b[0m \u001b[32m━━━━━━━━━━━━━━━━━━━━\u001b[0m\u001b[37m\u001b[0m \u001b[1m1s\u001b[0m 5ms/step - loss: 0.0855 - val_loss: 0.0295 - learning_rate: 2.5000e-04\n",
            "Epoch 54/250\n",
            "\u001b[1m270/270\u001b[0m \u001b[32m━━━━━━━━━━━━━━━━━━━━\u001b[0m\u001b[37m\u001b[0m \u001b[1m1s\u001b[0m 5ms/step - loss: 0.0867 - val_loss: 0.0258 - learning_rate: 2.5000e-04\n",
            "Epoch 55/250\n",
            "\u001b[1m270/270\u001b[0m \u001b[32m━━━━━━━━━━━━━━━━━━━━\u001b[0m\u001b[37m\u001b[0m \u001b[1m1s\u001b[0m 5ms/step - loss: 0.0858 - val_loss: 0.0261 - learning_rate: 2.5000e-04\n",
            "Epoch 56/250\n",
            "\u001b[1m270/270\u001b[0m \u001b[32m━━━━━━━━━━━━━━━━━━━━\u001b[0m\u001b[37m\u001b[0m \u001b[1m1s\u001b[0m 5ms/step - loss: 0.0873 - val_loss: 0.0273 - learning_rate: 2.5000e-04\n",
            "Epoch 57/250\n",
            "\u001b[1m270/270\u001b[0m \u001b[32m━━━━━━━━━━━━━━━━━━━━\u001b[0m\u001b[37m\u001b[0m \u001b[1m2s\u001b[0m 5ms/step - loss: 0.0844 - val_loss: 0.0257 - learning_rate: 2.5000e-04\n",
            "Epoch 58/250\n",
            "\u001b[1m270/270\u001b[0m \u001b[32m━━━━━━━━━━━━━━━━━━━━\u001b[0m\u001b[37m\u001b[0m \u001b[1m1s\u001b[0m 5ms/step - loss: 0.0851 - val_loss: 0.0269 - learning_rate: 2.5000e-04\n",
            "Epoch 59/250\n",
            "\u001b[1m270/270\u001b[0m \u001b[32m━━━━━━━━━━━━━━━━━━━━\u001b[0m\u001b[37m\u001b[0m \u001b[1m1s\u001b[0m 5ms/step - loss: 0.0865 - val_loss: 0.0236 - learning_rate: 2.5000e-04\n",
            "Epoch 60/250\n",
            "\u001b[1m270/270\u001b[0m \u001b[32m━━━━━━━━━━━━━━━━━━━━\u001b[0m\u001b[37m\u001b[0m \u001b[1m1s\u001b[0m 5ms/step - loss: 0.0833 - val_loss: 0.0248 - learning_rate: 2.5000e-04\n",
            "Epoch 61/250\n",
            "\u001b[1m270/270\u001b[0m \u001b[32m━━━━━━━━━━━━━━━━━━━━\u001b[0m\u001b[37m\u001b[0m \u001b[1m1s\u001b[0m 5ms/step - loss: 0.0835 - val_loss: 0.0263 - learning_rate: 2.5000e-04\n",
            "Epoch 62/250\n",
            "\u001b[1m270/270\u001b[0m \u001b[32m━━━━━━━━━━━━━━━━━━━━\u001b[0m\u001b[37m\u001b[0m \u001b[1m3s\u001b[0m 5ms/step - loss: 0.0836 - val_loss: 0.0261 - learning_rate: 2.5000e-04\n",
            "Epoch 63/250\n",
            "\u001b[1m270/270\u001b[0m \u001b[32m━━━━━━━━━━━━━━━━━━━━\u001b[0m\u001b[37m\u001b[0m \u001b[1m1s\u001b[0m 5ms/step - loss: 0.0845 - val_loss: 0.0258 - learning_rate: 2.5000e-04\n",
            "Epoch 64/250\n",
            "\u001b[1m270/270\u001b[0m \u001b[32m━━━━━━━━━━━━━━━━━━━━\u001b[0m\u001b[37m\u001b[0m \u001b[1m2s\u001b[0m 6ms/step - loss: 0.0822 - val_loss: 0.0265 - learning_rate: 2.5000e-04\n",
            "Epoch 65/250\n",
            "\u001b[1m270/270\u001b[0m \u001b[32m━━━━━━━━━━━━━━━━━━━━\u001b[0m\u001b[37m\u001b[0m \u001b[1m1s\u001b[0m 5ms/step - loss: 0.0860 - val_loss: 0.0273 - learning_rate: 2.5000e-04\n",
            "Epoch 66/250\n",
            "\u001b[1m270/270\u001b[0m \u001b[32m━━━━━━━━━━━━━━━━━━━━\u001b[0m\u001b[37m\u001b[0m \u001b[1m1s\u001b[0m 5ms/step - loss: 0.0860 - val_loss: 0.0264 - learning_rate: 2.5000e-04\n",
            "Epoch 67/250\n",
            "\u001b[1m270/270\u001b[0m \u001b[32m━━━━━━━━━━━━━━━━━━━━\u001b[0m\u001b[37m\u001b[0m \u001b[1m1s\u001b[0m 5ms/step - loss: 0.0830 - val_loss: 0.0304 - learning_rate: 2.5000e-04\n",
            "Epoch 68/250\n",
            "\u001b[1m270/270\u001b[0m \u001b[32m━━━━━━━━━━━━━━━━━━━━\u001b[0m\u001b[37m\u001b[0m \u001b[1m1s\u001b[0m 5ms/step - loss: 0.0830 - val_loss: 0.0273 - learning_rate: 2.5000e-04\n",
            "Epoch 69/250\n",
            "\u001b[1m270/270\u001b[0m \u001b[32m━━━━━━━━━━━━━━━━━━━━\u001b[0m\u001b[37m\u001b[0m \u001b[1m1s\u001b[0m 5ms/step - loss: 0.0829 - val_loss: 0.0252 - learning_rate: 2.5000e-04\n",
            "Epoch 70/250\n",
            "\u001b[1m270/270\u001b[0m \u001b[32m━━━━━━━━━━━━━━━━━━━━\u001b[0m\u001b[37m\u001b[0m \u001b[1m1s\u001b[0m 5ms/step - loss: 0.0779 - val_loss: 0.0244 - learning_rate: 1.2500e-04\n",
            "Epoch 71/250\n",
            "\u001b[1m270/270\u001b[0m \u001b[32m━━━━━━━━━━━━━━━━━━━━\u001b[0m\u001b[37m\u001b[0m \u001b[1m1s\u001b[0m 5ms/step - loss: 0.0777 - val_loss: 0.0221 - learning_rate: 1.2500e-04\n",
            "Epoch 72/250\n",
            "\u001b[1m270/270\u001b[0m \u001b[32m━━━━━━━━━━━━━━━━━━━━\u001b[0m\u001b[37m\u001b[0m \u001b[1m1s\u001b[0m 5ms/step - loss: 0.0757 - val_loss: 0.0212 - learning_rate: 1.2500e-04\n",
            "Epoch 73/250\n",
            "\u001b[1m270/270\u001b[0m \u001b[32m━━━━━━━━━━━━━━━━━━━━\u001b[0m\u001b[37m\u001b[0m \u001b[1m1s\u001b[0m 5ms/step - loss: 0.0775 - val_loss: 0.0211 - learning_rate: 1.2500e-04\n",
            "Epoch 74/250\n",
            "\u001b[1m270/270\u001b[0m \u001b[32m━━━━━━━━━━━━━━━━━━━━\u001b[0m\u001b[37m\u001b[0m \u001b[1m1s\u001b[0m 5ms/step - loss: 0.0767 - val_loss: 0.0214 - learning_rate: 1.2500e-04\n",
            "Epoch 75/250\n",
            "\u001b[1m270/270\u001b[0m \u001b[32m━━━━━━━━━━━━━━━━━━━━\u001b[0m\u001b[37m\u001b[0m \u001b[1m1s\u001b[0m 5ms/step - loss: 0.0798 - val_loss: 0.0233 - learning_rate: 1.2500e-04\n",
            "Epoch 76/250\n",
            "\u001b[1m270/270\u001b[0m \u001b[32m━━━━━━━━━━━━━━━━━━━━\u001b[0m\u001b[37m\u001b[0m \u001b[1m2s\u001b[0m 5ms/step - loss: 0.0779 - val_loss: 0.0222 - learning_rate: 1.2500e-04\n",
            "Epoch 77/250\n",
            "\u001b[1m270/270\u001b[0m \u001b[32m━━━━━━━━━━━━━━━━━━━━\u001b[0m\u001b[37m\u001b[0m \u001b[1m1s\u001b[0m 5ms/step - loss: 0.0762 - val_loss: 0.0222 - learning_rate: 1.2500e-04\n",
            "Epoch 78/250\n",
            "\u001b[1m270/270\u001b[0m \u001b[32m━━━━━━━━━━━━━━━━━━━━\u001b[0m\u001b[37m\u001b[0m \u001b[1m1s\u001b[0m 5ms/step - loss: 0.0765 - val_loss: 0.0191 - learning_rate: 1.2500e-04\n",
            "Epoch 79/250\n",
            "\u001b[1m270/270\u001b[0m \u001b[32m━━━━━━━━━━━━━━━━━━━━\u001b[0m\u001b[37m\u001b[0m \u001b[1m1s\u001b[0m 5ms/step - loss: 0.0748 - val_loss: 0.0218 - learning_rate: 1.2500e-04\n",
            "Epoch 80/250\n",
            "\u001b[1m270/270\u001b[0m \u001b[32m━━━━━━━━━━━━━━━━━━━━\u001b[0m\u001b[37m\u001b[0m \u001b[1m1s\u001b[0m 5ms/step - loss: 0.0770 - val_loss: 0.0202 - learning_rate: 1.2500e-04\n",
            "Epoch 81/250\n",
            "\u001b[1m270/270\u001b[0m \u001b[32m━━━━━━━━━━━━━━━━━━━━\u001b[0m\u001b[37m\u001b[0m \u001b[1m1s\u001b[0m 5ms/step - loss: 0.0749 - val_loss: 0.0228 - learning_rate: 1.2500e-04\n",
            "Epoch 82/250\n",
            "\u001b[1m270/270\u001b[0m \u001b[32m━━━━━━━━━━━━━━━━━━━━\u001b[0m\u001b[37m\u001b[0m \u001b[1m1s\u001b[0m 5ms/step - loss: 0.0736 - val_loss: 0.0221 - learning_rate: 1.2500e-04\n",
            "Epoch 83/250\n",
            "\u001b[1m270/270\u001b[0m \u001b[32m━━━━━━━━━━━━━━━━━━━━\u001b[0m\u001b[37m\u001b[0m \u001b[1m2s\u001b[0m 6ms/step - loss: 0.0745 - val_loss: 0.0209 - learning_rate: 1.2500e-04\n",
            "Epoch 84/250\n",
            "\u001b[1m270/270\u001b[0m \u001b[32m━━━━━━━━━━━━━━━━━━━━\u001b[0m\u001b[37m\u001b[0m \u001b[1m1s\u001b[0m 5ms/step - loss: 0.0748 - val_loss: 0.0202 - learning_rate: 1.2500e-04\n",
            "Epoch 85/250\n",
            "\u001b[1m270/270\u001b[0m \u001b[32m━━━━━━━━━━━━━━━━━━━━\u001b[0m\u001b[37m\u001b[0m \u001b[1m1s\u001b[0m 5ms/step - loss: 0.0742 - val_loss: 0.0205 - learning_rate: 1.2500e-04\n",
            "Epoch 86/250\n",
            "\u001b[1m270/270\u001b[0m \u001b[32m━━━━━━━━━━━━━━━━━━━━\u001b[0m\u001b[37m\u001b[0m \u001b[1m1s\u001b[0m 5ms/step - loss: 0.0760 - val_loss: 0.0194 - learning_rate: 1.2500e-04\n",
            "Epoch 87/250\n",
            "\u001b[1m270/270\u001b[0m \u001b[32m━━━━━━━━━━━━━━━━━━━━\u001b[0m\u001b[37m\u001b[0m \u001b[1m2s\u001b[0m 5ms/step - loss: 0.0747 - val_loss: 0.0199 - learning_rate: 1.2500e-04\n",
            "Epoch 88/250\n",
            "\u001b[1m270/270\u001b[0m \u001b[32m━━━━━━━━━━━━━━━━━━━━\u001b[0m\u001b[37m\u001b[0m \u001b[1m2s\u001b[0m 5ms/step - loss: 0.0746 - val_loss: 0.0185 - learning_rate: 1.2500e-04\n",
            "Epoch 89/250\n",
            "\u001b[1m270/270\u001b[0m \u001b[32m━━━━━━━━━━━━━━━━━━━━\u001b[0m\u001b[37m\u001b[0m \u001b[1m1s\u001b[0m 5ms/step - loss: 0.0744 - val_loss: 0.0193 - learning_rate: 1.2500e-04\n",
            "Epoch 90/250\n",
            "\u001b[1m270/270\u001b[0m \u001b[32m━━━━━━━━━━━━━━━━━━━━\u001b[0m\u001b[37m\u001b[0m \u001b[1m1s\u001b[0m 5ms/step - loss: 0.0767 - val_loss: 0.0210 - learning_rate: 1.2500e-04\n",
            "Epoch 91/250\n",
            "\u001b[1m270/270\u001b[0m \u001b[32m━━━━━━━━━━━━━━━━━━━━\u001b[0m\u001b[37m\u001b[0m \u001b[1m1s\u001b[0m 5ms/step - loss: 0.0722 - val_loss: 0.0194 - learning_rate: 1.2500e-04\n",
            "Epoch 92/250\n",
            "\u001b[1m270/270\u001b[0m \u001b[32m━━━━━━━━━━━━━━━━━━━━\u001b[0m\u001b[37m\u001b[0m \u001b[1m1s\u001b[0m 5ms/step - loss: 0.0748 - val_loss: 0.0202 - learning_rate: 1.2500e-04\n",
            "Epoch 93/250\n",
            "\u001b[1m270/270\u001b[0m \u001b[32m━━━━━━━━━━━━━━━━━━━━\u001b[0m\u001b[37m\u001b[0m \u001b[1m2s\u001b[0m 5ms/step - loss: 0.0733 - val_loss: 0.0179 - learning_rate: 1.2500e-04\n",
            "Epoch 94/250\n",
            "\u001b[1m270/270\u001b[0m \u001b[32m━━━━━━━━━━━━━━━━━━━━\u001b[0m\u001b[37m\u001b[0m \u001b[1m1s\u001b[0m 5ms/step - loss: 0.0741 - val_loss: 0.0175 - learning_rate: 1.2500e-04\n",
            "Epoch 95/250\n",
            "\u001b[1m270/270\u001b[0m \u001b[32m━━━━━━━━━━━━━━━━━━━━\u001b[0m\u001b[37m\u001b[0m \u001b[1m2s\u001b[0m 6ms/step - loss: 0.0748 - val_loss: 0.0205 - learning_rate: 1.2500e-04\n",
            "Epoch 96/250\n",
            "\u001b[1m270/270\u001b[0m \u001b[32m━━━━━━━━━━━━━━━━━━━━\u001b[0m\u001b[37m\u001b[0m \u001b[1m1s\u001b[0m 5ms/step - loss: 0.0744 - val_loss: 0.0182 - learning_rate: 1.2500e-04\n",
            "Epoch 97/250\n",
            "\u001b[1m270/270\u001b[0m \u001b[32m━━━━━━━━━━━━━━━━━━━━\u001b[0m\u001b[37m\u001b[0m \u001b[1m1s\u001b[0m 5ms/step - loss: 0.0730 - val_loss: 0.0208 - learning_rate: 1.2500e-04\n",
            "Epoch 98/250\n",
            "\u001b[1m270/270\u001b[0m \u001b[32m━━━━━━━━━━━━━━━━━━━━\u001b[0m\u001b[37m\u001b[0m \u001b[1m1s\u001b[0m 5ms/step - loss: 0.0714 - val_loss: 0.0192 - learning_rate: 1.2500e-04\n",
            "Epoch 99/250\n",
            "\u001b[1m270/270\u001b[0m \u001b[32m━━━━━━━━━━━━━━━━━━━━\u001b[0m\u001b[37m\u001b[0m \u001b[1m1s\u001b[0m 5ms/step - loss: 0.0737 - val_loss: 0.0178 - learning_rate: 1.2500e-04\n",
            "Epoch 100/250\n",
            "\u001b[1m270/270\u001b[0m \u001b[32m━━━━━━━━━━━━━━━━━━━━\u001b[0m\u001b[37m\u001b[0m \u001b[1m1s\u001b[0m 5ms/step - loss: 0.0748 - val_loss: 0.0196 - learning_rate: 1.2500e-04\n",
            "Epoch 101/250\n",
            "\u001b[1m270/270\u001b[0m \u001b[32m━━━━━━━━━━━━━━━━━━━━\u001b[0m\u001b[37m\u001b[0m \u001b[1m1s\u001b[0m 5ms/step - loss: 0.0753 - val_loss: 0.0192 - learning_rate: 1.2500e-04\n",
            "Epoch 102/250\n",
            "\u001b[1m270/270\u001b[0m \u001b[32m━━━━━━━━━━━━━━━━━━━━\u001b[0m\u001b[37m\u001b[0m \u001b[1m1s\u001b[0m 5ms/step - loss: 0.0750 - val_loss: 0.0190 - learning_rate: 1.2500e-04\n",
            "Epoch 103/250\n",
            "\u001b[1m270/270\u001b[0m \u001b[32m━━━━━━━━━━━━━━━━━━━━\u001b[0m\u001b[37m\u001b[0m \u001b[1m1s\u001b[0m 5ms/step - loss: 0.0723 - val_loss: 0.0193 - learning_rate: 1.2500e-04\n",
            "Epoch 104/250\n",
            "\u001b[1m270/270\u001b[0m \u001b[32m━━━━━━━━━━━━━━━━━━━━\u001b[0m\u001b[37m\u001b[0m \u001b[1m1s\u001b[0m 5ms/step - loss: 0.0737 - val_loss: 0.0186 - learning_rate: 1.2500e-04\n",
            "Epoch 105/250\n",
            "\u001b[1m270/270\u001b[0m \u001b[32m━━━━━━━━━━━━━━━━━━━━\u001b[0m\u001b[37m\u001b[0m \u001b[1m1s\u001b[0m 5ms/step - loss: 0.0722 - val_loss: 0.0186 - learning_rate: 6.2500e-05\n",
            "Epoch 106/250\n",
            "\u001b[1m270/270\u001b[0m \u001b[32m━━━━━━━━━━━━━━━━━━━━\u001b[0m\u001b[37m\u001b[0m \u001b[1m1s\u001b[0m 5ms/step - loss: 0.0724 - val_loss: 0.0164 - learning_rate: 6.2500e-05\n",
            "Epoch 107/250\n",
            "\u001b[1m270/270\u001b[0m \u001b[32m━━━━━━━━━━━━━━━━━━━━\u001b[0m\u001b[37m\u001b[0m \u001b[1m1s\u001b[0m 5ms/step - loss: 0.0692 - val_loss: 0.0167 - learning_rate: 6.2500e-05\n",
            "Epoch 108/250\n",
            "\u001b[1m270/270\u001b[0m \u001b[32m━━━━━━━━━━━━━━━━━━━━\u001b[0m\u001b[37m\u001b[0m \u001b[1m1s\u001b[0m 5ms/step - loss: 0.0701 - val_loss: 0.0169 - learning_rate: 6.2500e-05\n",
            "Epoch 109/250\n",
            "\u001b[1m270/270\u001b[0m \u001b[32m━━━━━━━━━━━━━━━━━━━━\u001b[0m\u001b[37m\u001b[0m \u001b[1m1s\u001b[0m 5ms/step - loss: 0.0677 - val_loss: 0.0165 - learning_rate: 6.2500e-05\n",
            "Epoch 110/250\n",
            "\u001b[1m270/270\u001b[0m \u001b[32m━━━━━━━━━━━━━━━━━━━━\u001b[0m\u001b[37m\u001b[0m \u001b[1m1s\u001b[0m 5ms/step - loss: 0.0684 - val_loss: 0.0169 - learning_rate: 6.2500e-05\n",
            "Epoch 111/250\n",
            "\u001b[1m270/270\u001b[0m \u001b[32m━━━━━━━━━━━━━━━━━━━━\u001b[0m\u001b[37m\u001b[0m \u001b[1m1s\u001b[0m 5ms/step - loss: 0.0672 - val_loss: 0.0164 - learning_rate: 6.2500e-05\n",
            "Epoch 112/250\n",
            "\u001b[1m270/270\u001b[0m \u001b[32m━━━━━━━━━━━━━━━━━━━━\u001b[0m\u001b[37m\u001b[0m \u001b[1m1s\u001b[0m 5ms/step - loss: 0.0699 - val_loss: 0.0160 - learning_rate: 6.2500e-05\n",
            "Epoch 113/250\n",
            "\u001b[1m270/270\u001b[0m \u001b[32m━━━━━━━━━━━━━━━━━━━━\u001b[0m\u001b[37m\u001b[0m \u001b[1m2s\u001b[0m 5ms/step - loss: 0.0703 - val_loss: 0.0158 - learning_rate: 6.2500e-05\n",
            "Epoch 114/250\n",
            "\u001b[1m270/270\u001b[0m \u001b[32m━━━━━━━━━━━━━━━━━━━━\u001b[0m\u001b[37m\u001b[0m \u001b[1m2s\u001b[0m 5ms/step - loss: 0.0689 - val_loss: 0.0169 - learning_rate: 6.2500e-05\n",
            "Epoch 115/250\n",
            "\u001b[1m270/270\u001b[0m \u001b[32m━━━━━━━━━━━━━━━━━━━━\u001b[0m\u001b[37m\u001b[0m \u001b[1m2s\u001b[0m 6ms/step - loss: 0.0684 - val_loss: 0.0163 - learning_rate: 6.2500e-05\n",
            "Epoch 116/250\n",
            "\u001b[1m270/270\u001b[0m \u001b[32m━━━━━━━━━━━━━━━━━━━━\u001b[0m\u001b[37m\u001b[0m \u001b[1m2s\u001b[0m 6ms/step - loss: 0.0689 - val_loss: 0.0152 - learning_rate: 6.2500e-05\n",
            "Epoch 117/250\n",
            "\u001b[1m270/270\u001b[0m \u001b[32m━━━━━━━━━━━━━━━━━━━━\u001b[0m\u001b[37m\u001b[0m \u001b[1m2s\u001b[0m 6ms/step - loss: 0.0685 - val_loss: 0.0159 - learning_rate: 6.2500e-05\n",
            "Epoch 118/250\n",
            "\u001b[1m270/270\u001b[0m \u001b[32m━━━━━━━━━━━━━━━━━━━━\u001b[0m\u001b[37m\u001b[0m \u001b[1m1s\u001b[0m 5ms/step - loss: 0.0684 - val_loss: 0.0169 - learning_rate: 6.2500e-05\n",
            "Epoch 119/250\n",
            "\u001b[1m270/270\u001b[0m \u001b[32m━━━━━━━━━━━━━━━━━━━━\u001b[0m\u001b[37m\u001b[0m \u001b[1m2s\u001b[0m 5ms/step - loss: 0.0721 - val_loss: 0.0148 - learning_rate: 6.2500e-05\n",
            "Epoch 120/250\n",
            "\u001b[1m270/270\u001b[0m \u001b[32m━━━━━━━━━━━━━━━━━━━━\u001b[0m\u001b[37m\u001b[0m \u001b[1m2s\u001b[0m 6ms/step - loss: 0.0687 - val_loss: 0.0170 - learning_rate: 6.2500e-05\n",
            "Epoch 121/250\n",
            "\u001b[1m270/270\u001b[0m \u001b[32m━━━━━━━━━━━━━━━━━━━━\u001b[0m\u001b[37m\u001b[0m \u001b[1m1s\u001b[0m 5ms/step - loss: 0.0683 - val_loss: 0.0155 - learning_rate: 6.2500e-05\n",
            "Epoch 122/250\n",
            "\u001b[1m270/270\u001b[0m \u001b[32m━━━━━━━━━━━━━━━━━━━━\u001b[0m\u001b[37m\u001b[0m \u001b[1m1s\u001b[0m 5ms/step - loss: 0.0684 - val_loss: 0.0155 - learning_rate: 6.2500e-05\n",
            "Epoch 123/250\n",
            "\u001b[1m270/270\u001b[0m \u001b[32m━━━━━━━━━━━━━━━━━━━━\u001b[0m\u001b[37m\u001b[0m \u001b[1m2s\u001b[0m 5ms/step - loss: 0.0665 - val_loss: 0.0159 - learning_rate: 6.2500e-05\n",
            "Epoch 124/250\n",
            "\u001b[1m270/270\u001b[0m \u001b[32m━━━━━━━━━━━━━━━━━━━━\u001b[0m\u001b[37m\u001b[0m \u001b[1m1s\u001b[0m 5ms/step - loss: 0.0683 - val_loss: 0.0143 - learning_rate: 6.2500e-05\n",
            "Epoch 125/250\n",
            "\u001b[1m270/270\u001b[0m \u001b[32m━━━━━━━━━━━━━━━━━━━━\u001b[0m\u001b[37m\u001b[0m \u001b[1m2s\u001b[0m 6ms/step - loss: 0.0721 - val_loss: 0.0140 - learning_rate: 6.2500e-05\n",
            "Epoch 126/250\n",
            "\u001b[1m270/270\u001b[0m \u001b[32m━━━━━━━━━━━━━━━━━━━━\u001b[0m\u001b[37m\u001b[0m \u001b[1m1s\u001b[0m 5ms/step - loss: 0.0660 - val_loss: 0.0148 - learning_rate: 6.2500e-05\n",
            "Epoch 127/250\n",
            "\u001b[1m270/270\u001b[0m \u001b[32m━━━━━━━━━━━━━━━━━━━━\u001b[0m\u001b[37m\u001b[0m \u001b[1m1s\u001b[0m 5ms/step - loss: 0.0681 - val_loss: 0.0147 - learning_rate: 6.2500e-05\n",
            "Epoch 128/250\n",
            "\u001b[1m270/270\u001b[0m \u001b[32m━━━━━━━━━━━━━━━━━━━━\u001b[0m\u001b[37m\u001b[0m \u001b[1m2s\u001b[0m 4ms/step - loss: 0.0673 - val_loss: 0.0146 - learning_rate: 6.2500e-05\n",
            "Epoch 129/250\n",
            "\u001b[1m270/270\u001b[0m \u001b[32m━━━━━━━━━━━━━━━━━━━━\u001b[0m\u001b[37m\u001b[0m \u001b[1m1s\u001b[0m 5ms/step - loss: 0.0685 - val_loss: 0.0141 - learning_rate: 6.2500e-05\n",
            "Epoch 130/250\n",
            "\u001b[1m270/270\u001b[0m \u001b[32m━━━━━━━━━━━━━━━━━━━━\u001b[0m\u001b[37m\u001b[0m \u001b[1m2s\u001b[0m 6ms/step - loss: 0.0684 - val_loss: 0.0155 - learning_rate: 6.2500e-05\n",
            "Epoch 131/250\n",
            "\u001b[1m270/270\u001b[0m \u001b[32m━━━━━━━━━━━━━━━━━━━━\u001b[0m\u001b[37m\u001b[0m \u001b[1m1s\u001b[0m 5ms/step - loss: 0.0674 - val_loss: 0.0147 - learning_rate: 6.2500e-05\n",
            "Epoch 132/250\n",
            "\u001b[1m270/270\u001b[0m \u001b[32m━━━━━━━━━━━━━━━━━━━━\u001b[0m\u001b[37m\u001b[0m \u001b[1m2s\u001b[0m 6ms/step - loss: 0.0674 - val_loss: 0.0152 - learning_rate: 6.2500e-05\n",
            "Epoch 133/250\n",
            "\u001b[1m270/270\u001b[0m \u001b[32m━━━━━━━━━━━━━━━━━━━━\u001b[0m\u001b[37m\u001b[0m \u001b[1m2s\u001b[0m 6ms/step - loss: 0.0690 - val_loss: 0.0143 - learning_rate: 6.2500e-05\n",
            "Epoch 134/250\n",
            "\u001b[1m270/270\u001b[0m \u001b[32m━━━━━━━━━━━━━━━━━━━━\u001b[0m\u001b[37m\u001b[0m \u001b[1m2s\u001b[0m 5ms/step - loss: 0.0705 - val_loss: 0.0153 - learning_rate: 6.2500e-05\n",
            "Epoch 135/250\n",
            "\u001b[1m270/270\u001b[0m \u001b[32m━━━━━━━━━━━━━━━━━━━━\u001b[0m\u001b[37m\u001b[0m \u001b[1m2s\u001b[0m 6ms/step - loss: 0.0698 - val_loss: 0.0143 - learning_rate: 6.2500e-05\n",
            "Epoch 136/250\n",
            "\u001b[1m270/270\u001b[0m \u001b[32m━━━━━━━━━━━━━━━━━━━━\u001b[0m\u001b[37m\u001b[0m \u001b[1m2s\u001b[0m 6ms/step - loss: 0.0659 - val_loss: 0.0137 - learning_rate: 3.1250e-05\n",
            "Epoch 137/250\n",
            "\u001b[1m270/270\u001b[0m \u001b[32m━━━━━━━━━━━━━━━━━━━━\u001b[0m\u001b[37m\u001b[0m \u001b[1m2s\u001b[0m 6ms/step - loss: 0.0646 - val_loss: 0.0143 - learning_rate: 3.1250e-05\n",
            "Epoch 138/250\n",
            "\u001b[1m270/270\u001b[0m \u001b[32m━━━━━━━━━━━━━━━━━━━━\u001b[0m\u001b[37m\u001b[0m \u001b[1m2s\u001b[0m 5ms/step - loss: 0.0697 - val_loss: 0.0135 - learning_rate: 3.1250e-05\n",
            "Epoch 139/250\n",
            "\u001b[1m270/270\u001b[0m \u001b[32m━━━━━━━━━━━━━━━━━━━━\u001b[0m\u001b[37m\u001b[0m \u001b[1m2s\u001b[0m 6ms/step - loss: 0.0661 - val_loss: 0.0132 - learning_rate: 3.1250e-05\n",
            "Epoch 140/250\n",
            "\u001b[1m270/270\u001b[0m \u001b[32m━━━━━━━━━━━━━━━━━━━━\u001b[0m\u001b[37m\u001b[0m \u001b[1m2s\u001b[0m 6ms/step - loss: 0.0664 - val_loss: 0.0135 - learning_rate: 3.1250e-05\n",
            "Epoch 141/250\n",
            "\u001b[1m270/270\u001b[0m \u001b[32m━━━━━━━━━━━━━━━━━━━━\u001b[0m\u001b[37m\u001b[0m \u001b[1m2s\u001b[0m 6ms/step - loss: 0.0660 - val_loss: 0.0132 - learning_rate: 3.1250e-05\n",
            "Epoch 142/250\n",
            "\u001b[1m270/270\u001b[0m \u001b[32m━━━━━━━━━━━━━━━━━━━━\u001b[0m\u001b[37m\u001b[0m \u001b[1m2s\u001b[0m 6ms/step - loss: 0.0651 - val_loss: 0.0144 - learning_rate: 3.1250e-05\n",
            "Epoch 143/250\n",
            "\u001b[1m270/270\u001b[0m \u001b[32m━━━━━━━━━━━━━━━━━━━━\u001b[0m\u001b[37m\u001b[0m \u001b[1m2s\u001b[0m 6ms/step - loss: 0.0655 - val_loss: 0.0138 - learning_rate: 3.1250e-05\n",
            "Epoch 144/250\n",
            "\u001b[1m270/270\u001b[0m \u001b[32m━━━━━━━━━━━━━━━━━━━━\u001b[0m\u001b[37m\u001b[0m \u001b[1m2s\u001b[0m 6ms/step - loss: 0.0668 - val_loss: 0.0138 - learning_rate: 3.1250e-05\n",
            "Epoch 145/250\n",
            "\u001b[1m270/270\u001b[0m \u001b[32m━━━━━━━━━━━━━━━━━━━━\u001b[0m\u001b[37m\u001b[0m \u001b[1m2s\u001b[0m 5ms/step - loss: 0.0658 - val_loss: 0.0135 - learning_rate: 3.1250e-05\n",
            "Epoch 146/250\n",
            "\u001b[1m270/270\u001b[0m \u001b[32m━━━━━━━━━━━━━━━━━━━━\u001b[0m\u001b[37m\u001b[0m \u001b[1m2s\u001b[0m 6ms/step - loss: 0.0650 - val_loss: 0.0135 - learning_rate: 3.1250e-05\n",
            "Epoch 147/250\n",
            "\u001b[1m270/270\u001b[0m \u001b[32m━━━━━━━━━━━━━━━━━━━━\u001b[0m\u001b[37m\u001b[0m \u001b[1m2s\u001b[0m 6ms/step - loss: 0.0650 - val_loss: 0.0138 - learning_rate: 3.1250e-05\n",
            "Epoch 148/250\n",
            "\u001b[1m270/270\u001b[0m \u001b[32m━━━━━━━━━━━━━━━━━━━━\u001b[0m\u001b[37m\u001b[0m \u001b[1m1s\u001b[0m 5ms/step - loss: 0.0651 - val_loss: 0.0140 - learning_rate: 3.1250e-05\n",
            "Epoch 149/250\n",
            "\u001b[1m270/270\u001b[0m \u001b[32m━━━━━━━━━━━━━━━━━━━━\u001b[0m\u001b[37m\u001b[0m \u001b[1m1s\u001b[0m 5ms/step - loss: 0.0645 - val_loss: 0.0124 - learning_rate: 3.1250e-05\n",
            "Epoch 150/250\n",
            "\u001b[1m270/270\u001b[0m \u001b[32m━━━━━━━━━━━━━━━━━━━━\u001b[0m\u001b[37m\u001b[0m \u001b[1m1s\u001b[0m 5ms/step - loss: 0.0651 - val_loss: 0.0126 - learning_rate: 3.1250e-05\n",
            "Epoch 151/250\n",
            "\u001b[1m270/270\u001b[0m \u001b[32m━━━━━━━━━━━━━━━━━━━━\u001b[0m\u001b[37m\u001b[0m \u001b[1m2s\u001b[0m 5ms/step - loss: 0.0663 - val_loss: 0.0131 - learning_rate: 3.1250e-05\n",
            "Epoch 152/250\n",
            "\u001b[1m270/270\u001b[0m \u001b[32m━━━━━━━━━━━━━━━━━━━━\u001b[0m\u001b[37m\u001b[0m \u001b[1m1s\u001b[0m 5ms/step - loss: 0.0652 - val_loss: 0.0147 - learning_rate: 3.1250e-05\n",
            "Epoch 153/250\n",
            "\u001b[1m270/270\u001b[0m \u001b[32m━━━━━━━━━━━━━━━━━━━━\u001b[0m\u001b[37m\u001b[0m \u001b[1m2s\u001b[0m 5ms/step - loss: 0.0652 - val_loss: 0.0133 - learning_rate: 3.1250e-05\n",
            "Epoch 154/250\n",
            "\u001b[1m270/270\u001b[0m \u001b[32m━━━━━━━━━━━━━━━━━━━━\u001b[0m\u001b[37m\u001b[0m \u001b[1m1s\u001b[0m 5ms/step - loss: 0.0652 - val_loss: 0.0138 - learning_rate: 3.1250e-05\n",
            "Epoch 155/250\n",
            "\u001b[1m270/270\u001b[0m \u001b[32m━━━━━━━━━━━━━━━━━━━━\u001b[0m\u001b[37m\u001b[0m \u001b[1m1s\u001b[0m 5ms/step - loss: 0.0659 - val_loss: 0.0130 - learning_rate: 3.1250e-05\n",
            "Epoch 156/250\n",
            "\u001b[1m270/270\u001b[0m \u001b[32m━━━━━━━━━━━━━━━━━━━━\u001b[0m\u001b[37m\u001b[0m \u001b[1m2s\u001b[0m 6ms/step - loss: 0.0627 - val_loss: 0.0124 - learning_rate: 3.1250e-05\n",
            "Epoch 157/250\n",
            "\u001b[1m270/270\u001b[0m \u001b[32m━━━━━━━━━━━━━━━━━━━━\u001b[0m\u001b[37m\u001b[0m \u001b[1m2s\u001b[0m 6ms/step - loss: 0.0673 - val_loss: 0.0134 - learning_rate: 3.1250e-05\n",
            "Epoch 158/250\n",
            "\u001b[1m270/270\u001b[0m \u001b[32m━━━━━━━━━━━━━━━━━━━━\u001b[0m\u001b[37m\u001b[0m \u001b[1m1s\u001b[0m 5ms/step - loss: 0.0660 - val_loss: 0.0134 - learning_rate: 3.1250e-05\n",
            "Epoch 159/250\n",
            "\u001b[1m270/270\u001b[0m \u001b[32m━━━━━━━━━━━━━━━━━━━━\u001b[0m\u001b[37m\u001b[0m \u001b[1m2s\u001b[0m 6ms/step - loss: 0.0637 - val_loss: 0.0129 - learning_rate: 3.1250e-05\n",
            "Epoch 160/250\n",
            "\u001b[1m270/270\u001b[0m \u001b[32m━━━━━━━━━━━━━━━━━━━━\u001b[0m\u001b[37m\u001b[0m \u001b[1m2s\u001b[0m 5ms/step - loss: 0.0653 - val_loss: 0.0126 - learning_rate: 1.5625e-05\n",
            "Epoch 161/250\n",
            "\u001b[1m270/270\u001b[0m \u001b[32m━━━━━━━━━━━━━━━━━━━━\u001b[0m\u001b[37m\u001b[0m \u001b[1m2s\u001b[0m 6ms/step - loss: 0.0655 - val_loss: 0.0127 - learning_rate: 1.5625e-05\n",
            "Epoch 162/250\n",
            "\u001b[1m270/270\u001b[0m \u001b[32m━━━━━━━━━━━━━━━━━━━━\u001b[0m\u001b[37m\u001b[0m \u001b[1m2s\u001b[0m 6ms/step - loss: 0.0647 - val_loss: 0.0125 - learning_rate: 1.5625e-05\n",
            "Epoch 163/250\n",
            "\u001b[1m270/270\u001b[0m \u001b[32m━━━━━━━━━━━━━━━━━━━━\u001b[0m\u001b[37m\u001b[0m \u001b[1m2s\u001b[0m 6ms/step - loss: 0.0642 - val_loss: 0.0123 - learning_rate: 1.5625e-05\n",
            "Epoch 164/250\n",
            "\u001b[1m270/270\u001b[0m \u001b[32m━━━━━━━━━━━━━━━━━━━━\u001b[0m\u001b[37m\u001b[0m \u001b[1m2s\u001b[0m 6ms/step - loss: 0.0644 - val_loss: 0.0130 - learning_rate: 1.5625e-05\n",
            "Epoch 165/250\n",
            "\u001b[1m270/270\u001b[0m \u001b[32m━━━━━━━━━━━━━━━━━━━━\u001b[0m\u001b[37m\u001b[0m \u001b[1m2s\u001b[0m 6ms/step - loss: 0.0623 - val_loss: 0.0126 - learning_rate: 1.5625e-05\n",
            "Epoch 166/250\n",
            "\u001b[1m270/270\u001b[0m \u001b[32m━━━━━━━━━━━━━━━━━━━━\u001b[0m\u001b[37m\u001b[0m \u001b[1m2s\u001b[0m 6ms/step - loss: 0.0628 - val_loss: 0.0126 - learning_rate: 1.5625e-05\n",
            "Epoch 167/250\n",
            "\u001b[1m270/270\u001b[0m \u001b[32m━━━━━━━━━━━━━━━━━━━━\u001b[0m\u001b[37m\u001b[0m \u001b[1m2s\u001b[0m 6ms/step - loss: 0.0639 - val_loss: 0.0123 - learning_rate: 1.5625e-05\n",
            "Epoch 168/250\n",
            "\u001b[1m270/270\u001b[0m \u001b[32m━━━━━━━━━━━━━━━━━━━━\u001b[0m\u001b[37m\u001b[0m \u001b[1m2s\u001b[0m 6ms/step - loss: 0.0635 - val_loss: 0.0120 - learning_rate: 1.5625e-05\n",
            "Epoch 169/250\n",
            "\u001b[1m270/270\u001b[0m \u001b[32m━━━━━━━━━━━━━━━━━━━━\u001b[0m\u001b[37m\u001b[0m \u001b[1m2s\u001b[0m 6ms/step - loss: 0.0641 - val_loss: 0.0122 - learning_rate: 1.5625e-05\n",
            "Epoch 170/250\n",
            "\u001b[1m270/270\u001b[0m \u001b[32m━━━━━━━━━━━━━━━━━━━━\u001b[0m\u001b[37m\u001b[0m \u001b[1m2s\u001b[0m 5ms/step - loss: 0.0633 - val_loss: 0.0119 - learning_rate: 1.5625e-05\n",
            "Epoch 171/250\n",
            "\u001b[1m270/270\u001b[0m \u001b[32m━━━━━━━━━━━━━━━━━━━━\u001b[0m\u001b[37m\u001b[0m \u001b[1m1s\u001b[0m 5ms/step - loss: 0.0628 - val_loss: 0.0119 - learning_rate: 1.5625e-05\n",
            "Epoch 172/250\n",
            "\u001b[1m270/270\u001b[0m \u001b[32m━━━━━━━━━━━━━━━━━━━━\u001b[0m\u001b[37m\u001b[0m \u001b[1m2s\u001b[0m 6ms/step - loss: 0.0635 - val_loss: 0.0121 - learning_rate: 1.5625e-05\n",
            "Epoch 173/250\n",
            "\u001b[1m270/270\u001b[0m \u001b[32m━━━━━━━━━━━━━━━━━━━━\u001b[0m\u001b[37m\u001b[0m \u001b[1m2s\u001b[0m 6ms/step - loss: 0.0625 - val_loss: 0.0124 - learning_rate: 1.5625e-05\n",
            "Epoch 174/250\n",
            "\u001b[1m270/270\u001b[0m \u001b[32m━━━━━━━━━━━━━━━━━━━━\u001b[0m\u001b[37m\u001b[0m \u001b[1m2s\u001b[0m 6ms/step - loss: 0.0651 - val_loss: 0.0117 - learning_rate: 1.5625e-05\n",
            "Epoch 175/250\n",
            "\u001b[1m270/270\u001b[0m \u001b[32m━━━━━━━━━━━━━━━━━━━━\u001b[0m\u001b[37m\u001b[0m \u001b[1m2s\u001b[0m 6ms/step - loss: 0.0667 - val_loss: 0.0119 - learning_rate: 1.5625e-05\n",
            "Epoch 176/250\n",
            "\u001b[1m270/270\u001b[0m \u001b[32m━━━━━━━━━━━━━━━━━━━━\u001b[0m\u001b[37m\u001b[0m \u001b[1m1s\u001b[0m 5ms/step - loss: 0.0616 - val_loss: 0.0121 - learning_rate: 1.5625e-05\n",
            "Epoch 177/250\n",
            "\u001b[1m270/270\u001b[0m \u001b[32m━━━━━━━━━━━━━━━━━━━━\u001b[0m\u001b[37m\u001b[0m \u001b[1m2s\u001b[0m 5ms/step - loss: 0.0632 - val_loss: 0.0119 - learning_rate: 1.5625e-05\n",
            "Epoch 178/250\n",
            "\u001b[1m270/270\u001b[0m \u001b[32m━━━━━━━━━━━━━━━━━━━━\u001b[0m\u001b[37m\u001b[0m \u001b[1m2s\u001b[0m 6ms/step - loss: 0.0623 - val_loss: 0.0123 - learning_rate: 1.5625e-05\n",
            "Epoch 179/250\n",
            "\u001b[1m270/270\u001b[0m \u001b[32m━━━━━━━━━━━━━━━━━━━━\u001b[0m\u001b[37m\u001b[0m \u001b[1m2s\u001b[0m 6ms/step - loss: 0.0632 - val_loss: 0.0119 - learning_rate: 1.5625e-05\n",
            "Epoch 180/250\n",
            "\u001b[1m270/270\u001b[0m \u001b[32m━━━━━━━━━━━━━━━━━━━━\u001b[0m\u001b[37m\u001b[0m \u001b[1m2s\u001b[0m 5ms/step - loss: 0.0621 - val_loss: 0.0122 - learning_rate: 1.5625e-05\n",
            "Epoch 181/250\n",
            "\u001b[1m270/270\u001b[0m \u001b[32m━━━━━━━━━━━━━━━━━━━━\u001b[0m\u001b[37m\u001b[0m \u001b[1m2s\u001b[0m 6ms/step - loss: 0.0641 - val_loss: 0.0121 - learning_rate: 1.5625e-05\n",
            "Epoch 182/250\n",
            "\u001b[1m270/270\u001b[0m \u001b[32m━━━━━━━━━━━━━━━━━━━━\u001b[0m\u001b[37m\u001b[0m \u001b[1m2s\u001b[0m 6ms/step - loss: 0.0618 - val_loss: 0.0122 - learning_rate: 1.5625e-05\n",
            "Epoch 183/250\n",
            "\u001b[1m270/270\u001b[0m \u001b[32m━━━━━━━━━━━━━━━━━━━━\u001b[0m\u001b[37m\u001b[0m \u001b[1m1s\u001b[0m 5ms/step - loss: 0.0616 - val_loss: 0.0123 - learning_rate: 1.5625e-05\n",
            "Epoch 184/250\n",
            "\u001b[1m270/270\u001b[0m \u001b[32m━━━━━━━━━━━━━━━━━━━━\u001b[0m\u001b[37m\u001b[0m \u001b[1m2s\u001b[0m 5ms/step - loss: 0.0659 - val_loss: 0.0119 - learning_rate: 1.5625e-05\n",
            "Epoch 185/250\n",
            "\u001b[1m270/270\u001b[0m \u001b[32m━━━━━━━━━━━━━━━━━━━━\u001b[0m\u001b[37m\u001b[0m \u001b[1m2s\u001b[0m 5ms/step - loss: 0.0617 - val_loss: 0.0121 - learning_rate: 1.0000e-05\n",
            "Epoch 186/250\n",
            "\u001b[1m270/270\u001b[0m \u001b[32m━━━━━━━━━━━━━━━━━━━━\u001b[0m\u001b[37m\u001b[0m \u001b[1m2s\u001b[0m 5ms/step - loss: 0.0641 - val_loss: 0.0116 - learning_rate: 1.0000e-05\n",
            "Epoch 187/250\n",
            "\u001b[1m270/270\u001b[0m \u001b[32m━━━━━━━━━━━━━━━━━━━━\u001b[0m\u001b[37m\u001b[0m \u001b[1m2s\u001b[0m 6ms/step - loss: 0.0613 - val_loss: 0.0117 - learning_rate: 1.0000e-05\n",
            "Epoch 188/250\n",
            "\u001b[1m270/270\u001b[0m \u001b[32m━━━━━━━━━━━━━━━━━━━━\u001b[0m\u001b[37m\u001b[0m \u001b[1m2s\u001b[0m 5ms/step - loss: 0.0626 - val_loss: 0.0118 - learning_rate: 1.0000e-05\n",
            "Epoch 189/250\n",
            "\u001b[1m270/270\u001b[0m \u001b[32m━━━━━━━━━━━━━━━━━━━━\u001b[0m\u001b[37m\u001b[0m \u001b[1m2s\u001b[0m 6ms/step - loss: 0.0645 - val_loss: 0.0118 - learning_rate: 1.0000e-05\n",
            "Epoch 190/250\n",
            "\u001b[1m270/270\u001b[0m \u001b[32m━━━━━━━━━━━━━━━━━━━━\u001b[0m\u001b[37m\u001b[0m \u001b[1m2s\u001b[0m 6ms/step - loss: 0.0634 - val_loss: 0.0118 - learning_rate: 1.0000e-05\n",
            "Epoch 191/250\n",
            "\u001b[1m270/270\u001b[0m \u001b[32m━━━━━━━━━━━━━━━━━━━━\u001b[0m\u001b[37m\u001b[0m \u001b[1m2s\u001b[0m 6ms/step - loss: 0.0633 - val_loss: 0.0116 - learning_rate: 1.0000e-05\n",
            "Epoch 192/250\n",
            "\u001b[1m270/270\u001b[0m \u001b[32m━━━━━━━━━━━━━━━━━━━━\u001b[0m\u001b[37m\u001b[0m \u001b[1m1s\u001b[0m 5ms/step - loss: 0.0603 - val_loss: 0.0120 - learning_rate: 1.0000e-05\n",
            "Epoch 193/250\n",
            "\u001b[1m270/270\u001b[0m \u001b[32m━━━━━━━━━━━━━━━━━━━━\u001b[0m\u001b[37m\u001b[0m \u001b[1m2s\u001b[0m 6ms/step - loss: 0.0660 - val_loss: 0.0119 - learning_rate: 1.0000e-05\n",
            "Epoch 194/250\n",
            "\u001b[1m270/270\u001b[0m \u001b[32m━━━━━━━━━━━━━━━━━━━━\u001b[0m\u001b[37m\u001b[0m \u001b[1m2s\u001b[0m 6ms/step - loss: 0.0607 - val_loss: 0.0116 - learning_rate: 1.0000e-05\n",
            "Epoch 195/250\n",
            "\u001b[1m270/270\u001b[0m \u001b[32m━━━━━━━━━━━━━━━━━━━━\u001b[0m\u001b[37m\u001b[0m \u001b[1m2s\u001b[0m 6ms/step - loss: 0.0634 - val_loss: 0.0120 - learning_rate: 1.0000e-05\n",
            "Epoch 196/250\n",
            "\u001b[1m270/270\u001b[0m \u001b[32m━━━━━━━━━━━━━━━━━━━━\u001b[0m\u001b[37m\u001b[0m \u001b[1m2s\u001b[0m 5ms/step - loss: 0.0639 - val_loss: 0.0115 - learning_rate: 1.0000e-05\n",
            "Epoch 197/250\n",
            "\u001b[1m270/270\u001b[0m \u001b[32m━━━━━━━━━━━━━━━━━━━━\u001b[0m\u001b[37m\u001b[0m \u001b[1m2s\u001b[0m 5ms/step - loss: 0.0643 - val_loss: 0.0116 - learning_rate: 1.0000e-05\n",
            "Epoch 198/250\n",
            "\u001b[1m270/270\u001b[0m \u001b[32m━━━━━━━━━━━━━━━━━━━━\u001b[0m\u001b[37m\u001b[0m \u001b[1m2s\u001b[0m 6ms/step - loss: 0.0638 - val_loss: 0.0121 - learning_rate: 1.0000e-05\n",
            "Epoch 199/250\n",
            "\u001b[1m270/270\u001b[0m \u001b[32m━━━━━━━━━━━━━━━━━━━━\u001b[0m\u001b[37m\u001b[0m \u001b[1m2s\u001b[0m 6ms/step - loss: 0.0627 - val_loss: 0.0112 - learning_rate: 1.0000e-05\n",
            "Epoch 200/250\n",
            "\u001b[1m270/270\u001b[0m \u001b[32m━━━━━━━━━━━━━━━━━━━━\u001b[0m\u001b[37m\u001b[0m \u001b[1m2s\u001b[0m 6ms/step - loss: 0.0642 - val_loss: 0.0116 - learning_rate: 1.0000e-05\n",
            "Epoch 201/250\n",
            "\u001b[1m270/270\u001b[0m \u001b[32m━━━━━━━━━━━━━━━━━━━━\u001b[0m\u001b[37m\u001b[0m \u001b[1m2s\u001b[0m 6ms/step - loss: 0.0624 - val_loss: 0.0115 - learning_rate: 1.0000e-05\n",
            "Epoch 202/250\n",
            "\u001b[1m270/270\u001b[0m \u001b[32m━━━━━━━━━━━━━━━━━━━━\u001b[0m\u001b[37m\u001b[0m \u001b[1m2s\u001b[0m 6ms/step - loss: 0.0616 - val_loss: 0.0114 - learning_rate: 1.0000e-05\n",
            "Epoch 203/250\n",
            "\u001b[1m270/270\u001b[0m \u001b[32m━━━━━━━━━━━━━━━━━━━━\u001b[0m\u001b[37m\u001b[0m \u001b[1m2s\u001b[0m 5ms/step - loss: 0.0635 - val_loss: 0.0116 - learning_rate: 1.0000e-05\n",
            "Epoch 204/250\n",
            "\u001b[1m270/270\u001b[0m \u001b[32m━━━━━━━━━━━━━━━━━━━━\u001b[0m\u001b[37m\u001b[0m \u001b[1m2s\u001b[0m 6ms/step - loss: 0.0629 - val_loss: 0.0118 - learning_rate: 1.0000e-05\n",
            "Epoch 205/250\n",
            "\u001b[1m270/270\u001b[0m \u001b[32m━━━━━━━━━━━━━━━━━━━━\u001b[0m\u001b[37m\u001b[0m \u001b[1m2s\u001b[0m 6ms/step - loss: 0.0647 - val_loss: 0.0118 - learning_rate: 1.0000e-05\n",
            "Epoch 206/250\n",
            "\u001b[1m270/270\u001b[0m \u001b[32m━━━━━━━━━━━━━━━━━━━━\u001b[0m\u001b[37m\u001b[0m \u001b[1m2s\u001b[0m 7ms/step - loss: 0.0624 - val_loss: 0.0115 - learning_rate: 1.0000e-05\n",
            "Epoch 207/250\n",
            "\u001b[1m270/270\u001b[0m \u001b[32m━━━━━━━━━━━━━━━━━━━━\u001b[0m\u001b[37m\u001b[0m \u001b[1m2s\u001b[0m 7ms/step - loss: 0.0634 - val_loss: 0.0116 - learning_rate: 1.0000e-05\n",
            "Epoch 208/250\n",
            "\u001b[1m270/270\u001b[0m \u001b[32m━━━━━━━━━━━━━━━━━━━━\u001b[0m\u001b[37m\u001b[0m \u001b[1m2s\u001b[0m 6ms/step - loss: 0.0641 - val_loss: 0.0117 - learning_rate: 1.0000e-05\n",
            "Epoch 209/250\n",
            "\u001b[1m270/270\u001b[0m \u001b[32m━━━━━━━━━━━━━━━━━━━━\u001b[0m\u001b[37m\u001b[0m \u001b[1m2s\u001b[0m 6ms/step - loss: 0.0625 - val_loss: 0.0116 - learning_rate: 1.0000e-05\n",
            "Epoch 210/250\n",
            "\u001b[1m270/270\u001b[0m \u001b[32m━━━━━━━━━━━━━━━━━━━━\u001b[0m\u001b[37m\u001b[0m \u001b[1m2s\u001b[0m 6ms/step - loss: 0.0610 - val_loss: 0.0113 - learning_rate: 1.0000e-05\n",
            "Epoch 211/250\n",
            "\u001b[1m270/270\u001b[0m \u001b[32m━━━━━━━━━━━━━━━━━━━━\u001b[0m\u001b[37m\u001b[0m \u001b[1m2s\u001b[0m 7ms/step - loss: 0.0612 - val_loss: 0.0116 - learning_rate: 1.0000e-05\n",
            "Epoch 212/250\n",
            "\u001b[1m270/270\u001b[0m \u001b[32m━━━━━━━━━━━━━━━━━━━━\u001b[0m\u001b[37m\u001b[0m \u001b[1m2s\u001b[0m 6ms/step - loss: 0.0603 - val_loss: 0.0115 - learning_rate: 1.0000e-05\n",
            "Epoch 213/250\n",
            "\u001b[1m270/270\u001b[0m \u001b[32m━━━━━━━━━━━━━━━━━━━━\u001b[0m\u001b[37m\u001b[0m \u001b[1m2s\u001b[0m 6ms/step - loss: 0.0629 - val_loss: 0.0116 - learning_rate: 1.0000e-05\n",
            "Epoch 214/250\n",
            "\u001b[1m270/270\u001b[0m \u001b[32m━━━━━━━━━━━━━━━━━━━━\u001b[0m\u001b[37m\u001b[0m \u001b[1m2s\u001b[0m 5ms/step - loss: 0.0605 - val_loss: 0.0114 - learning_rate: 1.0000e-05\n",
            "Epoch 215/250\n",
            "\u001b[1m270/270\u001b[0m \u001b[32m━━━━━━━━━━━━━━━━━━━━\u001b[0m\u001b[37m\u001b[0m \u001b[1m2s\u001b[0m 7ms/step - loss: 0.0633 - val_loss: 0.0116 - learning_rate: 1.0000e-05\n",
            "Epoch 216/250\n",
            "\u001b[1m270/270\u001b[0m \u001b[32m━━━━━━━━━━━━━━━━━━━━\u001b[0m\u001b[37m\u001b[0m \u001b[1m2s\u001b[0m 6ms/step - loss: 0.0616 - val_loss: 0.0112 - learning_rate: 1.0000e-05\n",
            "Epoch 217/250\n",
            "\u001b[1m270/270\u001b[0m \u001b[32m━━━━━━━━━━━━━━━━━━━━\u001b[0m\u001b[37m\u001b[0m \u001b[1m2s\u001b[0m 7ms/step - loss: 0.0620 - val_loss: 0.0114 - learning_rate: 1.0000e-05\n",
            "Epoch 218/250\n",
            "\u001b[1m270/270\u001b[0m \u001b[32m━━━━━━━━━━━━━━━━━━━━\u001b[0m\u001b[37m\u001b[0m \u001b[1m2s\u001b[0m 6ms/step - loss: 0.0639 - val_loss: 0.0113 - learning_rate: 1.0000e-05\n",
            "Epoch 219/250\n",
            "\u001b[1m270/270\u001b[0m \u001b[32m━━━━━━━━━━━━━━━━━━━━\u001b[0m\u001b[37m\u001b[0m \u001b[1m2s\u001b[0m 6ms/step - loss: 0.0601 - val_loss: 0.0111 - learning_rate: 1.0000e-05\n",
            "\u001b[1m540/540\u001b[0m \u001b[32m━━━━━━━━━━━━━━━━━━━━\u001b[0m\u001b[37m\u001b[0m \u001b[1m1s\u001b[0m 2ms/step\n",
            "\u001b[1m60/60\u001b[0m \u001b[32m━━━━━━━━━━━━━━━━━━━━\u001b[0m\u001b[37m\u001b[0m \u001b[1m0s\u001b[0m 2ms/step\n",
            "Training Reconstruction Error:\n",
            "Mean: 0.006631715941844699\n",
            "Std: 0.009961398088027994\n",
            "Max: 0.22320689828357346\n",
            "\n",
            "Testing Reconstruction Error:\n",
            "Mean: 0.0066252730900868565\n",
            "Std: 0.008869137910825714\n",
            "Max: 0.15851326540530247\n",
            "Saved comprehensive model to models/comprehensive_autoencoder.keras\n",
            "Saved scaler to models/comprehensive_scaler.pkl\n",
            "\u001b[1m600/600\u001b[0m \u001b[32m━━━━━━━━━━━━━━━━━━━━\u001b[0m\u001b[37m\u001b[0m \u001b[1m1s\u001b[0m 1ms/step\n"
          ]
        },
        {
          "data": {
            "image/png": "[encoded data removed]",
            "text/plain": [
              "<Figure size 1000x600 with 1 Axes>"
            ]
          },
          "metadata": {},
          "output_type": "display_data"
        },
        {
          "data": {
            "image/png": "[encoded data removed]",
            "text/plain": [
              "<Figure size 1000x600 with 1 Axes>"
            ]
          },
          "metadata": {},
          "output_type": "display_data"
        }
      ],
      "source": [
        "import pandas as pd\n",
        "import numpy as np\n",
        "import tensorflow as tf\n",
        "from sklearn.preprocessing import StandardScaler\n",
        "from sklearn.model_selection import train_test_split\n",
        "import os\n",
        "import pickle\n",
        "import matplotlib.pyplot as plt\n",
        "from sklearn.decomposition import PCA                                                                                                           \n",
        "from sklearn.manifold import TSNE\n",
        "\n",
        "def create_comprehensive_autoencoder(input_dim):\n",
        "    \"\"\"Create a more complex autoencoder with additional layers and regularization\"\"\"\n",
        "    input_layer = tf.keras.layers.Input(shape=(input_dim,))\n",
        "\n",
        "    # More complex encoder\n",
        "    encoded = tf.keras.layers.Dense(256, activation='leaky_relu', \n",
        "                                     kernel_regularizer=tf.keras.regularizers.l2(0.001))(input_layer)\n",
        "    encoded = tf.keras.layers.BatchNormalization()(encoded)\n",
        "    encoded = tf.keras.layers.Dropout(0.3)(encoded)\n",
        "\n",
        "    encoded = tf.keras.layers.Dense(128, activation='leaky_relu', \n",
        "                                     kernel_regularizer=tf.keras.regularizers.l2(0.001))(encoded)\n",
        "    encoded = tf.keras.layers.BatchNormalization()(encoded)\n",
        "    encoded = tf.keras.layers.Dropout(0.3)(encoded)\n",
        "\n",
        "    encoded = tf.keras.layers.Dense(64, activation='leaky_relu', \n",
        "                                     kernel_regularizer=tf.keras.regularizers.l2(0.001))(encoded)\n",
        "    encoded = tf.keras.layers.BatchNormalization()(encoded)\n",
        "    encoded = tf.keras.layers.Dropout(0.3)(encoded)\n",
        "\n",
        "    # Bottleneck layer\n",
        "    bottleneck = tf.keras.layers.Dense(32, activation='leaky_relu', \n",
        "                                        name='latent_space', \n",
        "                                        kernel_regularizer=tf.keras.regularizers.l2(0.001))(encoded)\n",
        "\n",
        "    # Decoder with symmetrical structure\n",
        "    decoded = tf.keras.layers.Dense(64, activation='leaky_relu', \n",
        "                                     kernel_regularizer=tf.keras.regularizers.l2(0.001))(bottleneck)\n",
        "    decoded = tf.keras.layers.BatchNormalization()(decoded)\n",
        "    decoded = tf.keras.layers.Dropout(0.3)(decoded)\n",
        "\n",
        "    decoded = tf.keras.layers.Dense(128, activation='leaky_relu', \n",
        "                                     kernel_regularizer=tf.keras.regularizers.l2(0.001))(decoded)\n",
        "    decoded = tf.keras.layers.BatchNormalization()(decoded)\n",
        "    decoded = tf.keras.layers.Dropout(0.3)(decoded)\n",
        "\n",
        "    decoded = tf.keras.layers.Dense(256, activation='leaky_relu', \n",
        "                                     kernel_regularizer=tf.keras.regularizers.l2(0.001))(decoded)\n",
        "    decoded = tf.keras.layers.BatchNormalization()(decoded)\n",
        "    decoded = tf.keras.layers.Dropout(0.3)(decoded)\n",
        "\n",
        "    output_layer = tf.keras.layers.Dense(input_dim, activation='linear')(decoded)\n",
        "\n",
        "    autoencoder = tf.keras.Model(input_layer, output_layer)\n",
        "    encoder = tf.keras.Model(input_layer, bottleneck)\n",
        "    \n",
        "    autoencoder.compile(optimizer=tf.keras.optimizers.Adam(learning_rate=0.0005), loss='mse')\n",
        "    return autoencoder, encoder\n",
        "\n",
        "\n",
        "def visualize_latent_space(latent_vectors, method='pca'):\n",
        "    if method == 'pca':\n",
        "        reducer = PCA(n_components=2)\n",
        "    elif method == 'tsne':\n",
        "        reducer = TSNE(n_components=2, perplexity=30, random_state=42)\n",
        "    else:\n",
        "        raise ValueError(\"Invalid method. Choose 'pca' or 'tsne'.\")\n",
        "    \n",
        "    transformed = reducer.fit_transform(latent_vectors)\n",
        "    \n",
        "    plt.figure(figsize=(10, 6))\n",
        "    plt.scatter(transformed[:, 0], transformed[:, 1], alpha=0.5)\n",
        "    plt.title(f'Latent Space Visualization using {method.upper()}')\n",
        "    plt.xlabel('Component 1')\n",
        "    plt.ylabel('Component 2')\n",
        "    plt.grid()\n",
        "    plt.savefig(f'models/latent_space_{method}.png')\n",
        "    plt.show()\n",
        "\n",
        "def plot_training_history(history):\n",
        "    \"\"\"\n",
        "    Generate and save a plot of training and validation loss\n",
        "\n",
        "    Parameters:\n",
        "    - history: Model training history\n",
        "    \"\"\"\n",
        "    plt.figure(figsize=(10, 6))\n",
        "    plt.plot(history['loss'], label='Training Loss')\n",
        "    plt.plot(history['val_loss'], label='Validation Loss')\n",
        "    plt.title('Autoencoder Model Training Loss')\n",
        "    plt.xlabel('Epoch')\n",
        "    plt.ylabel('Loss (Mean Squared Error)')\n",
        "    plt.legend()\n",
        "    plt.tight_layout()\n",
        "\n",
        "    # Ensure models directory exists\n",
        "    os.makedirs(\"models\", exist_ok=True)\n",
        "\n",
        "    # Save the plot\n",
        "    plt.savefig('models/training_loss_plot.png')\n",
        "    plt.close()\n",
        "\n",
        "\n",
        "def advanced_data_preprocessing(data):\n",
        "    \"\"\"\n",
        "    Comprehensive data preprocessing pipeline\n",
        "\n",
        "    Parameters:\n",
        "    - data: Original DataFrame\n",
        "\n",
        "    Returns:\n",
        "    - Preprocessed DataFrame\n",
        "    \"\"\"\n",
        "    # Select relevant columns\n",
        "    relevant_columns = [\n",
        "        'temperature', 'windspeed', 'humidity', 'precipitation',\n",
        "            'dewpoint', 'cloud_cover', 'pressure', 'solar_radiation',\n",
        "            'sunshine_duration', 'ndvi', 'elevation'\n",
        "        ]\n",
        "\n",
        "    # Initial data cleaning\n",
        "    cleaned_data = data[relevant_columns].copy()\n",
        "\n",
        "    # Convert to numeric and handle errors\n",
        "    cleaned_data = cleaned_data.apply(pd.to_numeric, errors='coerce')\n",
        "\n",
        "    # Remove rows with NaN values\n",
        "    cleaned_data = cleaned_data.dropna()\n",
        "\n",
        "    # Additional preprocessing steps\n",
        "    def additional_cleaning(df):\n",
        "        # Remove extreme outliers (6 standard deviations)\n",
        "        for column in df.columns:\n",
        "            mean = df[column].mean()\n",
        "            std = df[column].std()\n",
        "            df = df[\n",
        "                (df[column] >= mean - 6*std) &\n",
        "                (df[column] <= mean + 6*std)\n",
        "            ]\n",
        "        return df\n",
        "\n",
        "    cleaned_data = additional_cleaning(cleaned_data)\n",
        "\n",
        "    # Descriptive statistics before and after cleaning\n",
        "    print(\"\\n--- Data Cleaning Summary ---\")\n",
        "    print(f\"Original Data Rows: {len(data)}\")\n",
        "    print(f\"Cleaned Data Rows: {len(cleaned_data)}\")\n",
        "    print(f\"Rows Removed: {len(data) - len(cleaned_data)}\")\n",
        "\n",
        "    # Visualization of data distribution before and after cleaning\n",
        "    def plot_distribution_comparison(original, cleaned, columns):\n",
        "        plt.figure(figsize=(20, 15))\n",
        "        for i, column in enumerate(columns, 1):\n",
        "            plt.subplot(5, 4, i)\n",
        "            plt.hist(original[column], bins=50, alpha=0.5, label='Original')\n",
        "            plt.hist(cleaned[column], bins=50, alpha=0.5, label='Cleaned')\n",
        "            plt.title(column)\n",
        "            plt.legend()\n",
        "        plt.tight_layout()\n",
        "        plt.savefig('distribution_comparison.png')\n",
        "        plt.close()\n",
        "\n",
        "    plot_distribution_comparison(data[relevant_columns], cleaned_data, relevant_columns)\n",
        "\n",
        "    return cleaned_data\n",
        "\n",
        "def train_comprehensive_anomaly_model(data):\n",
        "    \"\"\"\n",
        "    Train a comprehensive anomaly detection model using all relevant features\n",
        "\n",
        "    Parameters:\n",
        "    - data: Full dataset\n",
        "\n",
        "    Returns:\n",
        "    - Dictionary with model and scaler\n",
        "    \"\"\"\n",
        "    try:\n",
        "        # Ensure models directory exists\n",
        "        os.makedirs(\"models\", exist_ok=True)\n",
        "\n",
        "        feature_data = advanced_data_preprocessing(data)\n",
        "\n",
        "        # Convert to numeric and handle errors\n",
        "        feature_data = feature_data.apply(pd.to_numeric, errors='coerce')\n",
        "\n",
        "        # Skip if insufficient data\n",
        "        if len(feature_data) < 500:  # Increased minimum samples\n",
        "            print(\"Insufficient data for comprehensive model\")\n",
        "            return None\n",
        "\n",
        "        # Scale the data\n",
        "        scaler = StandardScaler()\n",
        "        X_scaled = scaler.fit_transform(feature_data.values)\n",
        "\n",
        "        # Split data (90% train, 10% test)\n",
        "        X_train, X_test = train_test_split(X_scaled, test_size=0.1, random_state=42)\n",
        "\n",
        "        # Create and train autoencoder\n",
        "        input_dim = X_scaled.shape[1]\n",
        "        autoencoder,encoder = create_comprehensive_autoencoder(input_dim)\n",
        "\n",
        "        # Advanced callbacks\n",
        "        early_stopping = tf.keras.callbacks.EarlyStopping(\n",
        "            monitor='val_loss',\n",
        "            patience=20,\n",
        "            restore_best_weights=True,\n",
        "            min_delta=0.0001\n",
        "        )\n",
        "\n",
        "        reduce_lr = tf.keras.callbacks.ReduceLROnPlateau(\n",
        "            monitor='val_loss',\n",
        "            factor=0.5,\n",
        "            patience=10,\n",
        "            min_lr=0.00001\n",
        "        )\n",
        "\n",
        "        # Train the model\n",
        "        history = autoencoder.fit(\n",
        "            X_train, X_train,\n",
        "            epochs=250,  # Increased epochs\n",
        "            batch_size=64,\n",
        "            shuffle=True,\n",
        "            validation_data=(X_test, X_test),\n",
        "            callbacks=[early_stopping, reduce_lr],\n",
        "            verbose=1\n",
        "        )\n",
        "\n",
        "        # Plot training history\n",
        "        plot_training_history(history.history)\n",
        "\n",
        "        # Compute reconstruction error for each sample\n",
        "        train_pred = autoencoder.predict(X_train)\n",
        "        test_pred = autoencoder.predict(X_test)\n",
        "\n",
        "        train_mse = np.mean(np.power(X_train - train_pred, 2), axis=1)\n",
        "        test_mse = np.mean(np.power(X_test - test_pred, 2), axis=1)\n",
        "\n",
        "        # Print reconstruction statistics\n",
        "        print(\"Training Reconstruction Error:\")\n",
        "        print(f\"Mean: {np.mean(train_mse)}\")\n",
        "        print(f\"Std: {np.std(train_mse)}\")\n",
        "        print(f\"Max: {np.max(train_mse)}\")\n",
        "\n",
        "        print(\"\\nTesting Reconstruction Error:\")\n",
        "        print(f\"Mean: {np.mean(test_mse)}\")\n",
        "        print(f\"Std: {np.std(test_mse)}\")\n",
        "        print(f\"Max: {np.max(test_mse)}\")\n",
        "\n",
        "        # Save comprehensive model\n",
        "        model_path = \"models/comprehensive_autoencoder.keras\"\n",
        "        autoencoder.save(model_path)\n",
        "\n",
        "        # Save scaler using pickle\n",
        "        scaler_path = \"models/comprehensive_scaler.pkl\"\n",
        "        with open(scaler_path, \"wb\") as f:\n",
        "            pickle.dump(scaler, f)\n",
        "\n",
        "        print(f\"Saved comprehensive model to {model_path}\")\n",
        "        print (f\"Saved scaler to {scaler_path}\")\n",
        "\n",
        "        # Extract latent vectors for visualization\n",
        "        latent_vectors = encoder.predict(X_scaled)\n",
        "\n",
        "        # Visualize latent space\n",
        "        visualize_latent_space(latent_vectors, method='pca')\n",
        "        visualize_latent_space(latent_vectors, method='tsne')\n",
        "\n",
        "        return {\n",
        "            'autoencoder': autoencoder,\n",
        "            'scaler': scaler,\n",
        "            'history': history.history,\n",
        "            'train_mse': train_mse,\n",
        "            'test_mse': test_mse\n",
        "        }\n",
        "\n",
        "    except Exception as e:\n",
        "        print(f\"Error training comprehensive model: {e}\")\n",
        "        return None\n",
        "\n",
        "\n",
        "def main():\n",
        "    \"\"\"\n",
        "    Train a comprehensive anomaly detection model\n",
        "\n",
        "    Returns:\n",
        "    - Trained comprehensive model\n",
        "    \"\"\"\n",
        "    # Load your dataset\n",
        "    df = pd.read_excel(\"og.xlsx\")\n",
        "\n",
        "    # Remove rows with any empty values\n",
        "    # df=df[0:17500]\n",
        "    df = df.dropna()\n",
        "\n",
        "    # Train comprehensive model\n",
        "    comprehensive_model = train_comprehensive_anomaly_model(df)\n",
        "\n",
        "    return comprehensive_model\n",
        "\n",
        "if __name__ == \"__main__\":\n",
        "    main()"
      ]
    },
    {
      "cell_type": "code",
      "execution_count": 3,
      "metadata": {},
      "outputs": [
        {
          "name": "stdout",
          "output_type": "stream",
          "text": [
            "\n",
            "--- Data Cleaning Summary ---\n",
            "Original Data Rows: 19275\n",
            "Cleaned Data Rows: 19188\n",
            "Rows Removed: 87\n",
            "\u001b[1m600/600\u001b[0m \u001b[32m━━━━━━━━━━━━━━━━━━━━\u001b[0m\u001b[37m\u001b[0m \u001b[1m2s\u001b[0m 2ms/step\n",
            "\n",
            "Explained Variance of Each Component:\n",
            "PCA1: 49.05%\n",
            "PCA2: 22.81%\n",
            "\n",
            "Feature Contributions (PCA Loadings):\n",
            "      Feature_1  Feature_2  Feature_3  Feature_4  Feature_5  Feature_6  \\\n",
            "PCA1   0.422985   0.347874  -0.420612   0.000015   0.257514  -0.331314   \n",
            "PCA2  -0.133173   0.137062  -0.045583   0.000073  -0.386360  -0.039834   \n",
            "\n",
            "      Feature_7  Feature_8  Feature_9  Feature_10  Feature_11  \n",
            "PCA1  -0.066066   0.428051   0.389343    0.063700    0.061907  \n",
            "PCA2  -0.616782  -0.012290  -0.028682    0.202149    0.623123  \n"
          ]
        }
      ],
      "source": [
        "import pickle\n",
        "import tensorflow as tf\n",
        "import numpy as np\n",
        "import pandas as pd\n",
        "from sklearn.decomposition import PCA\n",
        "\n",
        "def advanced_data_preprocessing(data):\n",
        "    \"\"\"\n",
        "    Comprehensive data preprocessing pipeline\n",
        "\n",
        "    Parameters:\n",
        "    - data: Original DataFrame\n",
        "\n",
        "    Returns:\n",
        "    - Preprocessed DataFrame\n",
        "    \"\"\"\n",
        "    # Select relevant columns\n",
        "    relevant_columns = [\n",
        "        'temperature', 'windspeed', 'humidity', 'precipitation',\n",
        "            'dewpoint', 'cloud_cover', 'pressure', 'solar_radiation',\n",
        "            'sunshine_duration', 'ndvi', 'elevation'\n",
        "        ]\n",
        "\n",
        "    # Initial data cleaning\n",
        "    cleaned_data = data[relevant_columns].copy()\n",
        "\n",
        "    # Convert to numeric and handle errors\n",
        "    cleaned_data = cleaned_data.apply(pd.to_numeric, errors='coerce')\n",
        "\n",
        "    # Remove rows with NaN values\n",
        "    cleaned_data = cleaned_data.dropna()\n",
        "\n",
        "    # Additional preprocessing steps\n",
        "    def additional_cleaning(df):\n",
        "        # Remove extreme outliers (6 standard deviations)\n",
        "        for column in df.columns:\n",
        "            mean = df[column].mean()\n",
        "            std = df[column].std()\n",
        "            df = df[\n",
        "                (df[column] >= mean - 6*std) &\n",
        "                (df[column] <= mean + 6*std)\n",
        "            ]\n",
        "        return df\n",
        "\n",
        "    cleaned_data = additional_cleaning(cleaned_data)\n",
        "\n",
        "    # Descriptive statistics before and after cleaning\n",
        "    print(\"\\n--- Data Cleaning Summary ---\")\n",
        "    print(f\"Original Data Rows: {len(data)}\")\n",
        "    print(f\"Cleaned Data Rows: {len(cleaned_data)}\")\n",
        "    print(f\"Rows Removed: {len(data) - len(cleaned_data)}\")\n",
        "\n",
        "    return cleaned_data\n",
        "\n",
        "def analyze_pca_variance(data, scaler_path, encoder_path):\n",
        "    \"\"\"\n",
        "    Analyzes PCA variance and feature contributions in the latent space.\n",
        "    \n",
        "    Parameters:\n",
        "    - data: Original dataset\n",
        "    - scaler_path: Path to the saved StandardScaler\n",
        "    - encoder_path: Path to the trained encoder model\n",
        "\n",
        "    Returns:\n",
        "    - PCA variance explained\n",
        "    - Feature contributions in each component\n",
        "    \"\"\"\n",
        "    # Load the scaler\n",
        "    with open(scaler_path, \"rb\") as f:\n",
        "        scaler = pickle.load(f)\n",
        "    \n",
        "    # Load the trained encoder model\n",
        "    encoder = tf.keras.models.load_model(encoder_path)\n",
        "\n",
        "    # Preprocess data\n",
        "    feature_data = advanced_data_preprocessing(data)\n",
        "    X_scaled = scaler.transform(feature_data.values)\n",
        "\n",
        "    # Get latent space representation\n",
        "    latent_vectors = encoder.predict(X_scaled)\n",
        "\n",
        "    # Apply PCA\n",
        "    pca = PCA(n_components=2)\n",
        "    pca_transformed = pca.fit_transform(latent_vectors)\n",
        "\n",
        "    # Explained variance ratio\n",
        "    explained_variance = pca.explained_variance_ratio_\n",
        "\n",
        "    # Component loadings (feature contributions)\n",
        "    feature_contributions = pd.DataFrame(\n",
        "        pca.components_,\n",
        "        columns=[f'Feature_{i+1}' for i in range(latent_vectors.shape[1])],\n",
        "        index=['PCA1', 'PCA2']\n",
        "    )\n",
        "\n",
        "    print(\"\\nExplained Variance of Each Component:\")\n",
        "    print(f\"PCA1: {explained_variance[0]*100:.2f}%\")\n",
        "    print(f\"PCA2: {explained_variance[1]*100:.2f}%\")\n",
        "\n",
        "    print(\"\\nFeature Contributions (PCA Loadings):\")\n",
        "    print(feature_contributions)\n",
        "\n",
        "    return explained_variance, feature_contributions\n",
        "\n",
        "# Example Usage\n",
        "df = pd.read_excel(\"og.xlsx\")  # Load your dataset\n",
        "df = df.dropna()  # Remove NaN values\n",
        "\n",
        "scaler_path = \"models/comprehensive_scaler.pkl\"\n",
        "encoder_path = \"models/comprehensive_autoencoder.keras\"\n",
        "\n",
        "explained_variance, feature_contributions = analyze_pca_variance(df, scaler_path, encoder_path)\n"
      ]
    },
    {
      "cell_type": "code",
      "execution_count": 3,
      "metadata": {},
      "outputs": [
        {
          "name": "stdout",
          "output_type": "stream",
          "text": [
            "Number of unique LAT,LON combinations: 12\n",
            "\u001b[1m1/1\u001b[0m \u001b[32m━━━━━━━━━━━━━━━━━━━━\u001b[0m\u001b[37m\u001b[0m \u001b[1m0s\u001b[0m 329ms/step\n",
            "\u001b[1m1/1\u001b[0m \u001b[32m━━━━━━━━━━━━━━━━━━━━\u001b[0m\u001b[37m\u001b[0m \u001b[1m0s\u001b[0m 57ms/step\n",
            "\u001b[1m1/1\u001b[0m \u001b[32m━━━━━━━━━━━━━━━━━━━━\u001b[0m\u001b[37m\u001b[0m \u001b[1m0s\u001b[0m 51ms/step\n",
            "\u001b[1m1/1\u001b[0m \u001b[32m━━━━━━━━━━━━━━━━━━━━\u001b[0m\u001b[37m\u001b[0m \u001b[1m0s\u001b[0m 57ms/step\n",
            "\u001b[1m1/1\u001b[0m \u001b[32m━━━━━━━━━━━━━━━━━━━━\u001b[0m\u001b[37m\u001b[0m \u001b[1m0s\u001b[0m 53ms/step\n",
            "\u001b[1m1/1\u001b[0m \u001b[32m━━━━━━━━━━━━━━━━━━━━\u001b[0m\u001b[37m\u001b[0m \u001b[1m0s\u001b[0m 58ms/step\n",
            "\u001b[1m1/1\u001b[0m \u001b[32m━━━━━━━━━━━━━━━━━━━━\u001b[0m\u001b[37m\u001b[0m \u001b[1m0s\u001b[0m 54ms/step\n",
            "\u001b[1m1/1\u001b[0m \u001b[32m━━━━━━━━━━━━━━━━━━━━\u001b[0m\u001b[37m\u001b[0m \u001b[1m0s\u001b[0m 52ms/step\n",
            "\u001b[1m1/1\u001b[0m \u001b[32m━━━━━━━━━━━━━━━━━━━━\u001b[0m\u001b[37m\u001b[0m \u001b[1m0s\u001b[0m 82ms/step\n",
            "\u001b[1m1/1\u001b[0m \u001b[32m━━━━━━━━━━━━━━━━━━━━\u001b[0m\u001b[37m\u001b[0m \u001b[1m0s\u001b[0m 48ms/step\n",
            "\u001b[1m1/1\u001b[0m \u001b[32m━━━━━━━━━━━━━━━━━━━━\u001b[0m\u001b[37m\u001b[0m \u001b[1m0s\u001b[0m 81ms/step\n",
            "\u001b[1m1/1\u001b[0m \u001b[32m━━━━━━━━━━━━━━━━━━━━\u001b[0m\u001b[37m\u001b[0m \u001b[1m0s\u001b[0m 65ms/step\n",
            "\u001b[1m1/1\u001b[0m \u001b[32m━━━━━━━━━━━━━━━━━━━━\u001b[0m\u001b[37m\u001b[0m \u001b[1m0s\u001b[0m 63ms/step\n",
            "\u001b[1m1/1\u001b[0m \u001b[32m━━━━━━━━━━━━━━━━━━━━\u001b[0m\u001b[37m\u001b[0m \u001b[1m0s\u001b[0m 50ms/step\n",
            "\u001b[1m1/1\u001b[0m \u001b[32m━━━━━━━━━━━━━━━━━━━━\u001b[0m\u001b[37m\u001b[0m \u001b[1m0s\u001b[0m 58ms/step\n",
            "\u001b[1m1/1\u001b[0m \u001b[32m━━━━━━━━━━━━━━━━━━━━\u001b[0m\u001b[37m\u001b[0m \u001b[1m0s\u001b[0m 50ms/step\n",
            "\u001b[1m1/1\u001b[0m \u001b[32m━━━━━━━━━━━━━━━━━━━━\u001b[0m\u001b[37m\u001b[0m \u001b[1m0s\u001b[0m 74ms/step\n",
            "\u001b[1m1/1\u001b[0m \u001b[32m━━━━━━━━━━━━━━━━━━━━\u001b[0m\u001b[37m\u001b[0m \u001b[1m0s\u001b[0m 67ms/step\n",
            "\u001b[1m1/1\u001b[0m \u001b[32m━━━━━━━━━━━━━━━━━━━━\u001b[0m\u001b[37m\u001b[0m \u001b[1m0s\u001b[0m 69ms/step\n",
            "\u001b[1m1/1\u001b[0m \u001b[32m━━━━━━━━━━━━━━━━━━━━\u001b[0m\u001b[37m\u001b[0m \u001b[1m0s\u001b[0m 63ms/step\n",
            "\u001b[1m1/1\u001b[0m \u001b[32m━━━━━━━━━━━━━━━━━━━━\u001b[0m\u001b[37m\u001b[0m \u001b[1m0s\u001b[0m 56ms/step\n",
            "\u001b[1m1/1\u001b[0m \u001b[32m━━━━━━━━━━━━━━━━━━━━\u001b[0m\u001b[37m\u001b[0m \u001b[1m0s\u001b[0m 62ms/step\n",
            "\u001b[1m1/1\u001b[0m \u001b[32m━━━━━━━━━━━━━━━━━━━━\u001b[0m\u001b[37m\u001b[0m \u001b[1m0s\u001b[0m 62ms/step\n",
            "\u001b[1m1/1\u001b[0m \u001b[32m━━━━━━━━━━━━━━━━━━━━\u001b[0m\u001b[37m\u001b[0m \u001b[1m0s\u001b[0m 42ms/step\n",
            "All results saved to models/similarity_analysis_results.xlsx\n"
          ]
        }
      ],
      "source": [
        "import numpy as np\n",
        "import pandas as pd\n",
        "from sklearn.metrics.pairwise import cosine_similarity\n",
        "import pickle\n",
        "import matplotlib.pyplot as plt\n",
        "import seaborn as sns\n",
        "import tensorflow as tf\n",
        "from sklearn.metrics import mean_squared_error\n",
        "\n",
        "\n",
        "def custom_percentile_rank(values, x):\n",
        "    \"\"\"Calculate percentile rank for a value or array.\"\"\"\n",
        "    return np.array([np.sum(values <= val) / len(values) * 100 for val in x])\n",
        "\n",
        "\n",
        "def calculate_similarity(new_place_data, scaler, weights, autoencoder):\n",
        "    \"\"\"Calculate similarity between new place data and training data using autoencoder.\n",
        "\n",
        "    Parameters:\n",
        "        - new_place_data: Feature vector of the new place\n",
        "        - scaler: Fitted StandardScaler object\n",
        "        - weights: List of feature weights\n",
        "        - autoencoder: Trained autoencoder model\n",
        "\n",
        "    Returns:\n",
        "        - DataFrame with distances and indices of similar places\n",
        "    \"\"\"\n",
        "    # Scale the new place data\n",
        "    new_place_scaled = scaler.transform(new_place_data.values.reshape(1, -1))\n",
        "\n",
        "    # Apply weights\n",
        "    new_place_weighted = new_place_scaled * weights\n",
        "\n",
        "    # Use autoencoder for feature extraction and reconstruction\n",
        "    new_place_encoded = autoencoder.predict(new_place_weighted)\n",
        "    new_place_reconstructed = autoencoder.predict(new_place_weighted)\n",
        "\n",
        "    # Compute distances (Euclidean, Cosine Similarity, and MSE)\n",
        "    euclidean_distance = np.linalg.norm(new_place_encoded)\n",
        "    cosine_similarity_score = cosine_similarity(new_place_encoded, new_place_encoded).flatten()[0]\n",
        "    mse = mean_squared_error(new_place_weighted, new_place_reconstructed)\n",
        "\n",
        "    # Combine results into a DataFrame\n",
        "    results = pd.DataFrame({\n",
        "        'Euclidean_Distance': [euclidean_distance],\n",
        "        'Cosine_Similarity': [cosine_similarity_score],\n",
        "        'MSE': [mse]\n",
        "    })\n",
        "\n",
        "    return results\n",
        "\n",
        "\n",
        "def visualize_similarity_distribution(similarity_results, new_place_data):\n",
        "    \"\"\"Create visualizations of similarity distributions.\"\"\"\n",
        "    plt.figure(figsize=(15, 5))\n",
        "\n",
        "    # Euclidean Distance Distribution\n",
        "    plt.subplot(1, 3, 1)\n",
        "    sns.histplot(similarity_results['Euclidean_Distance'], kde=True)\n",
        "    plt.title('Euclidean Distance Distribution')\n",
        "    plt.xlabel('Distance')\n",
        "    plt.ylabel('Frequency')\n",
        "    plt.axvline(x=similarity_results['Euclidean_Distance'].min(), color='r', linestyle='--',\n",
        "                label='Most Similar')\n",
        "    plt.legend()\n",
        "\n",
        "    # Cosine Similarity Distribution\n",
        "    plt.subplot(1, 3, 2)\n",
        "    sns.histplot(similarity_results['Cosine_Similarity'], kde=True)\n",
        "    plt.title('Cosine Similarity Distribution')\n",
        "    plt.xlabel('Similarity')\n",
        "    plt.ylabel('Frequency')\n",
        "    plt.axvline(x=similarity_results['Cosine_Similarity'].max(), color='r', linestyle='--',\n",
        "                label='Most Similar')\n",
        "    plt.legend()\n",
        "\n",
        "    # MSE Distribution\n",
        "    plt.subplot(1, 3, 3)\n",
        "    sns.histplot(similarity_results['MSE'], kde=True)\n",
        "    plt.title('MSE Distribution')\n",
        "    plt.xlabel('MSE')\n",
        "    plt.ylabel('Frequency')\n",
        "    plt.axvline(x=similarity_results['MSE'].min(), color='r', linestyle='--',\n",
        "                label='Most Similar')\n",
        "    plt.legend()\n",
        "\n",
        "    plt.tight_layout()\n",
        "    plt.savefig('models/similarity_analysis.png')\n",
        "    plt.close()\n",
        "\n",
        "\n",
        "def comprehensive_similarity_analysis(new_place_data, scaler, weights, autoencoder, euclidean_threshold, cosine_threshold, mse_threshold):\n",
        "    \"\"\"Perform comprehensive similarity analysis with dissimilarity check.\"\"\"\n",
        "    # Calculate similarity\n",
        "    similarity_results = calculate_similarity(\n",
        "        new_place_data, scaler, weights, autoencoder\n",
        "    )\n",
        "\n",
        "    # Check if the new place is dissimilar\n",
        "    min_euclidean_distance = similarity_results['Euclidean_Distance'].min()\n",
        "    max_cosine_similarity = similarity_results['Cosine_Similarity'].max()\n",
        "    min_mse = similarity_results['MSE'].min()\n",
        "\n",
        "    is_dissimilar = (\n",
        "        min_euclidean_distance > euclidean_threshold or\n",
        "        max_cosine_similarity < cosine_threshold or\n",
        "        min_mse > mse_threshold\n",
        "    )\n",
        "\n",
        "    # Visualize similarity distribution\n",
        "    visualize_similarity_distribution(similarity_results, new_place_data)\n",
        "\n",
        "    # Detailed analysis\n",
        "    analysis_results = {\n",
        "        'new_place_data': new_place_data,\n",
        "        'similarity_metrics': similarity_results,\n",
        "        'is_dissimilar': is_dissimilar\n",
        "    }\n",
        "\n",
        "    return analysis_results\n",
        "\n",
        "\n",
        "def main():\n",
        "    \"\"\"Compare a new place with training places for similarity and dissimilarity.\"\"\"\n",
        "    # Load the scaler\n",
        "    with open(\"models/comprehensive_scaler.pkl\", \"rb\") as f:\n",
        "        scaler = pickle.load(f)\n",
        "\n",
        "    # Load the autoencoder model\n",
        "    model_path = \"models/comprehensive_autoencoder.keras\"\n",
        "    autoencoder = tf.keras.models.load_model(model_path)\n",
        "\n",
        "    # Define weights\n",
        "    weights = np.ones(11)  # Adjust based on the number of features\n",
        "\n",
        "    # Thresholds for similarity\n",
        "    euclidean_threshold = 6.5\n",
        "    cosine_threshold = 0.85\n",
        "    mse_threshold = 0.1  # Define a threshold for MSE\n",
        "\n",
        "    # Load new places dataset\n",
        "    new_places_data = pd.read_excel(\"ogtest2.xlsx\")\n",
        "    # new_places_data=new_places_data[1000:2500]\n",
        "    new_places_data['location-long'] = new_places_data['longitude'].round(2)  #  location-long longitude\t\n",
        "    new_places_data['location-lat'] = new_places_data['latitude'].round(2)  #location-lat latitude\n",
        "\n",
        "    # Select relevant columns, excluding the index and TARGET\n",
        "    relevant_columns = [\n",
        "        'month', 'location-long', 'location-lat', 'temperature', 'windspeed', 'humidity', 'precipitation',\n",
        "        'dewpoint', 'cloud_cover', 'pressure', 'solar_radiation',\n",
        "        'sunshine_duration', 'ndvi', 'elevation'\n",
        "    ]\n",
        "    new_places_data = new_places_data[relevant_columns].dropna()\n",
        "\n",
        "    # Group by LAT and LON and calculate mean for other columns\n",
        "    grouped_places = new_places_data.groupby(['location-long', 'location-lat', 'month']).agg({\n",
        "        col: 'mean' for col in new_places_data.columns if col not in ['location-long', 'location-lat', 'month']\n",
        "    })\n",
        "\n",
        "    # Reset index to make LAT and LON regular columns again\n",
        "    grouped_places_reset = grouped_places.reset_index()\n",
        "\n",
        "    output_results = []\n",
        "\n",
        "    # Debug: Check the shape of the grouped DataFrame\n",
        "    print(f\"Number of unique LAT,LON combinations: {grouped_places_reset.shape[0]}\")\n",
        "\n",
        "    # Iterate through unique LAT,LON combinations\n",
        "    for idx, grouped_place_data in grouped_places_reset.iterrows():\n",
        "        try:\n",
        "            # Ensure data is in the correct format\n",
        "            new_place_data_for_analysis = grouped_place_data.drop(['location-long', 'location-lat', 'month'])\n",
        "            # Convert the dictionary values into a pandas DataFrame (single row)\n",
        "            place_data_df = pd.DataFrame(new_place_data_for_analysis).T\n",
        "\n",
        "            # Calculate similarity and print results\n",
        "            analysis_results = comprehensive_similarity_analysis(\n",
        "                place_data_df,\n",
        "                scaler,\n",
        "                weights,\n",
        "                autoencoder,\n",
        "                euclidean_threshold,\n",
        "                cosine_threshold,\n",
        "                mse_threshold\n",
        "            )\n",
        "\n",
        "            # Store results\n",
        "            output_results.append({\n",
        "                'LAT': grouped_place_data['location-lat'],\n",
        "                'LON': grouped_place_data['location-long'],\n",
        "                'Month': grouped_place_data['month'],\n",
        "                'Is_Similar': not analysis_results['is_dissimilar'],\n",
        "                'Cosine_Similarity': analysis_results['similarity_metrics']['Cosine_Similarity'].max(),\n",
        "                'Euclidean_Distance': analysis_results['similarity_metrics']['Euclidean_Distance'].min(),\n",
        "                'MSE': analysis_results['similarity_metrics']['MSE'].min()\n",
        "            })\n",
        "\n",
        "        except Exception as e:\n",
        "            print(f\"Error processing row {idx}: {e}\")\n",
        "            print(f\"Problematic data: {grouped_place_data}\")\n",
        "            continue\n",
        "\n",
        "    # Save all results to an Excel file\n",
        "    output_df = pd.DataFrame(output_results)\n",
        "    output_file = 'models/similarity_analysis_results.xlsx'\n",
        "    output_df.to_excel(output_file, index=False)\n",
        "    print(f\"All results saved to {output_file}\")\n",
        "\n",
        "\n",
        "if __name__ == \"__main__\":\n",
        "    main()"
      ]
    },
    {
      "cell_type": "code",
      "execution_count": 4,
      "metadata": {},
      "outputs": [
        {
          "name": "stdout",
          "output_type": "stream",
          "text": [
            "      LAT    LON   comb_sim\n",
            "0   11.14  75.88  71.957379\n",
            "1   10.37  76.64  65.274758\n",
            "2   26.67  88.39  84.821877\n",
            "3   25.67  91.50  54.793784\n",
            "4   27.54  91.62  40.000000\n",
            "5   27.10  92.37  53.489760\n",
            "6   24.14  92.45  88.109105\n",
            "7   26.47  92.75  82.924197\n",
            "8   26.79  93.29  84.130902\n",
            "9   27.21  93.52  58.359927\n",
            "10  26.85  93.73  84.310862\n",
            "11  27.00  95.36  85.293456\n"
          ]
        },
        {
          "data": {
            "application/vnd.plotly.v1+json": {
              "config": {
                "plotlyServerURL": "https://plot.ly"
              },
              "data": [
                {
                  "customdata": [
                    [
                      1,
                      false,
                      100,
                      71.04071140289308,
                      17.705472337066286,
                      71.95737902857049
                    ],
                    [
                      1,
                      false,
                      99.99999701976776,
                      39.30931091308594,
                      47.75517190685331,
                      65.27475755451215
                    ],
                    [
                      1,
                      false,
                      100.0000059604645,
                      65.29606103897095,
                      93.517250063543,
                      84.82187681248278
                    ],
                    [
                      1,
                      false,
                      99.99999403953552,
                      0,
                      73.96892957994461,
                      54.79378353180313
                    ],
                    [
                      1,
                      false,
                      100,
                      0,
                      0,
                      40
                    ],
                    [
                      1,
                      false,
                      99.99999403953552,
                      0,
                      67.44881260196263,
                      53.48976013620673
                    ],
                    [
                      1,
                      true,
                      100,
                      73.15428733825684,
                      94.2369486755363,
                      88.10910467040999
                    ],
                    [
                      1,
                      false,
                      99.99999701976776,
                      60.43989419937134,
                      93.74120314831835,
                      82.92419711731931
                    ],
                    [
                      1,
                      false,
                      100.0000059604645,
                      63.304898738861084,
                      94.04470139587356,
                      84.13090215890495
                    ],
                    [
                      1,
                      false,
                      99.99999403953552,
                      1.649131774902346,
                      88.50138208313749,
                      58.35992674240265
                    ],
                    [
                      1,
                      false,
                      99.99999701976776,
                      65.32593727111816,
                      90.90244155623195,
                      84.31086202760076
                    ],
                    [
                      1,
                      true,
                      100,
                      65.5299425125122,
                      95.40739430424748,
                      85.29345586585438
                    ]
                  ],
                  "hovertemplate": "comb_sim=%{marker.color}<br>LAT=%{lat}<br>LON=%{lon}<br>Month=%{customdata[0]}<br>Is_Similar=%{customdata[1]}<br>Cosine_Similarity_Percentage=%{customdata[2]}<br>Euclidean_Similarity_Percentage=%{customdata[3]}<br>MSE_Similarity_Percentage=%{customdata[4]}<extra></extra>",
                  "lat": [
                    11.14,
                    10.37,
                    26.67,
                    25.67,
                    27.54,
                    27.1,
                    24.14,
                    26.47,
                    26.79,
                    27.21,
                    26.85,
                    27
                  ],
                  "legendgroup": "",
                  "lon": [
                    75.88,
                    76.64,
                    88.39,
                    91.5,
                    91.62,
                    92.37,
                    92.45,
                    92.75,
                    93.29,
                    93.52,
                    93.73,
                    95.36
                  ],
                  "marker": {
                    "color": [
                      71.95737902857049,
                      65.27475755451215,
                      84.82187681248278,
                      54.79378353180313,
                      40,
                      53.48976013620673,
                      88.10910467040999,
                      82.92419711731931,
                      84.13090215890495,
                      58.35992674240265,
                      84.31086202760076,
                      85.29345586585438
                    ],
                    "coloraxis": "coloraxis",
                    "size": [
                      71.95737902857049,
                      65.27475755451215,
                      84.82187681248278,
                      54.79378353180313,
                      40,
                      53.48976013620673,
                      88.10910467040999,
                      82.92419711731931,
                      84.13090215890495,
                      58.35992674240265,
                      84.31086202760076,
                      85.29345586585438
                    ],
                    "sizemode": "area",
                    "sizeref": 0.22027276167602497
                  },
                  "mode": "markers",
                  "name": "",
                  "showlegend": false,
                  "subplot": "mapbox",
                  "type": "scattermapbox"
                }
              ],
              "layout": {
                "coloraxis": {
                  "colorbar": {
                    "title": {
                      "text": "comb_sim"
                    }
                  },
                  "colorscale": [
                    [
                      0,
                      "#0d0887"
                    ],
                    [
                      0.1111111111111111,
                      "#46039f"
                    ],
                    [
                      0.2222222222222222,
                      "#7201a8"
                    ],
                    [
                      0.3333333333333333,
                      "#9c179e"
                    ],
                    [
                      0.4444444444444444,
                      "#bd3786"
                    ],
                    [
                      0.5555555555555556,
                      "#d8576b"
                    ],
                    [
                      0.6666666666666666,
                      "#ed7953"
                    ],
                    [
                      0.7777777777777778,
                      "#fb9f3a"
                    ],
                    [
                      0.8888888888888888,
                      "#fdca26"
                    ],
                    [
                      1,
                      "#f0f921"
                    ]
                  ]
                },
                "legend": {
                  "itemsizing": "constant",
                  "tracegroupgap": 0
                },
                "mapbox": {
                  "center": {
                    "lat": 23.912499999999998,
                    "lon": 89.79166666666664
                  },
                  "domain": {
                    "x": [
                      0,
                      1
                    ],
                    "y": [
                      0,
                      1
                    ]
                  },
                  "style": "open-street-map",
                  "zoom": 3
                },
                "margin": {
                  "b": 0,
                  "l": 0,
                  "r": 0,
                  "t": 40
                },
                "template": {
                  "data": {
                    "bar": [
                      {
                        "error_x": {
                          "color": "#2a3f5f"
                        },
                        "error_y": {
                          "color": "#2a3f5f"
                        },
                        "marker": {
                          "line": {
                            "color": "#E5ECF6",
                            "width": 0.5
                          },
                          "pattern": {
                            "fillmode": "overlay",
                            "size": 10,
                            "solidity": 0.2
                          }
                        },
                        "type": "bar"
                      }
                    ],
                    "barpolar": [
                      {
                        "marker": {
                          "line": {
                            "color": "#E5ECF6",
                            "width": 0.5
                          },
                          "pattern": {
                            "fillmode": "overlay",
                            "size": 10,
                            "solidity": 0.2
                          }
                        },
                        "type": "barpolar"
                      }
                    ],
                    "carpet": [
                      {
                        "aaxis": {
                          "endlinecolor": "#2a3f5f",
                          "gridcolor": "white",
                          "linecolor": "white",
                          "minorgridcolor": "white",
                          "startlinecolor": "#2a3f5f"
                        },
                        "baxis": {
                          "endlinecolor": "#2a3f5f",
                          "gridcolor": "white",
                          "linecolor": "white",
                          "minorgridcolor": "white",
                          "startlinecolor": "#2a3f5f"
                        },
                        "type": "carpet"
                      }
                    ],
                    "choropleth": [
                      {
                        "colorbar": {
                          "outlinewidth": 0,
                          "ticks": ""
                        },
                        "type": "choropleth"
                      }
                    ],
                    "contour": [
                      {
                        "colorbar": {
                          "outlinewidth": 0,
                          "ticks": ""
                        },
                        "colorscale": [
                          [
                            0,
                            "#0d0887"
                          ],
                          [
                            0.1111111111111111,
                            "#46039f"
                          ],
                          [
                            0.2222222222222222,
                            "#7201a8"
                          ],
                          [
                            0.3333333333333333,
                            "#9c179e"
                          ],
                          [
                            0.4444444444444444,
                            "#bd3786"
                          ],
                          [
                            0.5555555555555556,
                            "#d8576b"
                          ],
                          [
                            0.6666666666666666,
                            "#ed7953"
                          ],
                          [
                            0.7777777777777778,
                            "#fb9f3a"
                          ],
                          [
                            0.8888888888888888,
                            "#fdca26"
                          ],
                          [
                            1,
                            "#f0f921"
                          ]
                        ],
                        "type": "contour"
                      }
                    ],
                    "contourcarpet": [
                      {
                        "colorbar": {
                          "outlinewidth": 0,
                          "ticks": ""
                        },
                        "type": "contourcarpet"
                      }
                    ],
                    "heatmap": [
                      {
                        "colorbar": {
                          "outlinewidth": 0,
                          "ticks": ""
                        },
                        "colorscale": [
                          [
                            0,
                            "#0d0887"
                          ],
                          [
                            0.1111111111111111,
                            "#46039f"
                          ],
                          [
                            0.2222222222222222,
                            "#7201a8"
                          ],
                          [
                            0.3333333333333333,
                            "#9c179e"
                          ],
                          [
                            0.4444444444444444,
                            "#bd3786"
                          ],
                          [
                            0.5555555555555556,
                            "#d8576b"
                          ],
                          [
                            0.6666666666666666,
                            "#ed7953"
                          ],
                          [
                            0.7777777777777778,
                            "#fb9f3a"
                          ],
                          [
                            0.8888888888888888,
                            "#fdca26"
                          ],
                          [
                            1,
                            "#f0f921"
                          ]
                        ],
                        "type": "heatmap"
                      }
                    ],
                    "heatmapgl": [
                      {
                        "colorbar": {
                          "outlinewidth": 0,
                          "ticks": ""
                        },
                        "colorscale": [
                          [
                            0,
                            "#0d0887"
                          ],
                          [
                            0.1111111111111111,
                            "#46039f"
                          ],
                          [
                            0.2222222222222222,
                            "#7201a8"
                          ],
                          [
                            0.3333333333333333,
                            "#9c179e"
                          ],
                          [
                            0.4444444444444444,
                            "#bd3786"
                          ],
                          [
                            0.5555555555555556,
                            "#d8576b"
                          ],
                          [
                            0.6666666666666666,
                            "#ed7953"
                          ],
                          [
                            0.7777777777777778,
                            "#fb9f3a"
                          ],
                          [
                            0.8888888888888888,
                            "#fdca26"
                          ],
                          [
                            1,
                            "#f0f921"
                          ]
                        ],
                        "type": "heatmapgl"
                      }
                    ],
                    "histogram": [
                      {
                        "marker": {
                          "pattern": {
                            "fillmode": "overlay",
                            "size": 10,
                            "solidity": 0.2
                          }
                        },
                        "type": "histogram"
                      }
                    ],
                    "histogram2d": [
                      {
                        "colorbar": {
                          "outlinewidth": 0,
                          "ticks": ""
                        },
                        "colorscale": [
                          [
                            0,
                            "#0d0887"
                          ],
                          [
                            0.1111111111111111,
                            "#46039f"
                          ],
                          [
                            0.2222222222222222,
                            "#7201a8"
                          ],
                          [
                            0.3333333333333333,
                            "#9c179e"
                          ],
                          [
                            0.4444444444444444,
                            "#bd3786"
                          ],
                          [
                            0.5555555555555556,
                            "#d8576b"
                          ],
                          [
                            0.6666666666666666,
                            "#ed7953"
                          ],
                          [
                            0.7777777777777778,
                            "#fb9f3a"
                          ],
                          [
                            0.8888888888888888,
                            "#fdca26"
                          ],
                          [
                            1,
                            "#f0f921"
                          ]
                        ],
                        "type": "histogram2d"
                      }
                    ],
                    "histogram2dcontour": [
                      {
                        "colorbar": {
                          "outlinewidth": 0,
                          "ticks": ""
                        },
                        "colorscale": [
                          [
                            0,
                            "#0d0887"
                          ],
                          [
                            0.1111111111111111,
                            "#46039f"
                          ],
                          [
                            0.2222222222222222,
                            "#7201a8"
                          ],
                          [
                            0.3333333333333333,
                            "#9c179e"
                          ],
                          [
                            0.4444444444444444,
                            "#bd3786"
                          ],
                          [
                            0.5555555555555556,
                            "#d8576b"
                          ],
                          [
                            0.6666666666666666,
                            "#ed7953"
                          ],
                          [
                            0.7777777777777778,
                            "#fb9f3a"
                          ],
                          [
                            0.8888888888888888,
                            "#fdca26"
                          ],
                          [
                            1,
                            "#f0f921"
                          ]
                        ],
                        "type": "histogram2dcontour"
                      }
                    ],
                    "mesh3d": [
                      {
                        "colorbar": {
                          "outlinewidth": 0,
                          "ticks": ""
                        },
                        "type": "mesh3d"
                      }
                    ],
                    "parcoords": [
                      {
                        "line": {
                          "colorbar": {
                            "outlinewidth": 0,
                            "ticks": ""
                          }
                        },
                        "type": "parcoords"
                      }
                    ],
                    "pie": [
                      {
                        "automargin": true,
                        "type": "pie"
                      }
                    ],
                    "scatter": [
                      {
                        "fillpattern": {
                          "fillmode": "overlay",
                          "size": 10,
                          "solidity": 0.2
                        },
                        "type": "scatter"
                      }
                    ],
                    "scatter3d": [
                      {
                        "line": {
                          "colorbar": {
                            "outlinewidth": 0,
                            "ticks": ""
                          }
                        },
                        "marker": {
                          "colorbar": {
                            "outlinewidth": 0,
                            "ticks": ""
                          }
                        },
                        "type": "scatter3d"
                      }
                    ],
                    "scattercarpet": [
                      {
                        "marker": {
                          "colorbar": {
                            "outlinewidth": 0,
                            "ticks": ""
                          }
                        },
                        "type": "scattercarpet"
                      }
                    ],
                    "scattergeo": [
                      {
                        "marker": {
                          "colorbar": {
                            "outlinewidth": 0,
                            "ticks": ""
                          }
                        },
                        "type": "scattergeo"
                      }
                    ],
                    "scattergl": [
                      {
                        "marker": {
                          "colorbar": {
                            "outlinewidth": 0,
                            "ticks": ""
                          }
                        },
                        "type": "scattergl"
                      }
                    ],
                    "scattermapbox": [
                      {
                        "marker": {
                          "colorbar": {
                            "outlinewidth": 0,
                            "ticks": ""
                          }
                        },
                        "type": "scattermapbox"
                      }
                    ],
                    "scatterpolar": [
                      {
                        "marker": {
                          "colorbar": {
                            "outlinewidth": 0,
                            "ticks": ""
                          }
                        },
                        "type": "scatterpolar"
                      }
                    ],
                    "scatterpolargl": [
                      {
                        "marker": {
                          "colorbar": {
                            "outlinewidth": 0,
                            "ticks": ""
                          }
                        },
                        "type": "scatterpolargl"
                      }
                    ],
                    "scatterternary": [
                      {
                        "marker": {
                          "colorbar": {
                            "outlinewidth": 0,
                            "ticks": ""
                          }
                        },
                        "type": "scatterternary"
                      }
                    ],
                    "surface": [
                      {
                        "colorbar": {
                          "outlinewidth": 0,
                          "ticks": ""
                        },
                        "colorscale": [
                          [
                            0,
                            "#0d0887"
                          ],
                          [
                            0.1111111111111111,
                            "#46039f"
                          ],
                          [
                            0.2222222222222222,
                            "#7201a8"
                          ],
                          [
                            0.3333333333333333,
                            "#9c179e"
                          ],
                          [
                            0.4444444444444444,
                            "#bd3786"
                          ],
                          [
                            0.5555555555555556,
                            "#d8576b"
                          ],
                          [
                            0.6666666666666666,
                            "#ed7953"
                          ],
                          [
                            0.7777777777777778,
                            "#fb9f3a"
                          ],
                          [
                            0.8888888888888888,
                            "#fdca26"
                          ],
                          [
                            1,
                            "#f0f921"
                          ]
                        ],
                        "type": "surface"
                      }
                    ],
                    "table": [
                      {
                        "cells": {
                          "fill": {
                            "color": "#EBF0F8"
                          },
                          "line": {
                            "color": "white"
                          }
                        },
                        "header": {
                          "fill": {
                            "color": "#C8D4E3"
                          },
                          "line": {
                            "color": "white"
                          }
                        },
                        "type": "table"
                      }
                    ]
                  },
                  "layout": {
                    "annotationdefaults": {
                      "arrowcolor": "#2a3f5f",
                      "arrowhead": 0,
                      "arrowwidth": 1
                    },
                    "autotypenumbers": "strict",
                    "coloraxis": {
                      "colorbar": {
                        "outlinewidth": 0,
                        "ticks": ""
                      }
                    },
                    "colorscale": {
                      "diverging": [
                        [
                          0,
                          "#8e0152"
                        ],
                        [
                          0.1,
                          "#c51b7d"
                        ],
                        [
                          0.2,
                          "#de77ae"
                        ],
                        [
                          0.3,
                          "#f1b6da"
                        ],
                        [
                          0.4,
                          "#fde0ef"
                        ],
                        [
                          0.5,
                          "#f7f7f7"
                        ],
                        [
                          0.6,
                          "#e6f5d0"
                        ],
                        [
                          0.7,
                          "#b8e186"
                        ],
                        [
                          0.8,
                          "#7fbc41"
                        ],
                        [
                          0.9,
                          "#4d9221"
                        ],
                        [
                          1,
                          "#276419"
                        ]
                      ],
                      "sequential": [
                        [
                          0,
                          "#0d0887"
                        ],
                        [
                          0.1111111111111111,
                          "#46039f"
                        ],
                        [
                          0.2222222222222222,
                          "#7201a8"
                        ],
                        [
                          0.3333333333333333,
                          "#9c179e"
                        ],
                        [
                          0.4444444444444444,
                          "#bd3786"
                        ],
                        [
                          0.5555555555555556,
                          "#d8576b"
                        ],
                        [
                          0.6666666666666666,
                          "#ed7953"
                        ],
                        [
                          0.7777777777777778,
                          "#fb9f3a"
                        ],
                        [
                          0.8888888888888888,
                          "#fdca26"
                        ],
                        [
                          1,
                          "#f0f921"
                        ]
                      ],
                      "sequentialminus": [
                        [
                          0,
                          "#0d0887"
                        ],
                        [
                          0.1111111111111111,
                          "#46039f"
                        ],
                        [
                          0.2222222222222222,
                          "#7201a8"
                        ],
                        [
                          0.3333333333333333,
                          "#9c179e"
                        ],
                        [
                          0.4444444444444444,
                          "#bd3786"
                        ],
                        [
                          0.5555555555555556,
                          "#d8576b"
                        ],
                        [
                          0.6666666666666666,
                          "#ed7953"
                        ],
                        [
                          0.7777777777777778,
                          "#fb9f3a"
                        ],
                        [
                          0.8888888888888888,
                          "#fdca26"
                        ],
                        [
                          1,
                          "#f0f921"
                        ]
                      ]
                    },
                    "colorway": [
                      "#636efa",
                      "#EF553B",
                      "#00cc96",
                      "#ab63fa",
                      "#FFA15A",
                      "#19d3f3",
                      "#FF6692",
                      "#B6E880",
                      "#FF97FF",
                      "#FECB52"
                    ],
                    "font": {
                      "color": "#2a3f5f"
                    },
                    "geo": {
                      "bgcolor": "white",
                      "lakecolor": "white",
                      "landcolor": "#E5ECF6",
                      "showlakes": true,
                      "showland": true,
                      "subunitcolor": "white"
                    },
                    "hoverlabel": {
                      "align": "left"
                    },
                    "hovermode": "closest",
                    "mapbox": {
                      "style": "light"
                    },
                    "paper_bgcolor": "white",
                    "plot_bgcolor": "#E5ECF6",
                    "polar": {
                      "angularaxis": {
                        "gridcolor": "white",
                        "linecolor": "white",
                        "ticks": ""
                      },
                      "bgcolor": "#E5ECF6",
                      "radialaxis": {
                        "gridcolor": "white",
                        "linecolor": "white",
                        "ticks": ""
                      }
                    },
                    "scene": {
                      "xaxis": {
                        "backgroundcolor": "#E5ECF6",
                        "gridcolor": "white",
                        "gridwidth": 2,
                        "linecolor": "white",
                        "showbackground": true,
                        "ticks": "",
                        "zerolinecolor": "white"
                      },
                      "yaxis": {
                        "backgroundcolor": "#E5ECF6",
                        "gridcolor": "white",
                        "gridwidth": 2,
                        "linecolor": "white",
                        "showbackground": true,
                        "ticks": "",
                        "zerolinecolor": "white"
                      },
                      "zaxis": {
                        "backgroundcolor": "#E5ECF6",
                        "gridcolor": "white",
                        "gridwidth": 2,
                        "linecolor": "white",
                        "showbackground": true,
                        "ticks": "",
                        "zerolinecolor": "white"
                      }
                    },
                    "shapedefaults": {
                      "line": {
                        "color": "#2a3f5f"
                      }
                    },
                    "ternary": {
                      "aaxis": {
                        "gridcolor": "white",
                        "linecolor": "white",
                        "ticks": ""
                      },
                      "baxis": {
                        "gridcolor": "white",
                        "linecolor": "white",
                        "ticks": ""
                      },
                      "bgcolor": "#E5ECF6",
                      "caxis": {
                        "gridcolor": "white",
                        "linecolor": "white",
                        "ticks": ""
                      }
                    },
                    "title": {
                      "x": 0.05
                    },
                    "xaxis": {
                      "automargin": true,
                      "gridcolor": "white",
                      "linecolor": "white",
                      "ticks": "",
                      "title": {
                        "standoff": 15
                      },
                      "zerolinecolor": "white",
                      "zerolinewidth": 2
                    },
                    "yaxis": {
                      "automargin": true,
                      "gridcolor": "white",
                      "linecolor": "white",
                      "ticks": "",
                      "title": {
                        "standoff": 15
                      },
                      "zerolinecolor": "white",
                      "zerolinewidth": 2
                    }
                  }
                },
                "title": {
                  "text": "Similarity Analysis Map"
                }
              }
            }
          },
          "metadata": {},
          "output_type": "display_data"
        }
      ],
      "source": [
        "import pandas as pd\n",
        "import plotly.express as px\n",
        "\n",
        "# Load dataset\n",
        "df = pd.read_excel(\"./models/similarity_analysis_results.xlsx\")\n",
        "\n",
        "# Calculate similarity percentages\n",
        "df['Cosine_Similarity_Percentage'] = ((df['Cosine_Similarity'] + 1) / 2) * 100\n",
        "max_euclidean_distance = 10\n",
        "df['Euclidean_Similarity_Percentage'] = 100 * (1 - (df['Euclidean_Distance'] / max_euclidean_distance)).clip(lower=0)\n",
        "max_mse = df[\"MSE\"].max()  # Normalize based on max MSE value\n",
        "df['MSE_Similarity_Percentage'] = 100 * (1 - (df['MSE'] / max_mse)).clip(lower=0)\n",
        "\n",
        "# Compute combined similarity\n",
        "df[\"comb_sim\"] = (0.4 * df['Cosine_Similarity_Percentage'] +\n",
        "                   0.4 * df['Euclidean_Similarity_Percentage'] +\n",
        "                   0.2 * df['MSE_Similarity_Percentage'])\n",
        "\n",
        "print(df[['LAT','LON','comb_sim']])\n",
        "\n",
        "# Create interactive map\n",
        "fig = px.scatter_mapbox(df, \n",
        "                        lat=\"LAT\", \n",
        "                        lon=\"LON\", \n",
        "                        color=\"comb_sim\", \n",
        "                        size=df[\"comb_sim\"], \n",
        "                        size_max=20, \n",
        "                        zoom=3, \n",
        "                        mapbox_style=\"open-street-map\", \n",
        "                        hover_data=[\"Month\", \"Is_Similar\", \"Cosine_Similarity_Percentage\", \n",
        "                                    \"Euclidean_Similarity_Percentage\", \"MSE_Similarity_Percentage\", \"comb_sim\"])\n",
        "\n",
        "fig.update_layout(title=\"Similarity Analysis Map\", margin={\"r\":0,\"t\":40,\"l\":0,\"b\":0})\n",
        "\n",
        "fig.show()\n"
      ]
    },
    {
      "cell_type": "code",
      "execution_count": 5,
      "metadata": {},
      "outputs": [
        {
          "data": {
            "application/vnd.plotly.v1+json": {
              "config": {
                "plotlyServerURL": "https://plot.ly"
              },
              "data": [
                {
                  "domain": {
                    "x": [
                      0,
                      1
                    ],
                    "y": [
                      0,
                      1
                    ]
                  },
                  "hovertemplate": "Category=%{label}<br>Count=%{value}<extra></extra>",
                  "labels": [
                    "High Similarity",
                    "Low Similarity",
                    "Medium Similarity"
                  ],
                  "legendgroup": "",
                  "name": "",
                  "showlegend": true,
                  "type": "pie",
                  "values": [
                    6,
                    4,
                    2
                  ]
                }
              ],
              "layout": {
                "legend": {
                  "tracegroupgap": 0
                },
                "template": {
                  "data": {
                    "bar": [
                      {
                        "error_x": {
                          "color": "#2a3f5f"
                        },
                        "error_y": {
                          "color": "#2a3f5f"
                        },
                        "marker": {
                          "line": {
                            "color": "#E5ECF6",
                            "width": 0.5
                          },
                          "pattern": {
                            "fillmode": "overlay",
                            "size": 10,
                            "solidity": 0.2
                          }
                        },
                        "type": "bar"
                      }
                    ],
                    "barpolar": [
                      {
                        "marker": {
                          "line": {
                            "color": "#E5ECF6",
                            "width": 0.5
                          },
                          "pattern": {
                            "fillmode": "overlay",
                            "size": 10,
                            "solidity": 0.2
                          }
                        },
                        "type": "barpolar"
                      }
                    ],
                    "carpet": [
                      {
                        "aaxis": {
                          "endlinecolor": "#2a3f5f",
                          "gridcolor": "white",
                          "linecolor": "white",
                          "minorgridcolor": "white",
                          "startlinecolor": "#2a3f5f"
                        },
                        "baxis": {
                          "endlinecolor": "#2a3f5f",
                          "gridcolor": "white",
                          "linecolor": "white",
                          "minorgridcolor": "white",
                          "startlinecolor": "#2a3f5f"
                        },
                        "type": "carpet"
                      }
                    ],
                    "choropleth": [
                      {
                        "colorbar": {
                          "outlinewidth": 0,
                          "ticks": ""
                        },
                        "type": "choropleth"
                      }
                    ],
                    "contour": [
                      {
                        "colorbar": {
                          "outlinewidth": 0,
                          "ticks": ""
                        },
                        "colorscale": [
                          [
                            0,
                            "#0d0887"
                          ],
                          [
                            0.1111111111111111,
                            "#46039f"
                          ],
                          [
                            0.2222222222222222,
                            "#7201a8"
                          ],
                          [
                            0.3333333333333333,
                            "#9c179e"
                          ],
                          [
                            0.4444444444444444,
                            "#bd3786"
                          ],
                          [
                            0.5555555555555556,
                            "#d8576b"
                          ],
                          [
                            0.6666666666666666,
                            "#ed7953"
                          ],
                          [
                            0.7777777777777778,
                            "#fb9f3a"
                          ],
                          [
                            0.8888888888888888,
                            "#fdca26"
                          ],
                          [
                            1,
                            "#f0f921"
                          ]
                        ],
                        "type": "contour"
                      }
                    ],
                    "contourcarpet": [
                      {
                        "colorbar": {
                          "outlinewidth": 0,
                          "ticks": ""
                        },
                        "type": "contourcarpet"
                      }
                    ],
                    "heatmap": [
                      {
                        "colorbar": {
                          "outlinewidth": 0,
                          "ticks": ""
                        },
                        "colorscale": [
                          [
                            0,
                            "#0d0887"
                          ],
                          [
                            0.1111111111111111,
                            "#46039f"
                          ],
                          [
                            0.2222222222222222,
                            "#7201a8"
                          ],
                          [
                            0.3333333333333333,
                            "#9c179e"
                          ],
                          [
                            0.4444444444444444,
                            "#bd3786"
                          ],
                          [
                            0.5555555555555556,
                            "#d8576b"
                          ],
                          [
                            0.6666666666666666,
                            "#ed7953"
                          ],
                          [
                            0.7777777777777778,
                            "#fb9f3a"
                          ],
                          [
                            0.8888888888888888,
                            "#fdca26"
                          ],
                          [
                            1,
                            "#f0f921"
                          ]
                        ],
                        "type": "heatmap"
                      }
                    ],
                    "heatmapgl": [
                      {
                        "colorbar": {
                          "outlinewidth": 0,
                          "ticks": ""
                        },
                        "colorscale": [
                          [
                            0,
                            "#0d0887"
                          ],
                          [
                            0.1111111111111111,
                            "#46039f"
                          ],
                          [
                            0.2222222222222222,
                            "#7201a8"
                          ],
                          [
                            0.3333333333333333,
                            "#9c179e"
                          ],
                          [
                            0.4444444444444444,
                            "#bd3786"
                          ],
                          [
                            0.5555555555555556,
                            "#d8576b"
                          ],
                          [
                            0.6666666666666666,
                            "#ed7953"
                          ],
                          [
                            0.7777777777777778,
                            "#fb9f3a"
                          ],
                          [
                            0.8888888888888888,
                            "#fdca26"
                          ],
                          [
                            1,
                            "#f0f921"
                          ]
                        ],
                        "type": "heatmapgl"
                      }
                    ],
                    "histogram": [
                      {
                        "marker": {
                          "pattern": {
                            "fillmode": "overlay",
                            "size": 10,
                            "solidity": 0.2
                          }
                        },
                        "type": "histogram"
                      }
                    ],
                    "histogram2d": [
                      {
                        "colorbar": {
                          "outlinewidth": 0,
                          "ticks": ""
                        },
                        "colorscale": [
                          [
                            0,
                            "#0d0887"
                          ],
                          [
                            0.1111111111111111,
                            "#46039f"
                          ],
                          [
                            0.2222222222222222,
                            "#7201a8"
                          ],
                          [
                            0.3333333333333333,
                            "#9c179e"
                          ],
                          [
                            0.4444444444444444,
                            "#bd3786"
                          ],
                          [
                            0.5555555555555556,
                            "#d8576b"
                          ],
                          [
                            0.6666666666666666,
                            "#ed7953"
                          ],
                          [
                            0.7777777777777778,
                            "#fb9f3a"
                          ],
                          [
                            0.8888888888888888,
                            "#fdca26"
                          ],
                          [
                            1,
                            "#f0f921"
                          ]
                        ],
                        "type": "histogram2d"
                      }
                    ],
                    "histogram2dcontour": [
                      {
                        "colorbar": {
                          "outlinewidth": 0,
                          "ticks": ""
                        },
                        "colorscale": [
                          [
                            0,
                            "#0d0887"
                          ],
                          [
                            0.1111111111111111,
                            "#46039f"
                          ],
                          [
                            0.2222222222222222,
                            "#7201a8"
                          ],
                          [
                            0.3333333333333333,
                            "#9c179e"
                          ],
                          [
                            0.4444444444444444,
                            "#bd3786"
                          ],
                          [
                            0.5555555555555556,
                            "#d8576b"
                          ],
                          [
                            0.6666666666666666,
                            "#ed7953"
                          ],
                          [
                            0.7777777777777778,
                            "#fb9f3a"
                          ],
                          [
                            0.8888888888888888,
                            "#fdca26"
                          ],
                          [
                            1,
                            "#f0f921"
                          ]
                        ],
                        "type": "histogram2dcontour"
                      }
                    ],
                    "mesh3d": [
                      {
                        "colorbar": {
                          "outlinewidth": 0,
                          "ticks": ""
                        },
                        "type": "mesh3d"
                      }
                    ],
                    "parcoords": [
                      {
                        "line": {
                          "colorbar": {
                            "outlinewidth": 0,
                            "ticks": ""
                          }
                        },
                        "type": "parcoords"
                      }
                    ],
                    "pie": [
                      {
                        "automargin": true,
                        "type": "pie"
                      }
                    ],
                    "scatter": [
                      {
                        "fillpattern": {
                          "fillmode": "overlay",
                          "size": 10,
                          "solidity": 0.2
                        },
                        "type": "scatter"
                      }
                    ],
                    "scatter3d": [
                      {
                        "line": {
                          "colorbar": {
                            "outlinewidth": 0,
                            "ticks": ""
                          }
                        },
                        "marker": {
                          "colorbar": {
                            "outlinewidth": 0,
                            "ticks": ""
                          }
                        },
                        "type": "scatter3d"
                      }
                    ],
                    "scattercarpet": [
                      {
                        "marker": {
                          "colorbar": {
                            "outlinewidth": 0,
                            "ticks": ""
                          }
                        },
                        "type": "scattercarpet"
                      }
                    ],
                    "scattergeo": [
                      {
                        "marker": {
                          "colorbar": {
                            "outlinewidth": 0,
                            "ticks": ""
                          }
                        },
                        "type": "scattergeo"
                      }
                    ],
                    "scattergl": [
                      {
                        "marker": {
                          "colorbar": {
                            "outlinewidth": 0,
                            "ticks": ""
                          }
                        },
                        "type": "scattergl"
                      }
                    ],
                    "scattermapbox": [
                      {
                        "marker": {
                          "colorbar": {
                            "outlinewidth": 0,
                            "ticks": ""
                          }
                        },
                        "type": "scattermapbox"
                      }
                    ],
                    "scatterpolar": [
                      {
                        "marker": {
                          "colorbar": {
                            "outlinewidth": 0,
                            "ticks": ""
                          }
                        },
                        "type": "scatterpolar"
                      }
                    ],
                    "scatterpolargl": [
                      {
                        "marker": {
                          "colorbar": {
                            "outlinewidth": 0,
                            "ticks": ""
                          }
                        },
                        "type": "scatterpolargl"
                      }
                    ],
                    "scatterternary": [
                      {
                        "marker": {
                          "colorbar": {
                            "outlinewidth": 0,
                            "ticks": ""
                          }
                        },
                        "type": "scatterternary"
                      }
                    ],
                    "surface": [
                      {
                        "colorbar": {
                          "outlinewidth": 0,
                          "ticks": ""
                        },
                        "colorscale": [
                          [
                            0,
                            "#0d0887"
                          ],
                          [
                            0.1111111111111111,
                            "#46039f"
                          ],
                          [
                            0.2222222222222222,
                            "#7201a8"
                          ],
                          [
                            0.3333333333333333,
                            "#9c179e"
                          ],
                          [
                            0.4444444444444444,
                            "#bd3786"
                          ],
                          [
                            0.5555555555555556,
                            "#d8576b"
                          ],
                          [
                            0.6666666666666666,
                            "#ed7953"
                          ],
                          [
                            0.7777777777777778,
                            "#fb9f3a"
                          ],
                          [
                            0.8888888888888888,
                            "#fdca26"
                          ],
                          [
                            1,
                            "#f0f921"
                          ]
                        ],
                        "type": "surface"
                      }
                    ],
                    "table": [
                      {
                        "cells": {
                          "fill": {
                            "color": "#EBF0F8"
                          },
                          "line": {
                            "color": "white"
                          }
                        },
                        "header": {
                          "fill": {
                            "color": "#C8D4E3"
                          },
                          "line": {
                            "color": "white"
                          }
                        },
                        "type": "table"
                      }
                    ]
                  },
                  "layout": {
                    "annotationdefaults": {
                      "arrowcolor": "#2a3f5f",
                      "arrowhead": 0,
                      "arrowwidth": 1
                    },
                    "autotypenumbers": "strict",
                    "coloraxis": {
                      "colorbar": {
                        "outlinewidth": 0,
                        "ticks": ""
                      }
                    },
                    "colorscale": {
                      "diverging": [
                        [
                          0,
                          "#8e0152"
                        ],
                        [
                          0.1,
                          "#c51b7d"
                        ],
                        [
                          0.2,
                          "#de77ae"
                        ],
                        [
                          0.3,
                          "#f1b6da"
                        ],
                        [
                          0.4,
                          "#fde0ef"
                        ],
                        [
                          0.5,
                          "#f7f7f7"
                        ],
                        [
                          0.6,
                          "#e6f5d0"
                        ],
                        [
                          0.7,
                          "#b8e186"
                        ],
                        [
                          0.8,
                          "#7fbc41"
                        ],
                        [
                          0.9,
                          "#4d9221"
                        ],
                        [
                          1,
                          "#276419"
                        ]
                      ],
                      "sequential": [
                        [
                          0,
                          "#0d0887"
                        ],
                        [
                          0.1111111111111111,
                          "#46039f"
                        ],
                        [
                          0.2222222222222222,
                          "#7201a8"
                        ],
                        [
                          0.3333333333333333,
                          "#9c179e"
                        ],
                        [
                          0.4444444444444444,
                          "#bd3786"
                        ],
                        [
                          0.5555555555555556,
                          "#d8576b"
                        ],
                        [
                          0.6666666666666666,
                          "#ed7953"
                        ],
                        [
                          0.7777777777777778,
                          "#fb9f3a"
                        ],
                        [
                          0.8888888888888888,
                          "#fdca26"
                        ],
                        [
                          1,
                          "#f0f921"
                        ]
                      ],
                      "sequentialminus": [
                        [
                          0,
                          "#0d0887"
                        ],
                        [
                          0.1111111111111111,
                          "#46039f"
                        ],
                        [
                          0.2222222222222222,
                          "#7201a8"
                        ],
                        [
                          0.3333333333333333,
                          "#9c179e"
                        ],
                        [
                          0.4444444444444444,
                          "#bd3786"
                        ],
                        [
                          0.5555555555555556,
                          "#d8576b"
                        ],
                        [
                          0.6666666666666666,
                          "#ed7953"
                        ],
                        [
                          0.7777777777777778,
                          "#fb9f3a"
                        ],
                        [
                          0.8888888888888888,
                          "#fdca26"
                        ],
                        [
                          1,
                          "#f0f921"
                        ]
                      ]
                    },
                    "colorway": [
                      "#636efa",
                      "#EF553B",
                      "#00cc96",
                      "#ab63fa",
                      "#FFA15A",
                      "#19d3f3",
                      "#FF6692",
                      "#B6E880",
                      "#FF97FF",
                      "#FECB52"
                    ],
                    "font": {
                      "color": "#2a3f5f"
                    },
                    "geo": {
                      "bgcolor": "white",
                      "lakecolor": "white",
                      "landcolor": "#E5ECF6",
                      "showlakes": true,
                      "showland": true,
                      "subunitcolor": "white"
                    },
                    "hoverlabel": {
                      "align": "left"
                    },
                    "hovermode": "closest",
                    "mapbox": {
                      "style": "light"
                    },
                    "paper_bgcolor": "white",
                    "plot_bgcolor": "#E5ECF6",
                    "polar": {
                      "angularaxis": {
                        "gridcolor": "white",
                        "linecolor": "white",
                        "ticks": ""
                      },
                      "bgcolor": "#E5ECF6",
                      "radialaxis": {
                        "gridcolor": "white",
                        "linecolor": "white",
                        "ticks": ""
                      }
                    },
                    "scene": {
                      "xaxis": {
                        "backgroundcolor": "#E5ECF6",
                        "gridcolor": "white",
                        "gridwidth": 2,
                        "linecolor": "white",
                        "showbackground": true,
                        "ticks": "",
                        "zerolinecolor": "white"
                      },
                      "yaxis": {
                        "backgroundcolor": "#E5ECF6",
                        "gridcolor": "white",
                        "gridwidth": 2,
                        "linecolor": "white",
                        "showbackground": true,
                        "ticks": "",
                        "zerolinecolor": "white"
                      },
                      "zaxis": {
                        "backgroundcolor": "#E5ECF6",
                        "gridcolor": "white",
                        "gridwidth": 2,
                        "linecolor": "white",
                        "showbackground": true,
                        "ticks": "",
                        "zerolinecolor": "white"
                      }
                    },
                    "shapedefaults": {
                      "line": {
                        "color": "#2a3f5f"
                      }
                    },
                    "ternary": {
                      "aaxis": {
                        "gridcolor": "white",
                        "linecolor": "white",
                        "ticks": ""
                      },
                      "baxis": {
                        "gridcolor": "white",
                        "linecolor": "white",
                        "ticks": ""
                      },
                      "bgcolor": "#E5ECF6",
                      "caxis": {
                        "gridcolor": "white",
                        "linecolor": "white",
                        "ticks": ""
                      }
                    },
                    "title": {
                      "x": 0.05
                    },
                    "xaxis": {
                      "automargin": true,
                      "gridcolor": "white",
                      "linecolor": "white",
                      "ticks": "",
                      "title": {
                        "standoff": 15
                      },
                      "zerolinecolor": "white",
                      "zerolinewidth": 2
                    },
                    "yaxis": {
                      "automargin": true,
                      "gridcolor": "white",
                      "linecolor": "white",
                      "ticks": "",
                      "title": {
                        "standoff": 15
                      },
                      "zerolinecolor": "white",
                      "zerolinewidth": 2
                    }
                  }
                },
                "title": {
                  "text": "Distribution of Similarity Scores"
                }
              }
            }
          },
          "metadata": {},
          "output_type": "display_data"
        }
      ],
      "source": [
        "import plotly.express as px\n",
        "\n",
        "# Define similarity categories\n",
        "bins = [0, 60, 80, 100]  # Low (0-40), Medium (40-70), High (70-100)\n",
        "labels = [\"Low Similarity\", \"Medium Similarity\", \"High Similarity\"]\n",
        "df[\"Similarity Category\"] = pd.cut(df[\"comb_sim\"], bins=bins, labels=labels)\n",
        "\n",
        "# Count occurrences in each category\n",
        "category_counts = df[\"Similarity Category\"].value_counts().reset_index()\n",
        "category_counts.columns = [\"Category\", \"Count\"]\n",
        "\n",
        "# Create pie chart\n",
        "fig = px.pie(category_counts, values=\"Count\", names=\"Category\", title=\"Distribution of Similarity Scores\")\n",
        "\n",
        "fig.show()"
      ]
    },
    {
      "cell_type": "code",
      "execution_count": 7,
      "metadata": {},
      "outputs": [
        {
          "name": "stdout",
          "output_type": "stream",
          "text": [
            "Confusion Matrix:\n",
            " [[3 1]\n",
            " [1 7]]\n",
            "Accuracy: 0.83\n",
            "Precision: 0.88\n",
            "Recall: 0.88\n",
            "F1 Score: 0.88\n"
          ]
        }
      ],
      "source": [
        "import numpy as np\n",
        "from sklearn.metrics import accuracy_score, precision_score, recall_score, f1_score, confusion_matrix\n",
        "\n",
        "# Updated model predictions and ground truth values\n",
        "y_true_updated = np.array([True, True, True, False, False, True, False, True, True, False, True, True])\n",
        "y_pred_updated = np.array([True, True, True, False, False, False, True, True, True, False, True, True])\n",
        "\n",
        "# Compute confusion matrix and evaluation metrics\n",
        "conf_matrix_updated = confusion_matrix(y_true_updated, y_pred_updated)\n",
        "accuracy_updated = accuracy_score(y_true_updated, y_pred_updated)\n",
        "precision_updated = precision_score(y_true_updated, y_pred_updated)\n",
        "recall_updated = recall_score(y_true_updated, y_pred_updated)\n",
        "f1_updated = f1_score(y_true_updated, y_pred_updated)\n",
        "\n",
        "# Print results\n",
        "print(\"Confusion Matrix:\\n\", conf_matrix_updated)\n",
        "print(f\"Accuracy: {accuracy_updated:.2f}\")\n",
        "print(f\"Precision: {precision_updated:.2f}\")\n",
        "print(f\"Recall: {recall_updated:.2f}\")\n",
        "print(f\"F1 Score: {f1_updated:.2f}\")\n"
      ]
    },
    {
      "cell_type": "code",
      "execution_count": 4,
      "metadata": {},
      "outputs": [
        {
          "name": "stderr",
          "output_type": "stream",
          "text": [
            "PermutationExplainer explainer: 51it [00:20,  1.48it/s]                        \n"
          ]
        },
        {
          "data": {
            "image/png": "[encoded data removed]",
            "text/plain": [
              "<Figure size 1000x600 with 1 Axes>"
            ]
          },
          "metadata": {},
          "output_type": "display_data"
        }
      ],
      "source": [
        "import numpy as np\n",
        "import tensorflow as tf\n",
        "import pickle\n",
        "import shap\n",
        "import pandas as pd\n",
        "import matplotlib.pyplot as plt\n",
        "from tensorflow.keras.models import load_model\n",
        "from sklearn.preprocessing import StandardScaler\n",
        "\n",
        "def load_model_and_scaler(model_path, scaler_path):\n",
        "    \"\"\" Load trained autoencoder and corresponding scaler \"\"\"\n",
        "    autoencoder = load_model(model_path)\n",
        "    with open(scaler_path, \"rb\") as f:\n",
        "        scaler = pickle.load(f)\n",
        "    return autoencoder, scaler\n",
        "\n",
        "def compute_shap_importance(model, data_sample):\n",
        "    \"\"\" Compute SHAP values for the given data sample \"\"\"\n",
        "    explainer = shap.Explainer(model, data_sample)\n",
        "    shap_values = explainer(data_sample)\n",
        "    return shap_values\n",
        "\n",
        "# def plot_shap_importance(shap_values, feature_names):\n",
        "#     \"\"\" Plot SHAP feature importance using a summary plot \"\"\"\n",
        "#     # Extract SHAP values as NumPy array\n",
        "#     shap_values_array = shap_values.values\n",
        "\n",
        "#     # Ensure feature_names is a NumPy array\n",
        "#     feature_names = np.array(feature_names)\n",
        "\n",
        "#     # Generate SHAP summary plot\n",
        "#     shap.summary_plot(shap_values_array, feature_names=feature_names)\n",
        "\n",
        "def plot_shap_importance(shap_values, feature_names):\n",
        "    \"\"\"Plot SHAP feature importance using a bar chart.\"\"\"\n",
        "    # Extract absolute mean SHAP values safely\n",
        "    if hasattr(shap_values, 'values'):\n",
        "        shap_values_array = np.abs(shap_values.values).mean(axis=0)\n",
        "    else:\n",
        "        # Fallback handling if .values doesn't work\n",
        "        shap_values_array = np.abs(shap_values).mean(axis=0)\n",
        "\n",
        "    # Ensure 1D array\n",
        "    if shap_values_array.ndim > 1:\n",
        "        shap_values_array = shap_values_array.mean(axis=-1)\n",
        "\n",
        "    # Validate array length matches feature names\n",
        "    if len(shap_values_array) != len(feature_names):\n",
        "        raise ValueError(f\"SHAP values length ({len(shap_values_array)}) does not match feature names length ({len(feature_names)})\")\n",
        "\n",
        "    # Create and plot feature importance\n",
        "    feature_importance = dict(zip(feature_names, shap_values_array))\n",
        "    sorted_features = sorted(feature_importance.items(), key=lambda x: float(x[1]), reverse=True)\n",
        "    features, importance_scores = zip(*sorted_features)\n",
        "\n",
        "    plt.figure(figsize=(10, 6))\n",
        "    plt.barh(features, importance_scores, color=\"skyblue\")\n",
        "    plt.xlabel(\"Mean Absolute SHAP Value\")\n",
        "    plt.ylabel(\"Feature Name\")\n",
        "    plt.title(\"Feature Importance using SHAP\")\n",
        "    plt.gca().invert_yaxis()\n",
        "    plt.tight_layout()\n",
        "    plt.show()\n",
        "\n",
        "\n",
        "\n",
        "def main():\n",
        "    model_path = \"models/comprehensive_autoencoder.keras\"\n",
        "    scaler_path = \"models/comprehensive_scaler.pkl\"\n",
        "\n",
        "    # Load trained model and scaler\n",
        "    autoencoder, scaler = load_model_and_scaler(model_path, scaler_path)\n",
        "\n",
        "    # Load dataset\n",
        "    df = pd.read_excel(\"og.xlsx\").dropna()\n",
        "\n",
        "    # Select relevant features\n",
        "    relevant_columns = [\n",
        "        'temperature', 'windspeed', 'humidity', 'precipitation',\n",
        "        'dewpoint', 'cloud_cover', 'pressure', 'solar_radiation',\n",
        "        'sunshine_duration', 'ndvi', 'elevation'\n",
        "    ]\n",
        "    feature_data = df[relevant_columns]\n",
        "\n",
        "    # Scale data\n",
        "    X_scaled = scaler.transform(feature_data.values)\n",
        "\n",
        "    # Select a sample (first 50 rows for better SHAP estimation)\n",
        "    sample_data = X_scaled[:50]\n",
        "\n",
        "    # Compute SHAP values for feature importance\n",
        "    shap_values = compute_shap_importance(autoencoder, sample_data)\n",
        "\n",
        "    # Plot feature importance\n",
        "    plot_shap_importance(shap_values, relevant_columns)\n",
        "\n",
        "if __name__ == \"__main__\":\n",
        "    main()\n"
      ]
    }
  ],
  "metadata": {
    "colab": {
      "provenance": []
    },
    "kernelspec": {
      "display_name": "Python 3",
      "name": "python3"
    },
    "language_info": {
      "codemirror_mode": {
        "name": "ipython",
        "version": 3
      },
      "file_extension": ".py",
      "mimetype": "text/x-python",
      "name": "python",
      "nbconvert_exporter": "python",
      "pygments_lexer": "ipython3",
      "version": "3.12.4"
    }
  },
  "nbformat": 4,
  "nbformat_minor": 0
}
